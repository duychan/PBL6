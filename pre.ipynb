{
 "cells": [
  {
   "cell_type": "code",
   "execution_count": 16,
   "metadata": {},
   "outputs": [
    {
     "data": {
      "text/plain": [
       "((1464,), (1464,), (628,), (628,))"
      ]
     },
     "execution_count": 16,
     "metadata": {},
     "output_type": "execute_result"
    }
   ],
   "source": [
    "import pandas as pd\n",
    "data = pd.read_csv(\"./dataset/news_politics_final.csv\")\n",
    "data = data[[\"Content\", \"Content_processed\", \"label\"]]\n",
    "from sklearn.model_selection import train_test_split\n",
    "X = data[\"Content\"]\n",
    "Y = data.label\n",
    "X_train, X_test, Y_train, Y_test = train_test_split(data[\"Content\"], data[\"label\"], test_size= 0.3, random_state= 42)\n",
    "X_train.shape, Y_train.shape, X_test.shape, Y_test.shape\n"
   ]
  },
  {
   "cell_type": "code",
   "execution_count": 7,
   "metadata": {},
   "outputs": [
    {
     "data": {
      "text/plain": [
       "'Ngày 16/9, Ủy ban Thường vụ Quốc hội cho ý kiến về dự thảo Nghị quyết ban hành một số giải pháp nhằm hỗ trợ doanh nghiệp (DN), người dân chịu tác động của dịch Covid-19.Ngân sách giảm thu khoảng 21.300 tỷ đồngTrình bày tờ trình, Bộ trưởng Tài chính Hồ Đức Phớc cho biết, gói miễn, giảm thuế này có thể làm giảm thu ngân sách khoảng 21.300 tỷ đồng.Theo đó, Chính phủ đề xuất giảm thuế giá trị gia tăng từ ngày 1/10 đến hết ngày 31/12/2021 với doanh nghiệp sản xuất kinh doanh.Lĩnh vực được giảm gồm: Vận tải; dịch vụ lưu trú, ăn uống; hoạt động xuất bản (trừ xuất bản theo hình thức trực tuyến); điện ảnh, sản xuất chương trình truyền hình, ghi âm và xuất bản âm nhạc; các đại lý du lịch; sáng tác, nghệ thuật và giải trí; thư viện, lưu trữ, bảo tàng và các hoạt động văn hóa khác; thể thao, vui chơi và giải trí.Bộ trưởng Tài chính Hồ Đức PhớcDN nộp thuế giá trị gia tăng theo phương pháp tỷ lệ % trên doanh thu, được giảm 30% mức tỷ lệ % tính thuế giá trị gia tăng với hàng hóa, dịch vụ. Số giảm thu ngân sách nhà nước giảm khi áp dụng chính sách này khoảng 5.000 tỷ đồng.Đối tượng được thụ hưởng trực tiếp chính sách giảm 30% thuế giá trị gia tăng là người mua hàng hóa, dịch vụ. Việc giảm thuế này cũng gián tiếp hỗ trợ cho hoạt động sản xuất kinh doanh của DN, khuyến khích bán hàng tốt hơn, nhiều hơn.Cùng với đó, Chính phủ đề nghị giảm 30% số thuế thu nhập\\xa0DN phải nộp của năm 2021 với trường hợp tổng doanh thu năm 2021 không quá 200 tỷ đồng và tổng doanh thu 2021 giảm so năm 2020.Với doanh nghiệp mới thành lập, hoặc chuyển đổi loại hình kinh doanh, hình thức sở hữu (sáp nhập, hợp nhất, chia tách, giải thể, phá sản...) thì không áp dụng tiêu chí tổng doanh thu năm 2021 giảm so với 2020 trong kỳ tính thuế năm 2021.Chính phủ đề xuất bổ sung thêm điều kiện tổng doanh thu năm 2021 giảm so với tổng doanh thu năm 2020 để đảm bảo đối tượng được giảm thuế thực sự bị khó khăn do dịch Covid-19 . Dự kiến số giảm thu ngân sách theo đề xuất này khoảng 2.200 tỷ đồng.Với hộ kinh doanh, cá nhân kinh doanh, Chính phủ đề xuất miễn thuế thu nhập cá nhân, thuế giá trị gia tăng và các loại thuế khác phải nộp phát sinh từ hoạt động sản xuất kinh doanh của các tháng trong quý 3 và quý 4 năm 2021. Dự kiến số giảm thu ngân sách theo phương án này khoảng 8.800 tỷ đồng...Chỉ áp dụng với những DN bị ảnh hưởng dịchNhiều đại biểu băn khoăn về phạm vi áp dụng đối các DN được hỗ trợ. Bởi DN hoạt động có tính liên thông trên cả nước, nhiều DN tuy ở tỉnh không có dịch nhưng hoạt động mua bán, lưu thông hàng hóa của họ lại liên quan đến các tỉnh có dịch và cũng gặp khó khăn như DN ở tỉnh có dịch. Vì vậy nên chăng áp dụng cho tất cả DN trong phạm vi cả nước thay vì \"khoanh vùng\" theo dịch.Chủ tịch Quốc hội Vương Đình Huệ cho rằng, nếu hỗ trợ cho tất cả DN trong toàn quốc thì sẽ dẫn đến việc có vùng, lĩnh vực không chịu tác động bởi dịch lại được hưởng lợi. Chẳng hạn như lĩnh vực sản xuất khẩu trang, thiết bị vật tư y tế tăng trưởng vài chục phần trăm; thương mại điện tử, kinh doanh trực tuyến cũng tăng trưởng.\\xa0Chủ tịch Quốc hội Vương Đình HuệVì vậy cần bóc tách những DN bị ảnh hưởng và thực hiện theo nguyên tắc thuế là \"tiền khai hậu kiểm\", chỉ hỗ trợ DN nào tác động. Điều này cũng thuộc thẩm quyền của\\xa0Ủy ban Thường vụ Quốc hội quyết định.Theo đó, DN nào bị tác động, kê khai thì cơ quan thuế cho hưởng và sẽ hậu kiểm lại. Hiện nay, Tổng cục thuế theo dõi thuế qua điện tử hàng ngày, hàng giờ nên nói không tách bóc được cái này thì đúng không.\"Nguồn lực chúng ta có hạn mà đối tượng được hưởng lại không được, anh khác không đáng được hưởng thì lại được hưởng lợi thì không được\", Chủ tịch Quốc hội lưu ý.Giải trình sau đó, Bộ trưởng Tài chính cho biết, số tiền trong gói miễn, giảm thuế này trong điều kiện thông thường chỉ bằng TP.HCM thu 20 ngày nhưng hiện đang khó khăn, được Thường vụ Quốc hội ủng hộ, Chính phủ trợ giúp cho DN như là \"một miếng khi đói bằng một gói khi no\".\"Đương nhiên việc thiết kế chính sách dựa trên đại lượng trung bình tiên tiến, chứ không thể đạt công bằng 100%. Hiện nay ngân sách đang rất khó khăn. Hàng chục ngàn chiến sĩ công an, quân đội đang tham gia chống dịch ở phía Nam nhưng không có ngân sách để cấp\", Bộ trưởng Hồ Đức Phớc chia sẻ.Về xác định phạm vi người ảnh hưởng của đại dịch mới được hưởng, Bộ trưởng Tài chính cho hay, chỉ có thuế thu nhập DN là áp dụng chung cả nước, không tách riêng từng ngành nghề.\"Còn về hoạt động online, nền tảng số, vật tư y tế đúng là có tăng trưởng chúng tôi tiếp thu và thực hiện giải pháp thực hiện kê khai trước, kiểm tra sau giúp cho việc triển khai nhanh hơn\", ông Phớc nói.Sau khi thảo luận, Ủy ban Thường vụ thống nhất với phương án, hoàn thiện dự thảo nghị quyết theo hướng chỉ áp dụng với những DN bị ảnh hưởng dịch và thực hiện\\xa0\"tiền khai hậu kiểm\", sau đó trình Chủ tịch Quốc hội ký ban hành trước ngày 1/10.“Bài tuyên truyền thực hiện Nghị quyết 84/NQ-CP ngày 29/5/2020 của Chính phủ\"Thu HằngXem xét miễn, giảm thuế hỗ trợ doanh nghiệp, người dân khó khăn do Covid-19Ủy ban Thường vụ Quốc hội sẽ xem xét, quyết định ban hành một số giải pháp về miễn, giảm thuế nhằm hỗ trợ doanh nghiệp, người dân chịu tác động của dịch Covid-19.'"
      ]
     },
     "execution_count": 7,
     "metadata": {},
     "output_type": "execute_result"
    }
   ],
   "source": [
    "X_test.iloc[1]"
   ]
  },
  {
   "cell_type": "code",
   "execution_count": 31,
   "metadata": {},
   "outputs": [],
   "source": [
    "def remove_stop_words(X):\n",
    "    with open('vietnamese-stopwords.txt') as f:\n",
    "      stop_words = f.readlines()\n",
    "      stop_words = list(set(m.replace(' ', '_').strip() for m in stop_words))\n",
    "      for doc in X:\n",
    "        arr = []\n",
    "        try:\n",
    "          for word in doc.split(' '):\n",
    "            if word not in stop_words:\n",
    "              arr.append(word)\n",
    "        except:\n",
    "          print(word)\n",
    "        temp = \" \".join(arr)\n",
    "        X = X.replace(doc, temp)\n",
    "    return X"
   ]
  },
  {
   "cell_type": "code",
   "execution_count": 32,
   "metadata": {},
   "outputs": [
    {
     "data": {
      "text/plain": [
       "1521    Trong qua, tình hình vi phạm nhân quyền Việt N...\n",
       "1431    Sau lá thư Dân biểu Quốc hội Liên bang Hoa Kỳ ...\n",
       "772     Ngày 26/2, Phó Thủ tướng Thường trực Chính phủ...\n",
       "651     Thu hồi dự án hoang: “Tôi này”Có thực tế đối n...\n",
       "43       Chuyến thăm Tổng thống Julius Maada Bio diễn ...\n",
       "                              ...                        \n",
       "1638    Tóm lược “Vietnam Wins Seat on UN Human Rights...\n",
       "1095    Vụ quyền cộng sản Việt Nam tuyên bố tước quốc ...\n",
       "1130    7-4-2017 Gia đình tù nhân lương tâm Trần Huỳnh...\n",
       "1294    Trong thập niên đây, đặc biệt khu vực Á Châu, ...\n",
       "860     Chiều 13/11, Thủ tướng Phạm Minh Chính chủ trì...\n",
       "Name: Content, Length: 1464, dtype: object"
      ]
     },
     "execution_count": 32,
     "metadata": {},
     "output_type": "execute_result"
    }
   ],
   "source": [
    "remove_stop_words(X_train)"
   ]
  },
  {
   "cell_type": "code",
   "execution_count": 8,
   "metadata": {},
   "outputs": [],
   "source": [
    "from preprocess import Preprocesser\n",
    "x = Preprocesser()\n"
   ]
  },
  {
   "cell_type": "code",
   "execution_count": 9,
   "metadata": {},
   "outputs": [],
   "source": [
    "z = x.fit_transform(X_train)"
   ]
  },
  {
   "cell_type": "code",
   "execution_count": 18,
   "metadata": {},
   "outputs": [
    {
     "data": {
      "text/plain": [
       "2067    quốc_hội việt_nam đầu chính_thức phê_chuẩn hiệ...\n",
       "498     trả_lời pv trung_quốc áp_dụng cấm đánh_bắt cá ...\n",
       "961     thông_tin báo_chí phó bí_thư thường_trực thành...\n",
       "979     trung_tướng tô_ân_xô phát_ngôn chánh_văn_phòng...\n",
       "1746    sea_games tổ_chức việt_nam designer trẻ nhận_x...\n",
       "                              ...                        \n",
       "618     chiều hđnd tỉnh lạng_sơn khóa tổ_chức phiên họ...\n",
       "889     ủy_ban asean washington_d c làm_việc stephen_c...\n",
       "428     lê_phú_nguyện trưởng_phòng tổ_chức biên_chế tổ...\n",
       "540     đầu phát_biểu thủ_tướng thay_mặt chính_phủ nhâ...\n",
       "1634    cư_dân mạng việt_nam hồi tuần phản_ứng phát_bi...\n",
       "Name: Content, Length: 1464, dtype: object"
      ]
     },
     "execution_count": 18,
     "metadata": {},
     "output_type": "execute_result"
    }
   ],
   "source": [
    "z"
   ]
  },
  {
   "cell_type": "code",
   "execution_count": 22,
   "metadata": {},
   "outputs": [],
   "source": [
    "vvv = z.iloc[1]"
   ]
  },
  {
   "cell_type": "code",
   "execution_count": 23,
   "metadata": {},
   "outputs": [],
   "source": [
    "vv = data[\"Content_processed\"].loc[498]"
   ]
  },
  {
   "cell_type": "code",
   "execution_count": 33,
   "metadata": {},
   "outputs": [
    {
     "data": {
      "text/plain": [
       "128"
      ]
     },
     "execution_count": 33,
     "metadata": {},
     "output_type": "execute_result"
    }
   ],
   "source": [
    "len(vv.split())"
   ]
  },
  {
   "cell_type": "code",
   "execution_count": 4,
   "metadata": {},
   "outputs": [],
   "source": [
    "content_clean1 = x.fit_transform(data[\"Content_processed\"])\n",
    "data[\"Content_processed1\"] = content_clean1"
   ]
  },
  {
   "cell_type": "code",
   "execution_count": 5,
   "metadata": {},
   "outputs": [
    {
     "data": {
      "text/html": [
       "<div>\n",
       "<style scoped>\n",
       "    .dataframe tbody tr th:only-of-type {\n",
       "        vertical-align: middle;\n",
       "    }\n",
       "\n",
       "    .dataframe tbody tr th {\n",
       "        vertical-align: top;\n",
       "    }\n",
       "\n",
       "    .dataframe thead th {\n",
       "        text-align: right;\n",
       "    }\n",
       "</style>\n",
       "<table border=\"1\" class=\"dataframe\">\n",
       "  <thead>\n",
       "    <tr style=\"text-align: right;\">\n",
       "      <th></th>\n",
       "      <th>Content</th>\n",
       "      <th>label</th>\n",
       "      <th>Content_processed</th>\n",
       "      <th>Content_processed1</th>\n",
       "    </tr>\n",
       "  </thead>\n",
       "  <tbody>\n",
       "    <tr>\n",
       "      <th>0</th>\n",
       "      <td>dân_trí trân_trọng giới_thiệu toàn_văn tuyên_b...</td>\n",
       "      <td>real</td>\n",
       "      <td>dân_trí trân_trọng giới_thiệu toàn_văn tuyên_b...</td>\n",
       "      <td>dân_trí trân_trọng giới_thiệu toàn_văn tuyên_b...</td>\n",
       "    </tr>\n",
       "    <tr>\n",
       "      <th>1</th>\n",
       "      <td>tổng_bí_thư nguyễn_phú_trọng hội_kiến chủ_tịch...</td>\n",
       "      <td>real</td>\n",
       "      <td>tổng_bí_thư nguyễn_phú_trọng hội_kiến chủ_tịch...</td>\n",
       "      <td>tổng_bí_thư nguyễn_phú_trọng hội_kiến chủ_tịch...</td>\n",
       "    </tr>\n",
       "    <tr>\n",
       "      <th>2</th>\n",
       "      <td>tổng_bí_thư nguyễn_phú_trọng hội_kiến chủ_tịch...</td>\n",
       "      <td>real</td>\n",
       "      <td>tổng_bí_thư nguyễn_phú_trọng hội_kiến chủ_tịch...</td>\n",
       "      <td>tổng_bí_thư nguyễn_phú_trọng hội_kiến chủ_tịch...</td>\n",
       "    </tr>\n",
       "    <tr>\n",
       "      <th>3</th>\n",
       "      <td>thảo_luận hội_trường quốc_hội dự_thảo luật_phò...</td>\n",
       "      <td>real</td>\n",
       "      <td>thảo_luận hội_trường quốc_hội dự_thảo luật_phò...</td>\n",
       "      <td>thảo_luận hội_trường quốc_hội dự_thảo luật_phò...</td>\n",
       "    </tr>\n",
       "    <tr>\n",
       "      <th>4</th>\n",
       "      <td>thường_trực_ban_bí_thư võ_văn_thưởng hội_đàm ủ...</td>\n",
       "      <td>real</td>\n",
       "      <td>thường_trực_ban_bí_thư võ_văn_thưởng hội_đàm ủ...</td>\n",
       "      <td>thường_trực_ban_bí_thư võ_văn_thưởng hội_đàm ủ...</td>\n",
       "    </tr>\n",
       "    <tr>\n",
       "      <th>...</th>\n",
       "      <td>...</td>\n",
       "      <td>...</td>\n",
       "      <td>...</td>\n",
       "      <td>...</td>\n",
       "    </tr>\n",
       "    <tr>\n",
       "      <th>2087</th>\n",
       "      <td>tờ the_guardian ấn_bản úc hôm chủ_nhật tháng_s...</td>\n",
       "      <td>fake</td>\n",
       "      <td>tờ the_guardian ấn_bản úc hôm chủ_nhật tháng_s...</td>\n",
       "      <td>tờ the_guardian ấn_bản úc hôm chủ_nhật tháng_s...</td>\n",
       "    </tr>\n",
       "    <tr>\n",
       "      <th>2088</th>\n",
       "      <td>quốc_hội việt_nam hôm_nay tỷ_lệ biểu_quyết tán...</td>\n",
       "      <td>fake</td>\n",
       "      <td>quốc_hội việt_nam hôm_nay tỷ_lệ biểu_quyết tán...</td>\n",
       "      <td>quốc_hội việt_nam hôm_nay tỷ_lệ biểu_quyết tán...</td>\n",
       "    </tr>\n",
       "    <tr>\n",
       "      <th>2089</th>\n",
       "      <td>hiến_pháp dân quyền tự_do báo_chí luật báo_chí...</td>\n",
       "      <td>fake</td>\n",
       "      <td>hiến_pháp dân_quyền tự_do báo_chí luật báo_chí...</td>\n",
       "      <td>hiến_pháp dân_quyền tự_do báo_chí luật báo_chí...</td>\n",
       "    </tr>\n",
       "    <tr>\n",
       "      <th>2090</th>\n",
       "      <td>hai bắt_giữ xảy hai tổ_chức phóng_viên biên_gi...</td>\n",
       "      <td>fake</td>\n",
       "      <td>hai bắt_giữ xảy hai tổ_chức phóng_viên biên_gi...</td>\n",
       "      <td>hai bắt_giữ xảy hai tổ_chức phóng_viên biên_gi...</td>\n",
       "    </tr>\n",
       "    <tr>\n",
       "      <th>2091</th>\n",
       "      <td>tuyên_bố hội nhà_báo độc_lập việt_nam nguyễn_t...</td>\n",
       "      <td>fake</td>\n",
       "      <td>tuyên_bố hội nhà_báo độc_lập việt_nam nguyễn_t...</td>\n",
       "      <td>tuyên_bố hội nhà_báo độc_lập việt_nam nguyễn_t...</td>\n",
       "    </tr>\n",
       "  </tbody>\n",
       "</table>\n",
       "<p>2092 rows × 4 columns</p>\n",
       "</div>"
      ],
      "text/plain": [
       "                                                Content label  \\\n",
       "0     dân_trí trân_trọng giới_thiệu toàn_văn tuyên_b...  real   \n",
       "1     tổng_bí_thư nguyễn_phú_trọng hội_kiến chủ_tịch...  real   \n",
       "2     tổng_bí_thư nguyễn_phú_trọng hội_kiến chủ_tịch...  real   \n",
       "3     thảo_luận hội_trường quốc_hội dự_thảo luật_phò...  real   \n",
       "4     thường_trực_ban_bí_thư võ_văn_thưởng hội_đàm ủ...  real   \n",
       "...                                                 ...   ...   \n",
       "2087  tờ the_guardian ấn_bản úc hôm chủ_nhật tháng_s...  fake   \n",
       "2088  quốc_hội việt_nam hôm_nay tỷ_lệ biểu_quyết tán...  fake   \n",
       "2089  hiến_pháp dân quyền tự_do báo_chí luật báo_chí...  fake   \n",
       "2090  hai bắt_giữ xảy hai tổ_chức phóng_viên biên_gi...  fake   \n",
       "2091  tuyên_bố hội nhà_báo độc_lập việt_nam nguyễn_t...  fake   \n",
       "\n",
       "                                      Content_processed  \\\n",
       "0     dân_trí trân_trọng giới_thiệu toàn_văn tuyên_b...   \n",
       "1     tổng_bí_thư nguyễn_phú_trọng hội_kiến chủ_tịch...   \n",
       "2     tổng_bí_thư nguyễn_phú_trọng hội_kiến chủ_tịch...   \n",
       "3     thảo_luận hội_trường quốc_hội dự_thảo luật_phò...   \n",
       "4     thường_trực_ban_bí_thư võ_văn_thưởng hội_đàm ủ...   \n",
       "...                                                 ...   \n",
       "2087  tờ the_guardian ấn_bản úc hôm chủ_nhật tháng_s...   \n",
       "2088  quốc_hội việt_nam hôm_nay tỷ_lệ biểu_quyết tán...   \n",
       "2089  hiến_pháp dân_quyền tự_do báo_chí luật báo_chí...   \n",
       "2090  hai bắt_giữ xảy hai tổ_chức phóng_viên biên_gi...   \n",
       "2091  tuyên_bố hội nhà_báo độc_lập việt_nam nguyễn_t...   \n",
       "\n",
       "                                     Content_processed1  \n",
       "0     dân_trí trân_trọng giới_thiệu toàn_văn tuyên_b...  \n",
       "1     tổng_bí_thư nguyễn_phú_trọng hội_kiến chủ_tịch...  \n",
       "2     tổng_bí_thư nguyễn_phú_trọng hội_kiến chủ_tịch...  \n",
       "3     thảo_luận hội_trường quốc_hội dự_thảo luật_phò...  \n",
       "4     thường_trực_ban_bí_thư võ_văn_thưởng hội_đàm ủ...  \n",
       "...                                                 ...  \n",
       "2087  tờ the_guardian ấn_bản úc hôm chủ_nhật tháng_s...  \n",
       "2088  quốc_hội việt_nam hôm_nay tỷ_lệ biểu_quyết tán...  \n",
       "2089  hiến_pháp dân_quyền tự_do báo_chí luật báo_chí...  \n",
       "2090  hai bắt_giữ xảy hai tổ_chức phóng_viên biên_gi...  \n",
       "2091  tuyên_bố hội nhà_báo độc_lập việt_nam nguyễn_t...  \n",
       "\n",
       "[2092 rows x 4 columns]"
      ]
     },
     "execution_count": 5,
     "metadata": {},
     "output_type": "execute_result"
    }
   ],
   "source": [
    "data"
   ]
  }
 ],
 "metadata": {
  "kernelspec": {
   "display_name": "Python 3",
   "language": "python",
   "name": "python3"
  },
  "language_info": {
   "codemirror_mode": {
    "name": "ipython",
    "version": 3
   },
   "file_extension": ".py",
   "mimetype": "text/x-python",
   "name": "python",
   "nbconvert_exporter": "python",
   "pygments_lexer": "ipython3",
   "version": "3.10.5 (v3.10.5:f377153967, Jun  6 2022, 12:36:10) [Clang 13.0.0 (clang-1300.0.29.30)]"
  },
  "orig_nbformat": 4,
  "vscode": {
   "interpreter": {
    "hash": "aee8b7b246df8f9039afb4144a1f6fd8d2ca17a180786b69acc140d282b71a49"
   }
  }
 },
 "nbformat": 4,
 "nbformat_minor": 2
}
