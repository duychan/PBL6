{
 "cells": [
  {
   "cell_type": "code",
   "execution_count": 45,
   "metadata": {},
   "outputs": [],
   "source": [
    "import warnings\n",
    "warnings.filterwarnings('ignore')"
   ]
  },
  {
   "cell_type": "code",
   "execution_count": 46,
   "metadata": {},
   "outputs": [],
   "source": [
    "import pickle\n",
    "from sklearn.model_selection import train_test_split\n",
    "from sklearn.metrics import classification_report\n",
    "import pandas as pd"
   ]
  },
  {
   "cell_type": "code",
   "execution_count": 47,
   "metadata": {},
   "outputs": [],
   "source": [
    "data = pd.read_csv(\"./dataset/news_politics_final.csv\")"
   ]
  },
  {
   "cell_type": "code",
   "execution_count": 48,
   "metadata": {},
   "outputs": [
    {
     "data": {
      "text/plain": [
       "((1464,), (628,), (1464,), (628,))"
      ]
     },
     "execution_count": 48,
     "metadata": {},
     "output_type": "execute_result"
    }
   ],
   "source": [
    "X_train_pipe, X_test_pipe, Y_train_pipe, Y_test_pipe = train_test_split(data[\"Content\"], data[\"label\"], test_size= 0.3, random_state= 42)\n",
    "X_train_pipe.shape, X_test_pipe.shape, Y_train_pipe.shape, Y_test_pipe.shape"
   ]
  },
  {
   "cell_type": "code",
   "execution_count": 49,
   "metadata": {},
   "outputs": [],
   "source": [
    "SVM_tf_idf = pickle.load(open(\"./Model_SVM/model_svm.sav\", \"rb\"))\n",
    "y_svm_tf_idf_predict = SVM_tf_idf.predict(X_test_pipe)\n",
    "print(classification_report(Y_test_pipe, y_svm_tf_idf_predict, digits=4))"
   ]
  },
  {
   "cell_type": "code",
   "execution_count": null,
   "metadata": {},
   "outputs": [
    {
     "name": "stdout",
     "output_type": "stream",
     "text": [
      "              precision    recall  f1-score   support\n",
      "\n",
      "        fake     0.9143    0.9796    0.9458       294\n",
      "        real     0.9808    0.9192    0.9490       334\n",
      "\n",
      "    accuracy                         0.9475       628\n",
      "   macro avg     0.9476    0.9494    0.9474       628\n",
      "weighted avg     0.9497    0.9475    0.9475       628\n",
      "\n"
     ]
    }
   ],
   "source": [
    "\n",
    "KNN_model = pickle.load(open(\"./Model_KNN/Word2Vec_pickle_KNN.pkl\", \"rb\"))\n",
    "KNN_pred = KNN_model.predict(X_test_pipe)\n",
    "print(classification_report(Y_test_pipe, KNN_pred, digits=4))"
   ]
  },
  {
   "cell_type": "code",
   "execution_count": null,
   "metadata": {},
   "outputs": [
    {
     "name": "stdout",
     "output_type": "stream",
     "text": [
      "              precision    recall  f1-score   support\n",
      "\n",
      "        fake     0.9267    0.9456    0.9360       294\n",
      "        real     0.9512    0.9341    0.9426       334\n",
      "\n",
      "    accuracy                         0.9395       628\n",
      "   macro avg     0.9389    0.9399    0.9393       628\n",
      "weighted avg     0.9397    0.9395    0.9395       628\n",
      "\n"
     ]
    }
   ],
   "source": [
    "\n",
    "NB_model = pickle.load(open(\"./Model_NB/Word2Vec_pickle_NB.pkl\", \"rb\"))\n",
    "NB_pred = NB_model.predict(X_test_pipe)\n",
    "print(classification_report(Y_test_pipe, NB_pred, digits=4))"
   ]
  },
  {
   "cell_type": "code",
   "execution_count": null,
   "metadata": {},
   "outputs": [
    {
     "name": "stdout",
     "output_type": "stream",
     "text": [
      "20/20 [==============================] - 1s 47ms/step\n",
      "              precision    recall  f1-score   support\n",
      "\n",
      "        fake     0.9267    0.9456    0.9360       294\n",
      "        real     0.9512    0.9341    0.9426       334\n",
      "\n",
      "    accuracy                         0.9395       628\n",
      "   macro avg     0.9389    0.9399    0.9393       628\n",
      "weighted avg     0.9397    0.9395    0.9395       628\n",
      "\n"
     ]
    }
   ],
   "source": [
    "LSTM_model = pickle.load(open(\"./Model_LSTM/LSTM_pickle.pkl\", \"rb\"))\n",
    "LSTM_pred = LSTM_model.predict(X_test_pipe)\n",
    "print(classification_report(Y_test_pipe, NB_pred, digits=4))"
   ]
  }
 ],
 "metadata": {
  "language_info": {
   "name": "python"
  },
  "orig_nbformat": 4
 },
 "nbformat": 4,
 "nbformat_minor": 2
}
