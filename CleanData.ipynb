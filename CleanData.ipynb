{
 "cells": [
  {
   "cell_type": "code",
   "execution_count": 1,
   "metadata": {},
   "outputs": [],
   "source": [
    "import numpy as np\n",
    "import pandas as pd"
   ]
  },
  {
   "cell_type": "code",
   "execution_count": 5,
   "metadata": {},
   "outputs": [],
   "source": [
    "stop = pd.read_csv(\"D:/Ki7/PBL6/vietnamese.txt\")\n",
    "stop = stop.values.tolist()\n",
    "stop_words=[]\n",
    "for i in range(len(stop)):\n",
    "    stop_words.append(stop[i][0].replace(' ','_'))"
   ]
  },
  {
   "cell_type": "code",
   "execution_count": 6,
   "metadata": {},
   "outputs": [],
   "source": [
    "def remove_stop_words(text):\n",
    "    results = []\n",
    "   \n",
    "    tmp = text.split(' ')\n",
    "    for stop_word in stop_words:\n",
    "        if stop_word in tmp:\n",
    "            tmp.remove(stop_word)\n",
    "    results.append(\" \".join(tmp))\n",
    "        \n",
    "    return results"
   ]
  },
  {
   "cell_type": "code",
   "execution_count": 7,
   "metadata": {},
   "outputs": [
    {
     "name": "stderr",
     "output_type": "stream",
     "text": [
      "C:\\Users\\hotai\\AppData\\Local\\Packages\\PythonSoftwareFoundation.Python.3.10_qbz5n2kfra8p0\\LocalCache\\local-packages\\Python310\\site-packages\\underthesea\\utils\\__init__.py:12: UserWarning: Failed to initialize NumPy: module compiled against API version 0x10 but this version of numpy is 0xf (Triggered internally at  ..\\torch\\csrc\\utils\\tensor_numpy.cpp:68.)\n",
      "  device = torch.device(\"cpu\")\n"
     ]
    }
   ],
   "source": [
    "import re\n",
    "from underthesea import word_tokenize\n",
    "\n",
    "def remove_html(txt):\n",
    "    return re.sub(r'<[^>]*>', '', txt)\n",
    "\n",
    "uniChars = \"àáảãạâầấẩẫậăằắẳẵặèéẻẽẹêềếểễệđìíỉĩịòóỏõọôồốổỗộơờớởỡợùúủũụưừứửữựỳýỷỹỵÀÁẢÃẠÂẦẤẨẪẬĂẰẮẲẴẶÈÉẺẼẸÊỀẾỂỄỆĐÌÍỈĨỊÒÓỎÕỌÔỒỐỔỖỘƠỜỚỞỠỢÙÚỦŨỤƯỪỨỬỮỰỲÝỶỸỴÂĂĐÔƠƯ\"\n",
    "unsignChars = \"aaaaaaaaaaaaaaaaaeeeeeeeeeeediiiiiooooooooooooooooouuuuuuuuuuuyyyyyAAAAAAAAAAAAAAAAAEEEEEEEEEEEDIIIOOOOOOOOOOOOOOOOOOOUUUUUUUUUUUYYYYYAADOOU\"\n",
    " \n",
    " \n",
    "def loaddicchar():\n",
    "    dic = {}\n",
    "    char1252 = 'à|á|ả|ã|ạ|ầ|ấ|ẩ|ẫ|ậ|ằ|ắ|ẳ|ẵ|ặ|è|é|ẻ|ẽ|ẹ|ề|ế|ể|ễ|ệ|ì|í|ỉ|ĩ|ị|ò|ó|ỏ|õ|ọ|ồ|ố|ổ|ỗ|ộ|ờ|ớ|ở|ỡ|ợ|ù|ú|ủ|ũ|ụ|ừ|ứ|ử|ữ|ự|ỳ|ý|ỷ|ỹ|ỵ|À|Á|Ả|Ã|Ạ|Ầ|Ấ|Ẩ|Ẫ|Ậ|Ằ|Ắ|Ẳ|Ẵ|Ặ|È|É|Ẻ|Ẽ|Ẹ|Ề|Ế|Ể|Ễ|Ệ|Ì|Í|Ỉ|Ĩ|Ị|Ò|Ó|Ỏ|Õ|Ọ|Ồ|Ố|Ổ|Ỗ|Ộ|Ờ|Ớ|Ở|Ỡ|Ợ|Ù|Ú|Ủ|Ũ|Ụ|Ừ|Ứ|Ử|Ữ|Ự|Ỳ|Ý|Ỷ|Ỹ|Ỵ'.split(\n",
    "        '|')\n",
    "    charutf8 = \"à|á|ả|ã|ạ|ầ|ấ|ẩ|ẫ|ậ|ằ|ắ|ẳ|ẵ|ặ|è|é|ẻ|ẽ|ẹ|ề|ế|ể|ễ|ệ|ì|í|ỉ|ĩ|ị|ò|ó|ỏ|õ|ọ|ồ|ố|ổ|ỗ|ộ|ờ|ớ|ở|ỡ|ợ|ù|ú|ủ|ũ|ụ|ừ|ứ|ử|ữ|ự|ỳ|ý|ỷ|ỹ|ỵ|À|Á|Ả|Ã|Ạ|Ầ|Ấ|Ẩ|Ẫ|Ậ|Ằ|Ắ|Ẳ|Ẵ|Ặ|È|É|Ẻ|Ẽ|Ẹ|Ề|Ế|Ể|Ễ|Ệ|Ì|Í|Ỉ|Ĩ|Ị|Ò|Ó|Ỏ|Õ|Ọ|Ồ|Ố|Ổ|Ỗ|Ộ|Ờ|Ớ|Ở|Ỡ|Ợ|Ù|Ú|Ủ|Ũ|Ụ|Ừ|Ứ|Ử|Ữ|Ự|Ỳ|Ý|Ỷ|Ỹ|Ỵ\".split(\n",
    "        '|')\n",
    "    for i in range(len(char1252)):\n",
    "        dic[char1252[i]] = charutf8[i]\n",
    "    return dic\n",
    " \n",
    " \n",
    "dicchar = loaddicchar()\n",
    " \n",
    "# Đưa toàn bộ dữ liệu qua hàm này để chuẩn hóa lại\n",
    "def convert_unicode(txt):\n",
    "    return re.sub(\n",
    "        r'à|á|ả|ã|ạ|ầ|ấ|ẩ|ẫ|ậ|ằ|ắ|ẳ|ẵ|ặ|è|é|ẻ|ẽ|ẹ|ề|ế|ể|ễ|ệ|ì|í|ỉ|ĩ|ị|ò|ó|ỏ|õ|ọ|ồ|ố|ổ|ỗ|ộ|ờ|ớ|ở|ỡ|ợ|ù|ú|ủ|ũ|ụ|ừ|ứ|ử|ữ|ự|ỳ|ý|ỷ|ỹ|ỵ|À|Á|Ả|Ã|Ạ|Ầ|Ấ|Ẩ|Ẫ|Ậ|Ằ|Ắ|Ẳ|Ẵ|Ặ|È|É|Ẻ|Ẽ|Ẹ|Ề|Ế|Ể|Ễ|Ệ|Ì|Í|Ỉ|Ĩ|Ị|Ò|Ó|Ỏ|Õ|Ọ|Ồ|Ố|Ổ|Ỗ|Ộ|Ờ|Ớ|Ở|Ỡ|Ợ|Ù|Ú|Ủ|Ũ|Ụ|Ừ|Ứ|Ử|Ữ|Ự|Ỳ|Ý|Ỷ|Ỹ|Ỵ',\n",
    "        lambda x: dicchar[x.group()], txt)\n",
    "     \n",
    "def text_preprocess(document):\n",
    "    # xóa html code\n",
    "    document = remove_html(document)\n",
    "    # chuẩn hóa unicode\n",
    "    document = convert_unicode(document)\n",
    "    # tách từ\n",
    "    document = word_tokenize(document, format=\"text\")\n",
    "    # đưa về lower\n",
    "    document = document.lower()\n",
    "    # xóa các ký tự không cần thiết\n",
    "    document = re.sub(r'[^\\s\\wáàảãạăắằẳẵặâấầẩẫậéèẻẽẹêếềểễệóòỏõọôốồổỗộơớờởỡợíìỉĩịúùủũụưứừửữựýỳỷỹỵđ_]',' ',document)\n",
    "    # xóa khoảng trắng thừa\n",
    "    document = re.sub(r'\\s+', ' ', document).strip()\n",
    "    return document"
   ]
  },
  {
   "cell_type": "code",
   "execution_count": 8,
   "metadata": {},
   "outputs": [],
   "source": [
    "def remove_SC(sin):\n",
    "    \n",
    "    s = sin.replace('“',' ')\n",
    "    s = s.replace('”',' ')\n",
    "    s = s.replace('!',' ')\n",
    "    s = s.replace('.',' ')\n",
    "    s = s.replace('*',' ')\n",
    "    s = s.replace('&',' ')\n",
    "    s = s.replace('^',' ')\n",
    "    s = s.replace('#',' ')\n",
    "    s = s.replace('$',' ')\n",
    "    s = s.replace('-',' ')\n",
    "    s = s.replace('+',' ')\n",
    "    s = s.replace('_',' ')\n",
    "    s = s.replace('=',' ')\n",
    "    s = s.replace(':',' ')\n",
    "    s = s.replace(';',' ')\n",
    "    s = s.replace('{',' ')\n",
    "    s = s.replace('}',' ')\n",
    "    s = s.replace(',',' ')\n",
    "    s = s.replace('?',' ')\n",
    "    s = s.replace('|',' ')\n",
    "    s = s.replace('/',' ')\n",
    "    return s\n"
   ]
  },
  {
   "cell_type": "markdown",
   "metadata": {},
   "source": [
    "Real new"
   ]
  },
  {
   "cell_type": "code",
   "execution_count": 58,
   "metadata": {},
   "outputs": [],
   "source": [
    "datareal=pd.read_csv('real_news.csv')"
   ]
  },
  {
   "cell_type": "code",
   "execution_count": 59,
   "metadata": {},
   "outputs": [
    {
     "data": {
      "text/plain": [
       "Unnamed: 0     0\n",
       "Title         18\n",
       "Content       18\n",
       "dtype: int64"
      ]
     },
     "execution_count": 59,
     "metadata": {},
     "output_type": "execute_result"
    }
   ],
   "source": [
    "datareal.isnull().sum()"
   ]
  },
  {
   "cell_type": "code",
   "execution_count": 61,
   "metadata": {},
   "outputs": [],
   "source": [
    "datareal=datareal.dropna()"
   ]
  },
  {
   "cell_type": "code",
   "execution_count": 62,
   "metadata": {},
   "outputs": [
    {
     "data": {
      "text/plain": [
       "562"
      ]
     },
     "execution_count": 62,
     "metadata": {},
     "output_type": "execute_result"
    }
   ],
   "source": [
    "len(datareal)"
   ]
  },
  {
   "cell_type": "code",
   "execution_count": 67,
   "metadata": {},
   "outputs": [],
   "source": [
    "realnews = pd.read_csv('real_news.csv')"
   ]
  },
  {
   "cell_type": "code",
   "execution_count": 72,
   "metadata": {},
   "outputs": [
    {
     "name": "stderr",
     "output_type": "stream",
     "text": [
      "C:\\Users\\hotai\\AppData\\Local\\Temp\\ipykernel_7904\\1757650231.py:2: SettingWithCopyWarning: \n",
      "A value is trying to be set on a copy of a slice from a DataFrame\n",
      "\n",
      "See the caveats in the documentation: https://pandas.pydata.org/pandas-docs/stable/user_guide/indexing.html#returning-a-view-versus-a-copy\n",
      "  realnews.Content[i] = remove_stop_words(str(realnews.Content[i]))[0]\n",
      "C:\\Users\\hotai\\AppData\\Local\\Temp\\ipykernel_7904\\1757650231.py:3: SettingWithCopyWarning: \n",
      "A value is trying to be set on a copy of a slice from a DataFrame\n",
      "\n",
      "See the caveats in the documentation: https://pandas.pydata.org/pandas-docs/stable/user_guide/indexing.html#returning-a-view-versus-a-copy\n",
      "  realnews.Title[i] = remove_stop_words(str(realnews.Title[i]))[0]\n"
     ]
    }
   ],
   "source": [
    "for i in range(len(realnews)):\n",
    "   realnews.Content[i] = remove_stop_words(str(realnews.Content[i]))[0]\n",
    "   realnews.Title[i] = remove_stop_words(str(realnews.Title[i]))[0]"
   ]
  },
  {
   "cell_type": "code",
   "execution_count": 73,
   "metadata": {},
   "outputs": [
    {
     "data": {
      "text/html": [
       "<div>\n",
       "<style scoped>\n",
       "    .dataframe tbody tr th:only-of-type {\n",
       "        vertical-align: middle;\n",
       "    }\n",
       "\n",
       "    .dataframe tbody tr th {\n",
       "        vertical-align: top;\n",
       "    }\n",
       "\n",
       "    .dataframe thead th {\n",
       "        text-align: right;\n",
       "    }\n",
       "</style>\n",
       "<table border=\"1\" class=\"dataframe\">\n",
       "  <thead>\n",
       "    <tr style=\"text-align: right;\">\n",
       "      <th></th>\n",
       "      <th>Unnamed: 0.1</th>\n",
       "      <th>Unnamed: 0</th>\n",
       "      <th>Title</th>\n",
       "      <th>Content</th>\n",
       "    </tr>\n",
       "  </thead>\n",
       "  <tbody>\n",
       "    <tr>\n",
       "      <th>0</th>\n",
       "      <td>0</td>\n",
       "      <td>0</td>\n",
       "      <td>chiến_đấu giặc lửa chiến_sĩ hy_sinh thương_tật...</td>\n",
       "      <td>nhân kỷ_niệm 61 truyền_thống lực_lượng cảnh_sá...</td>\n",
       "    </tr>\n",
       "    <tr>\n",
       "      <th>1</th>\n",
       "      <td>1</td>\n",
       "      <td>1</td>\n",
       "      <td>thủ_tướng khắc_phục hậu_quả bão noru tuyệt_đối...</td>\n",
       "      <td>1 10 trụ_sở chính_phủ thủ_tướng phạm_minh_chín...</td>\n",
       "    </tr>\n",
       "    <tr>\n",
       "      <th>2</th>\n",
       "      <td>2</td>\n",
       "      <td>2</td>\n",
       "      <td>báo_chí góp_phần lan tỏa hình_ảnh đẹp lực_lượn...</td>\n",
       "      <td>chiều 30 9 hà_nội thiếu_tướng đỗ_triệu_phong c...</td>\n",
       "    </tr>\n",
       "    <tr>\n",
       "      <th>3</th>\n",
       "      <td>3</td>\n",
       "      <td>3</td>\n",
       "      <td>thông_tin truyền_thông điều_động bổ_nhiệm cán_...</td>\n",
       "      <td>chiều 30 9 hà_nội bộ_trưởng tt tt nguyễn_mạnh_...</td>\n",
       "    </tr>\n",
       "    <tr>\n",
       "      <th>4</th>\n",
       "      <td>4</td>\n",
       "      <td>4</td>\n",
       "      <td>phó giám_đốc sở nội_vụ bắc_ninh nghỉ_việc</td>\n",
       "      <td>30 9 lãnh_đạo sở nội_vụ tỉnh bắc_ninh nguyễn_t...</td>\n",
       "    </tr>\n",
       "  </tbody>\n",
       "</table>\n",
       "</div>"
      ],
      "text/plain": [
       "   Unnamed: 0.1  Unnamed: 0  \\\n",
       "0             0           0   \n",
       "1             1           1   \n",
       "2             2           2   \n",
       "3             3           3   \n",
       "4             4           4   \n",
       "\n",
       "                                               Title  \\\n",
       "0  chiến_đấu giặc lửa chiến_sĩ hy_sinh thương_tật...   \n",
       "1  thủ_tướng khắc_phục hậu_quả bão noru tuyệt_đối...   \n",
       "2  báo_chí góp_phần lan tỏa hình_ảnh đẹp lực_lượn...   \n",
       "3  thông_tin truyền_thông điều_động bổ_nhiệm cán_...   \n",
       "4          phó giám_đốc sở nội_vụ bắc_ninh nghỉ_việc   \n",
       "\n",
       "                                             Content  \n",
       "0  nhân kỷ_niệm 61 truyền_thống lực_lượng cảnh_sá...  \n",
       "1  1 10 trụ_sở chính_phủ thủ_tướng phạm_minh_chín...  \n",
       "2  chiều 30 9 hà_nội thiếu_tướng đỗ_triệu_phong c...  \n",
       "3  chiều 30 9 hà_nội bộ_trưởng tt tt nguyễn_mạnh_...  \n",
       "4  30 9 lãnh_đạo sở nội_vụ tỉnh bắc_ninh nguyễn_t...  "
      ]
     },
     "execution_count": 73,
     "metadata": {},
     "output_type": "execute_result"
    }
   ],
   "source": [
    "realnews.head()"
   ]
  },
  {
   "cell_type": "code",
   "execution_count": 74,
   "metadata": {},
   "outputs": [],
   "source": [
    "r=[]\n",
    "for i in range(len(realnews)):\n",
    "    r.append(\"real\")\n",
    "realnews['label']=r"
   ]
  },
  {
   "cell_type": "code",
   "execution_count": 82,
   "metadata": {},
   "outputs": [
    {
     "data": {
      "text/html": [
       "<div>\n",
       "<style scoped>\n",
       "    .dataframe tbody tr th:only-of-type {\n",
       "        vertical-align: middle;\n",
       "    }\n",
       "\n",
       "    .dataframe tbody tr th {\n",
       "        vertical-align: top;\n",
       "    }\n",
       "\n",
       "    .dataframe thead th {\n",
       "        text-align: right;\n",
       "    }\n",
       "</style>\n",
       "<table border=\"1\" class=\"dataframe\">\n",
       "  <thead>\n",
       "    <tr style=\"text-align: right;\">\n",
       "      <th></th>\n",
       "      <th>Unnamed: 0.1</th>\n",
       "      <th>Unnamed: 0</th>\n",
       "      <th>Title</th>\n",
       "      <th>Content</th>\n",
       "      <th>label</th>\n",
       "    </tr>\n",
       "  </thead>\n",
       "  <tbody>\n",
       "    <tr>\n",
       "      <th>0</th>\n",
       "      <td>0</td>\n",
       "      <td>0</td>\n",
       "      <td>chiến_đấu giặc lửa chiến_sĩ hy_sinh thương_tật...</td>\n",
       "      <td>nhân kỷ_niệm 61 truyền_thống lực_lượng cảnh_sá...</td>\n",
       "      <td>real</td>\n",
       "    </tr>\n",
       "    <tr>\n",
       "      <th>1</th>\n",
       "      <td>1</td>\n",
       "      <td>1</td>\n",
       "      <td>thủ_tướng khắc_phục hậu_quả bão noru tuyệt_đối...</td>\n",
       "      <td>1 10 trụ_sở chính_phủ thủ_tướng phạm_minh_chín...</td>\n",
       "      <td>real</td>\n",
       "    </tr>\n",
       "    <tr>\n",
       "      <th>2</th>\n",
       "      <td>2</td>\n",
       "      <td>2</td>\n",
       "      <td>báo_chí góp_phần lan tỏa hình_ảnh đẹp lực_lượn...</td>\n",
       "      <td>chiều 30 9 hà_nội thiếu_tướng đỗ_triệu_phong c...</td>\n",
       "      <td>real</td>\n",
       "    </tr>\n",
       "    <tr>\n",
       "      <th>3</th>\n",
       "      <td>3</td>\n",
       "      <td>3</td>\n",
       "      <td>thông_tin truyền_thông điều_động bổ_nhiệm cán_...</td>\n",
       "      <td>chiều 30 9 hà_nội bộ_trưởng tt tt nguyễn_mạnh_...</td>\n",
       "      <td>real</td>\n",
       "    </tr>\n",
       "    <tr>\n",
       "      <th>4</th>\n",
       "      <td>4</td>\n",
       "      <td>4</td>\n",
       "      <td>phó giám_đốc sở nội_vụ bắc_ninh nghỉ_việc</td>\n",
       "      <td>30 9 lãnh_đạo sở nội_vụ tỉnh bắc_ninh nguyễn_t...</td>\n",
       "      <td>real</td>\n",
       "    </tr>\n",
       "  </tbody>\n",
       "</table>\n",
       "</div>"
      ],
      "text/plain": [
       "   Unnamed: 0.1  Unnamed: 0  \\\n",
       "0             0           0   \n",
       "1             1           1   \n",
       "2             2           2   \n",
       "3             3           3   \n",
       "4             4           4   \n",
       "\n",
       "                                               Title  \\\n",
       "0  chiến_đấu giặc lửa chiến_sĩ hy_sinh thương_tật...   \n",
       "1  thủ_tướng khắc_phục hậu_quả bão noru tuyệt_đối...   \n",
       "2  báo_chí góp_phần lan tỏa hình_ảnh đẹp lực_lượn...   \n",
       "3  thông_tin truyền_thông điều_động bổ_nhiệm cán_...   \n",
       "4          phó giám_đốc sở nội_vụ bắc_ninh nghỉ_việc   \n",
       "\n",
       "                                             Content label  \n",
       "0  nhân kỷ_niệm 61 truyền_thống lực_lượng cảnh_sá...  real  \n",
       "1  1 10 trụ_sở chính_phủ thủ_tướng phạm_minh_chín...  real  \n",
       "2  chiều 30 9 hà_nội thiếu_tướng đỗ_triệu_phong c...  real  \n",
       "3  chiều 30 9 hà_nội bộ_trưởng tt tt nguyễn_mạnh_...  real  \n",
       "4  30 9 lãnh_đạo sở nội_vụ tỉnh bắc_ninh nguyễn_t...  real  "
      ]
     },
     "execution_count": 82,
     "metadata": {},
     "output_type": "execute_result"
    }
   ],
   "source": [
    "realnews.head()"
   ]
  },
  {
   "cell_type": "code",
   "execution_count": 86,
   "metadata": {},
   "outputs": [],
   "source": [
    "realnew1=realnews.iloc[:,2:]"
   ]
  },
  {
   "cell_type": "code",
   "execution_count": 87,
   "metadata": {},
   "outputs": [
    {
     "data": {
      "text/html": [
       "<div>\n",
       "<style scoped>\n",
       "    .dataframe tbody tr th:only-of-type {\n",
       "        vertical-align: middle;\n",
       "    }\n",
       "\n",
       "    .dataframe tbody tr th {\n",
       "        vertical-align: top;\n",
       "    }\n",
       "\n",
       "    .dataframe thead th {\n",
       "        text-align: right;\n",
       "    }\n",
       "</style>\n",
       "<table border=\"1\" class=\"dataframe\">\n",
       "  <thead>\n",
       "    <tr style=\"text-align: right;\">\n",
       "      <th></th>\n",
       "      <th>Title</th>\n",
       "      <th>Content</th>\n",
       "      <th>label</th>\n",
       "    </tr>\n",
       "  </thead>\n",
       "  <tbody>\n",
       "    <tr>\n",
       "      <th>0</th>\n",
       "      <td>chiến_đấu giặc lửa chiến_sĩ hy_sinh thương_tật...</td>\n",
       "      <td>nhân kỷ_niệm 61 truyền_thống lực_lượng cảnh_sá...</td>\n",
       "      <td>real</td>\n",
       "    </tr>\n",
       "    <tr>\n",
       "      <th>1</th>\n",
       "      <td>thủ_tướng khắc_phục hậu_quả bão noru tuyệt_đối...</td>\n",
       "      <td>1 10 trụ_sở chính_phủ thủ_tướng phạm_minh_chín...</td>\n",
       "      <td>real</td>\n",
       "    </tr>\n",
       "    <tr>\n",
       "      <th>2</th>\n",
       "      <td>báo_chí góp_phần lan tỏa hình_ảnh đẹp lực_lượn...</td>\n",
       "      <td>chiều 30 9 hà_nội thiếu_tướng đỗ_triệu_phong c...</td>\n",
       "      <td>real</td>\n",
       "    </tr>\n",
       "    <tr>\n",
       "      <th>3</th>\n",
       "      <td>thông_tin truyền_thông điều_động bổ_nhiệm cán_...</td>\n",
       "      <td>chiều 30 9 hà_nội bộ_trưởng tt tt nguyễn_mạnh_...</td>\n",
       "      <td>real</td>\n",
       "    </tr>\n",
       "    <tr>\n",
       "      <th>4</th>\n",
       "      <td>phó giám_đốc sở nội_vụ bắc_ninh nghỉ_việc</td>\n",
       "      <td>30 9 lãnh_đạo sở nội_vụ tỉnh bắc_ninh nguyễn_t...</td>\n",
       "      <td>real</td>\n",
       "    </tr>\n",
       "  </tbody>\n",
       "</table>\n",
       "</div>"
      ],
      "text/plain": [
       "                                               Title  \\\n",
       "0  chiến_đấu giặc lửa chiến_sĩ hy_sinh thương_tật...   \n",
       "1  thủ_tướng khắc_phục hậu_quả bão noru tuyệt_đối...   \n",
       "2  báo_chí góp_phần lan tỏa hình_ảnh đẹp lực_lượn...   \n",
       "3  thông_tin truyền_thông điều_động bổ_nhiệm cán_...   \n",
       "4          phó giám_đốc sở nội_vụ bắc_ninh nghỉ_việc   \n",
       "\n",
       "                                             Content label  \n",
       "0  nhân kỷ_niệm 61 truyền_thống lực_lượng cảnh_sá...  real  \n",
       "1  1 10 trụ_sở chính_phủ thủ_tướng phạm_minh_chín...  real  \n",
       "2  chiều 30 9 hà_nội thiếu_tướng đỗ_triệu_phong c...  real  \n",
       "3  chiều 30 9 hà_nội bộ_trưởng tt tt nguyễn_mạnh_...  real  \n",
       "4  30 9 lãnh_đạo sở nội_vụ tỉnh bắc_ninh nguyễn_t...  real  "
      ]
     },
     "execution_count": 87,
     "metadata": {},
     "output_type": "execute_result"
    }
   ],
   "source": [
    "realnew1.head()"
   ]
  },
  {
   "cell_type": "code",
   "execution_count": 88,
   "metadata": {},
   "outputs": [],
   "source": [
    "realnew1.to_csv('real_new_processing1.csv',encoding='utf-8-sig') "
   ]
  },
  {
   "cell_type": "markdown",
   "metadata": {},
   "source": [
    "Fake news"
   ]
  },
  {
   "cell_type": "code",
   "execution_count": 124,
   "metadata": {},
   "outputs": [],
   "source": [
    "fakenews = pd.read_csv('fakenews.csv')"
   ]
  },
  {
   "cell_type": "code",
   "execution_count": 125,
   "metadata": {},
   "outputs": [
    {
     "data": {
      "text/html": [
       "<div>\n",
       "<style scoped>\n",
       "    .dataframe tbody tr th:only-of-type {\n",
       "        vertical-align: middle;\n",
       "    }\n",
       "\n",
       "    .dataframe tbody tr th {\n",
       "        vertical-align: top;\n",
       "    }\n",
       "\n",
       "    .dataframe thead th {\n",
       "        text-align: right;\n",
       "    }\n",
       "</style>\n",
       "<table border=\"1\" class=\"dataframe\">\n",
       "  <thead>\n",
       "    <tr style=\"text-align: right;\">\n",
       "      <th></th>\n",
       "      <th>label</th>\n",
       "      <th>link</th>\n",
       "      <th>name</th>\n",
       "      <th>content</th>\n",
       "    </tr>\n",
       "  </thead>\n",
       "  <tbody>\n",
       "    <tr>\n",
       "      <th>0</th>\n",
       "      <td>fake</td>\n",
       "      <td>https://quanlambao.blogspot.com/2015/10/gia-to...</td>\n",
       "      <td>Gia tộc Lê Thanh Hải bị loại khỏi đảng bộ TP.HCM?</td>\n",
       "      <td>Con trai lớn của ông Hải là Lê Trương Hải Hiế...</td>\n",
       "    </tr>\n",
       "    <tr>\n",
       "      <th>1</th>\n",
       "      <td>fake</td>\n",
       "      <td>https://quanlambao.blogspot.com/2015/10/hay-th...</td>\n",
       "      <td>Hãy thôi cúi mặt</td>\n",
       "      <td>Tôi sinh ra trong thời chinh chiến Nối tiếp c...</td>\n",
       "    </tr>\n",
       "    <tr>\n",
       "      <th>2</th>\n",
       "      <td>NaN</td>\n",
       "      <td>https://quanlambao.blogspot.com/2015/10/thu-tu...</td>\n",
       "      <td>Thủ tướng Nguyễn Thiện Nhân</td>\n",
       "      <td>- Ngày 11 tháng 10 năm 2015 trung ương đảng C...</td>\n",
       "    </tr>\n",
       "    <tr>\n",
       "      <th>3</th>\n",
       "      <td>NaN</td>\n",
       "      <td>https://quanlambao.blogspot.com/2015/10/hoa-ky...</td>\n",
       "      <td>Hoa Kỳ, có nên tin cậy?</td>\n",
       "      <td>Nguyên Thạch (Quanlambao)    - Hiện tại, Biể...</td>\n",
       "    </tr>\n",
       "    <tr>\n",
       "      <th>4</th>\n",
       "      <td>fake</td>\n",
       "      <td>https://quanlambao.blogspot.com/2015/10/ho-so-...</td>\n",
       "      <td>Họ sợ “quân phục” QL/VNCH!?</td>\n",
       "      <td>Khuyến khích mọi người “yêu cây xanh -yêu Hà...</td>\n",
       "    </tr>\n",
       "  </tbody>\n",
       "</table>\n",
       "</div>"
      ],
      "text/plain": [
       "  label                                               link  \\\n",
       "0  fake  https://quanlambao.blogspot.com/2015/10/gia-to...   \n",
       "1  fake  https://quanlambao.blogspot.com/2015/10/hay-th...   \n",
       "2   NaN  https://quanlambao.blogspot.com/2015/10/thu-tu...   \n",
       "3   NaN  https://quanlambao.blogspot.com/2015/10/hoa-ky...   \n",
       "4  fake  https://quanlambao.blogspot.com/2015/10/ho-so-...   \n",
       "\n",
       "                                                name  \\\n",
       "0  Gia tộc Lê Thanh Hải bị loại khỏi đảng bộ TP.HCM?   \n",
       "1                                   Hãy thôi cúi mặt   \n",
       "2                        Thủ tướng Nguyễn Thiện Nhân   \n",
       "3                            Hoa Kỳ, có nên tin cậy?   \n",
       "4                        Họ sợ “quân phục” QL/VNCH!?   \n",
       "\n",
       "                                             content  \n",
       "0   Con trai lớn của ông Hải là Lê Trương Hải Hiế...  \n",
       "1   Tôi sinh ra trong thời chinh chiến Nối tiếp c...  \n",
       "2   - Ngày 11 tháng 10 năm 2015 trung ương đảng C...  \n",
       "3    Nguyên Thạch (Quanlambao)    - Hiện tại, Biể...  \n",
       "4    Khuyến khích mọi người “yêu cây xanh -yêu Hà...  "
      ]
     },
     "execution_count": 125,
     "metadata": {},
     "output_type": "execute_result"
    }
   ],
   "source": [
    "fakenews.head()\n"
   ]
  },
  {
   "cell_type": "code",
   "execution_count": 126,
   "metadata": {},
   "outputs": [
    {
     "data": {
      "text/plain": [
       "label      197\n",
       "link         0\n",
       "name         1\n",
       "content      0\n",
       "dtype: int64"
      ]
     },
     "execution_count": 126,
     "metadata": {},
     "output_type": "execute_result"
    }
   ],
   "source": [
    "fakenews.isnull().sum()"
   ]
  },
  {
   "cell_type": "code",
   "execution_count": 127,
   "metadata": {},
   "outputs": [],
   "source": [
    "fakenews = fakenews.loc[fakenews[\"label\"] == 'fake']"
   ]
  },
  {
   "cell_type": "code",
   "execution_count": 128,
   "metadata": {},
   "outputs": [
    {
     "data": {
      "text/plain": [
       "679"
      ]
     },
     "execution_count": 128,
     "metadata": {},
     "output_type": "execute_result"
    }
   ],
   "source": [
    "len(fakenews)"
   ]
  },
  {
   "cell_type": "code",
   "execution_count": 129,
   "metadata": {},
   "outputs": [
    {
     "data": {
      "text/html": [
       "<div>\n",
       "<style scoped>\n",
       "    .dataframe tbody tr th:only-of-type {\n",
       "        vertical-align: middle;\n",
       "    }\n",
       "\n",
       "    .dataframe tbody tr th {\n",
       "        vertical-align: top;\n",
       "    }\n",
       "\n",
       "    .dataframe thead th {\n",
       "        text-align: right;\n",
       "    }\n",
       "</style>\n",
       "<table border=\"1\" class=\"dataframe\">\n",
       "  <thead>\n",
       "    <tr style=\"text-align: right;\">\n",
       "      <th></th>\n",
       "      <th>label</th>\n",
       "      <th>link</th>\n",
       "      <th>name</th>\n",
       "      <th>content</th>\n",
       "    </tr>\n",
       "  </thead>\n",
       "  <tbody>\n",
       "    <tr>\n",
       "      <th>0</th>\n",
       "      <td>fake</td>\n",
       "      <td>https://quanlambao.blogspot.com/2015/10/gia-to...</td>\n",
       "      <td>Gia tộc Lê Thanh Hải bị loại khỏi đảng bộ TP.HCM?</td>\n",
       "      <td>Con trai lớn của ông Hải là Lê Trương Hải Hiế...</td>\n",
       "    </tr>\n",
       "    <tr>\n",
       "      <th>1</th>\n",
       "      <td>fake</td>\n",
       "      <td>https://quanlambao.blogspot.com/2015/10/hay-th...</td>\n",
       "      <td>Hãy thôi cúi mặt</td>\n",
       "      <td>Tôi sinh ra trong thời chinh chiến Nối tiếp c...</td>\n",
       "    </tr>\n",
       "    <tr>\n",
       "      <th>4</th>\n",
       "      <td>fake</td>\n",
       "      <td>https://quanlambao.blogspot.com/2015/10/ho-so-...</td>\n",
       "      <td>Họ sợ “quân phục” QL/VNCH!?</td>\n",
       "      <td>Khuyến khích mọi người “yêu cây xanh -yêu Hà...</td>\n",
       "    </tr>\n",
       "    <tr>\n",
       "      <th>5</th>\n",
       "      <td>fake</td>\n",
       "      <td>https://quanlambao.blogspot.com/2015/10/diet-c...</td>\n",
       "      <td>Diệt cộng trước, chống Tàu sau - Chống Tàu trư...</td>\n",
       "      <td>Nguyên Thạch (Quanlambao)      - Ý niệm chống ...</td>\n",
       "    </tr>\n",
       "    <tr>\n",
       "      <th>7</th>\n",
       "      <td>fake</td>\n",
       "      <td>https://quanlambao.blogspot.com/2015/10/nhung-...</td>\n",
       "      <td>Những vần thơ gởi Tập Cận Bình</td>\n",
       "      <td>Thách Tàu Cộng  Nguyên Thạch (Quanlambao)     ...</td>\n",
       "    </tr>\n",
       "  </tbody>\n",
       "</table>\n",
       "</div>"
      ],
      "text/plain": [
       "  label                                               link  \\\n",
       "0  fake  https://quanlambao.blogspot.com/2015/10/gia-to...   \n",
       "1  fake  https://quanlambao.blogspot.com/2015/10/hay-th...   \n",
       "4  fake  https://quanlambao.blogspot.com/2015/10/ho-so-...   \n",
       "5  fake  https://quanlambao.blogspot.com/2015/10/diet-c...   \n",
       "7  fake  https://quanlambao.blogspot.com/2015/10/nhung-...   \n",
       "\n",
       "                                                name  \\\n",
       "0  Gia tộc Lê Thanh Hải bị loại khỏi đảng bộ TP.HCM?   \n",
       "1                                   Hãy thôi cúi mặt   \n",
       "4                        Họ sợ “quân phục” QL/VNCH!?   \n",
       "5  Diệt cộng trước, chống Tàu sau - Chống Tàu trư...   \n",
       "7                     Những vần thơ gởi Tập Cận Bình   \n",
       "\n",
       "                                             content  \n",
       "0   Con trai lớn của ông Hải là Lê Trương Hải Hiế...  \n",
       "1   Tôi sinh ra trong thời chinh chiến Nối tiếp c...  \n",
       "4    Khuyến khích mọi người “yêu cây xanh -yêu Hà...  \n",
       "5  Nguyên Thạch (Quanlambao)      - Ý niệm chống ...  \n",
       "7  Thách Tàu Cộng  Nguyên Thạch (Quanlambao)     ...  "
      ]
     },
     "execution_count": 129,
     "metadata": {},
     "output_type": "execute_result"
    }
   ],
   "source": [
    "fakenews.head()"
   ]
  },
  {
   "cell_type": "code",
   "execution_count": 132,
   "metadata": {},
   "outputs": [],
   "source": [
    "fn1=fakenews.iloc[:,[2,3,0]]"
   ]
  },
  {
   "cell_type": "code",
   "execution_count": 133,
   "metadata": {},
   "outputs": [
    {
     "data": {
      "text/html": [
       "<div>\n",
       "<style scoped>\n",
       "    .dataframe tbody tr th:only-of-type {\n",
       "        vertical-align: middle;\n",
       "    }\n",
       "\n",
       "    .dataframe tbody tr th {\n",
       "        vertical-align: top;\n",
       "    }\n",
       "\n",
       "    .dataframe thead th {\n",
       "        text-align: right;\n",
       "    }\n",
       "</style>\n",
       "<table border=\"1\" class=\"dataframe\">\n",
       "  <thead>\n",
       "    <tr style=\"text-align: right;\">\n",
       "      <th></th>\n",
       "      <th>name</th>\n",
       "      <th>content</th>\n",
       "      <th>label</th>\n",
       "    </tr>\n",
       "  </thead>\n",
       "  <tbody>\n",
       "    <tr>\n",
       "      <th>0</th>\n",
       "      <td>Gia tộc Lê Thanh Hải bị loại khỏi đảng bộ TP.HCM?</td>\n",
       "      <td>Con trai lớn của ông Hải là Lê Trương Hải Hiế...</td>\n",
       "      <td>fake</td>\n",
       "    </tr>\n",
       "    <tr>\n",
       "      <th>1</th>\n",
       "      <td>Hãy thôi cúi mặt</td>\n",
       "      <td>Tôi sinh ra trong thời chinh chiến Nối tiếp c...</td>\n",
       "      <td>fake</td>\n",
       "    </tr>\n",
       "    <tr>\n",
       "      <th>4</th>\n",
       "      <td>Họ sợ “quân phục” QL/VNCH!?</td>\n",
       "      <td>Khuyến khích mọi người “yêu cây xanh -yêu Hà...</td>\n",
       "      <td>fake</td>\n",
       "    </tr>\n",
       "    <tr>\n",
       "      <th>5</th>\n",
       "      <td>Diệt cộng trước, chống Tàu sau - Chống Tàu trư...</td>\n",
       "      <td>Nguyên Thạch (Quanlambao)      - Ý niệm chống ...</td>\n",
       "      <td>fake</td>\n",
       "    </tr>\n",
       "    <tr>\n",
       "      <th>7</th>\n",
       "      <td>Những vần thơ gởi Tập Cận Bình</td>\n",
       "      <td>Thách Tàu Cộng  Nguyên Thạch (Quanlambao)     ...</td>\n",
       "      <td>fake</td>\n",
       "    </tr>\n",
       "  </tbody>\n",
       "</table>\n",
       "</div>"
      ],
      "text/plain": [
       "                                                name  \\\n",
       "0  Gia tộc Lê Thanh Hải bị loại khỏi đảng bộ TP.HCM?   \n",
       "1                                   Hãy thôi cúi mặt   \n",
       "4                        Họ sợ “quân phục” QL/VNCH!?   \n",
       "5  Diệt cộng trước, chống Tàu sau - Chống Tàu trư...   \n",
       "7                     Những vần thơ gởi Tập Cận Bình   \n",
       "\n",
       "                                             content label  \n",
       "0   Con trai lớn của ông Hải là Lê Trương Hải Hiế...  fake  \n",
       "1   Tôi sinh ra trong thời chinh chiến Nối tiếp c...  fake  \n",
       "4    Khuyến khích mọi người “yêu cây xanh -yêu Hà...  fake  \n",
       "5  Nguyên Thạch (Quanlambao)      - Ý niệm chống ...  fake  \n",
       "7  Thách Tàu Cộng  Nguyên Thạch (Quanlambao)     ...  fake  "
      ]
     },
     "execution_count": 133,
     "metadata": {},
     "output_type": "execute_result"
    }
   ],
   "source": [
    "fn1.head()"
   ]
  },
  {
   "cell_type": "code",
   "execution_count": 137,
   "metadata": {},
   "outputs": [],
   "source": [
    "fn1.to_csv('fake_new_after.csv',encoding='utf-8-sig')"
   ]
  },
  {
   "cell_type": "code",
   "execution_count": 138,
   "metadata": {},
   "outputs": [],
   "source": [
    "fakenews1=pd.read_csv('fake_new_after.csv')"
   ]
  },
  {
   "cell_type": "code",
   "execution_count": 139,
   "metadata": {},
   "outputs": [
    {
     "data": {
      "text/html": [
       "<div>\n",
       "<style scoped>\n",
       "    .dataframe tbody tr th:only-of-type {\n",
       "        vertical-align: middle;\n",
       "    }\n",
       "\n",
       "    .dataframe tbody tr th {\n",
       "        vertical-align: top;\n",
       "    }\n",
       "\n",
       "    .dataframe thead th {\n",
       "        text-align: right;\n",
       "    }\n",
       "</style>\n",
       "<table border=\"1\" class=\"dataframe\">\n",
       "  <thead>\n",
       "    <tr style=\"text-align: right;\">\n",
       "      <th></th>\n",
       "      <th>Unnamed: 0</th>\n",
       "      <th>Title</th>\n",
       "      <th>Content</th>\n",
       "      <th>label</th>\n",
       "    </tr>\n",
       "  </thead>\n",
       "  <tbody>\n",
       "    <tr>\n",
       "      <th>0</th>\n",
       "      <td>0</td>\n",
       "      <td>Gia tộc Lê Thanh Hải bị loại khỏi đảng bộ TP.HCM?</td>\n",
       "      <td>Con trai lớn của ông Hải là Lê Trương Hải Hiế...</td>\n",
       "      <td>fake</td>\n",
       "    </tr>\n",
       "    <tr>\n",
       "      <th>1</th>\n",
       "      <td>1</td>\n",
       "      <td>Hãy thôi cúi mặt</td>\n",
       "      <td>Tôi sinh ra trong thời chinh chiến Nối tiếp c...</td>\n",
       "      <td>fake</td>\n",
       "    </tr>\n",
       "    <tr>\n",
       "      <th>2</th>\n",
       "      <td>4</td>\n",
       "      <td>Họ sợ “quân phục” QL/VNCH!?</td>\n",
       "      <td>Khuyến khích mọi người “yêu cây xanh -yêu Hà...</td>\n",
       "      <td>fake</td>\n",
       "    </tr>\n",
       "    <tr>\n",
       "      <th>3</th>\n",
       "      <td>5</td>\n",
       "      <td>Diệt cộng trước, chống Tàu sau - Chống Tàu trư...</td>\n",
       "      <td>Nguyên Thạch (Quanlambao)      - Ý niệm chống ...</td>\n",
       "      <td>fake</td>\n",
       "    </tr>\n",
       "    <tr>\n",
       "      <th>4</th>\n",
       "      <td>7</td>\n",
       "      <td>Những vần thơ gởi Tập Cận Bình</td>\n",
       "      <td>Thách Tàu Cộng  Nguyên Thạch (Quanlambao)     ...</td>\n",
       "      <td>fake</td>\n",
       "    </tr>\n",
       "  </tbody>\n",
       "</table>\n",
       "</div>"
      ],
      "text/plain": [
       "   Unnamed: 0                                              Title  \\\n",
       "0           0  Gia tộc Lê Thanh Hải bị loại khỏi đảng bộ TP.HCM?   \n",
       "1           1                                   Hãy thôi cúi mặt   \n",
       "2           4                        Họ sợ “quân phục” QL/VNCH!?   \n",
       "3           5  Diệt cộng trước, chống Tàu sau - Chống Tàu trư...   \n",
       "4           7                     Những vần thơ gởi Tập Cận Bình   \n",
       "\n",
       "                                             Content label  \n",
       "0   Con trai lớn của ông Hải là Lê Trương Hải Hiế...  fake  \n",
       "1   Tôi sinh ra trong thời chinh chiến Nối tiếp c...  fake  \n",
       "2    Khuyến khích mọi người “yêu cây xanh -yêu Hà...  fake  \n",
       "3  Nguyên Thạch (Quanlambao)      - Ý niệm chống ...  fake  \n",
       "4  Thách Tàu Cộng  Nguyên Thạch (Quanlambao)     ...  fake  "
      ]
     },
     "execution_count": 139,
     "metadata": {},
     "output_type": "execute_result"
    }
   ],
   "source": [
    "fakenews1.head()"
   ]
  },
  {
   "cell_type": "code",
   "execution_count": 140,
   "metadata": {},
   "outputs": [
    {
     "data": {
      "text/plain": [
       "679"
      ]
     },
     "execution_count": 140,
     "metadata": {},
     "output_type": "execute_result"
    }
   ],
   "source": [
    "len(fakenews1)"
   ]
  },
  {
   "cell_type": "code",
   "execution_count": 141,
   "metadata": {},
   "outputs": [
    {
     "name": "stderr",
     "output_type": "stream",
     "text": [
      "C:\\Users\\hotai\\AppData\\Local\\Temp\\ipykernel_7904\\1419072883.py:2: SettingWithCopyWarning: \n",
      "A value is trying to be set on a copy of a slice from a DataFrame\n",
      "\n",
      "See the caveats in the documentation: https://pandas.pydata.org/pandas-docs/stable/user_guide/indexing.html#returning-a-view-versus-a-copy\n",
      "  fakenews1.Content[i] = text_preprocess(str(fakenews1.Content[i]))\n",
      "C:\\Users\\hotai\\AppData\\Local\\Temp\\ipykernel_7904\\1419072883.py:3: SettingWithCopyWarning: \n",
      "A value is trying to be set on a copy of a slice from a DataFrame\n",
      "\n",
      "See the caveats in the documentation: https://pandas.pydata.org/pandas-docs/stable/user_guide/indexing.html#returning-a-view-versus-a-copy\n",
      "  fakenews1.Title[i] = text_preprocess(str(fakenews1.Title[i]))\n"
     ]
    }
   ],
   "source": [
    "for i in range(len(fakenews1)):\n",
    "   fakenews1.Content[i] = text_preprocess(str(fakenews1.Content[i]))\n",
    "   fakenews1.Title[i] = text_preprocess(str(fakenews1.Title[i]))"
   ]
  },
  {
   "cell_type": "code",
   "execution_count": 142,
   "metadata": {},
   "outputs": [
    {
     "name": "stderr",
     "output_type": "stream",
     "text": [
      "C:\\Users\\hotai\\AppData\\Local\\Temp\\ipykernel_7904\\2096047866.py:2: SettingWithCopyWarning: \n",
      "A value is trying to be set on a copy of a slice from a DataFrame\n",
      "\n",
      "See the caveats in the documentation: https://pandas.pydata.org/pandas-docs/stable/user_guide/indexing.html#returning-a-view-versus-a-copy\n",
      "  fakenews1.Content[i] = remove_stop_words(str(fakenews1.Content[i]))[0]\n",
      "C:\\Users\\hotai\\AppData\\Local\\Temp\\ipykernel_7904\\2096047866.py:3: SettingWithCopyWarning: \n",
      "A value is trying to be set on a copy of a slice from a DataFrame\n",
      "\n",
      "See the caveats in the documentation: https://pandas.pydata.org/pandas-docs/stable/user_guide/indexing.html#returning-a-view-versus-a-copy\n",
      "  fakenews1.Title[i] = remove_stop_words(str(fakenews1.Title[i]))[0]\n"
     ]
    }
   ],
   "source": [
    "for i in range(len(fakenews1)):\n",
    "   fakenews1.Content[i] = remove_stop_words(str(fakenews1.Content[i]))[0]\n",
    "   fakenews1.Title[i] = remove_stop_words(str(fakenews1.Title[i]))[0]"
   ]
  },
  {
   "cell_type": "code",
   "execution_count": 143,
   "metadata": {},
   "outputs": [
    {
     "data": {
      "text/html": [
       "<div>\n",
       "<style scoped>\n",
       "    .dataframe tbody tr th:only-of-type {\n",
       "        vertical-align: middle;\n",
       "    }\n",
       "\n",
       "    .dataframe tbody tr th {\n",
       "        vertical-align: top;\n",
       "    }\n",
       "\n",
       "    .dataframe thead th {\n",
       "        text-align: right;\n",
       "    }\n",
       "</style>\n",
       "<table border=\"1\" class=\"dataframe\">\n",
       "  <thead>\n",
       "    <tr style=\"text-align: right;\">\n",
       "      <th></th>\n",
       "      <th>Unnamed: 0</th>\n",
       "      <th>Title</th>\n",
       "      <th>Content</th>\n",
       "      <th>label</th>\n",
       "    </tr>\n",
       "  </thead>\n",
       "  <tbody>\n",
       "    <tr>\n",
       "      <th>0</th>\n",
       "      <td>0</td>\n",
       "      <td>gia_tộc lê_thanh_hải đảng_bộ tp hcm</td>\n",
       "      <td>con_trai hải lê_trương_hải_hiếu chủ_tịch 12 đả...</td>\n",
       "      <td>fake</td>\n",
       "    </tr>\n",
       "    <tr>\n",
       "      <th>1</th>\n",
       "      <td>1</td>\n",
       "      <td>cúi mặt</td>\n",
       "      <td>sinh thời chinh_chiến nối_tiếp cha_ông tiếp_di...</td>\n",
       "      <td>fake</td>\n",
       "    </tr>\n",
       "    <tr>\n",
       "      <th>2</th>\n",
       "      <td>4</td>\n",
       "      <td>sợ quân_phục ql vnch</td>\n",
       "      <td>khuyến_khích yêu cây_xanh yêu hà_nội gây_rối t...</td>\n",
       "      <td>fake</td>\n",
       "    </tr>\n",
       "    <tr>\n",
       "      <th>3</th>\n",
       "      <td>5</td>\n",
       "      <td>diệt cộng chống tàu chống tàu trước diệt cộng ...</td>\n",
       "      <td>nguyên thạch quanlambao ý_niệm chống tàu toàn ...</td>\n",
       "      <td>fake</td>\n",
       "    </tr>\n",
       "    <tr>\n",
       "      <th>4</th>\n",
       "      <td>7</td>\n",
       "      <td>vần thơ gởi tập_cận_bình</td>\n",
       "      <td>thách tàu cộng_nguyên_thạch quanlambao tiệu lụ...</td>\n",
       "      <td>fake</td>\n",
       "    </tr>\n",
       "  </tbody>\n",
       "</table>\n",
       "</div>"
      ],
      "text/plain": [
       "   Unnamed: 0                                              Title  \\\n",
       "0           0                gia_tộc lê_thanh_hải đảng_bộ tp hcm   \n",
       "1           1                                            cúi mặt   \n",
       "2           4                               sợ quân_phục ql vnch   \n",
       "3           5  diệt cộng chống tàu chống tàu trước diệt cộng ...   \n",
       "4           7                           vần thơ gởi tập_cận_bình   \n",
       "\n",
       "                                             Content label  \n",
       "0  con_trai hải lê_trương_hải_hiếu chủ_tịch 12 đả...  fake  \n",
       "1  sinh thời chinh_chiến nối_tiếp cha_ông tiếp_di...  fake  \n",
       "2  khuyến_khích yêu cây_xanh yêu hà_nội gây_rối t...  fake  \n",
       "3  nguyên thạch quanlambao ý_niệm chống tàu toàn ...  fake  \n",
       "4  thách tàu cộng_nguyên_thạch quanlambao tiệu lụ...  fake  "
      ]
     },
     "execution_count": 143,
     "metadata": {},
     "output_type": "execute_result"
    }
   ],
   "source": [
    "fakenews1.head()"
   ]
  },
  {
   "cell_type": "code",
   "execution_count": 151,
   "metadata": {},
   "outputs": [
    {
     "data": {
      "text/html": [
       "<div>\n",
       "<style scoped>\n",
       "    .dataframe tbody tr th:only-of-type {\n",
       "        vertical-align: middle;\n",
       "    }\n",
       "\n",
       "    .dataframe tbody tr th {\n",
       "        vertical-align: top;\n",
       "    }\n",
       "\n",
       "    .dataframe thead th {\n",
       "        text-align: right;\n",
       "    }\n",
       "</style>\n",
       "<table border=\"1\" class=\"dataframe\">\n",
       "  <thead>\n",
       "    <tr style=\"text-align: right;\">\n",
       "      <th></th>\n",
       "      <th>Title</th>\n",
       "      <th>Content</th>\n",
       "      <th>label</th>\n",
       "    </tr>\n",
       "  </thead>\n",
       "  <tbody>\n",
       "    <tr>\n",
       "      <th>0</th>\n",
       "      <td>gia_tộc lê_thanh_hải đảng_bộ tp hcm</td>\n",
       "      <td>con_trai hải lê_trương_hải_hiếu chủ_tịch 12 đả...</td>\n",
       "      <td>fake</td>\n",
       "    </tr>\n",
       "    <tr>\n",
       "      <th>1</th>\n",
       "      <td>cúi mặt</td>\n",
       "      <td>sinh thời chinh_chiến nối_tiếp cha_ông tiếp_di...</td>\n",
       "      <td>fake</td>\n",
       "    </tr>\n",
       "    <tr>\n",
       "      <th>2</th>\n",
       "      <td>sợ quân_phục ql vnch</td>\n",
       "      <td>khuyến_khích yêu cây_xanh yêu hà_nội gây_rối t...</td>\n",
       "      <td>fake</td>\n",
       "    </tr>\n",
       "    <tr>\n",
       "      <th>3</th>\n",
       "      <td>diệt cộng chống tàu chống tàu trước diệt cộng ...</td>\n",
       "      <td>nguyên thạch quanlambao ý_niệm chống tàu toàn ...</td>\n",
       "      <td>fake</td>\n",
       "    </tr>\n",
       "    <tr>\n",
       "      <th>4</th>\n",
       "      <td>vần thơ gởi tập_cận_bình</td>\n",
       "      <td>thách tàu cộng_nguyên_thạch quanlambao tiệu lụ...</td>\n",
       "      <td>fake</td>\n",
       "    </tr>\n",
       "  </tbody>\n",
       "</table>\n",
       "</div>"
      ],
      "text/plain": [
       "                                               Title  \\\n",
       "0                gia_tộc lê_thanh_hải đảng_bộ tp hcm   \n",
       "1                                            cúi mặt   \n",
       "2                               sợ quân_phục ql vnch   \n",
       "3  diệt cộng chống tàu chống tàu trước diệt cộng ...   \n",
       "4                           vần thơ gởi tập_cận_bình   \n",
       "\n",
       "                                             Content label  \n",
       "0  con_trai hải lê_trương_hải_hiếu chủ_tịch 12 đả...  fake  \n",
       "1  sinh thời chinh_chiến nối_tiếp cha_ông tiếp_di...  fake  \n",
       "2  khuyến_khích yêu cây_xanh yêu hà_nội gây_rối t...  fake  \n",
       "3  nguyên thạch quanlambao ý_niệm chống tàu toàn ...  fake  \n",
       "4  thách tàu cộng_nguyên_thạch quanlambao tiệu lụ...  fake  "
      ]
     },
     "execution_count": 151,
     "metadata": {},
     "output_type": "execute_result"
    }
   ],
   "source": [
    "fakenews2=fakenews1.iloc[:,1:4]\n",
    "fakenews2.head()"
   ]
  },
  {
   "cell_type": "code",
   "execution_count": 153,
   "metadata": {},
   "outputs": [],
   "source": [
    "fakenews2.to_csv('fake_new_processing2.csv',encoding='utf-8-sig')"
   ]
  },
  {
   "cell_type": "code",
   "execution_count": 154,
   "metadata": {},
   "outputs": [],
   "source": [
    "fakenew3 = pd.read_csv('fake_new2.csv')"
   ]
  },
  {
   "cell_type": "code",
   "execution_count": 155,
   "metadata": {},
   "outputs": [
    {
     "data": {
      "text/html": [
       "<div>\n",
       "<style scoped>\n",
       "    .dataframe tbody tr th:only-of-type {\n",
       "        vertical-align: middle;\n",
       "    }\n",
       "\n",
       "    .dataframe tbody tr th {\n",
       "        vertical-align: top;\n",
       "    }\n",
       "\n",
       "    .dataframe thead th {\n",
       "        text-align: right;\n",
       "    }\n",
       "</style>\n",
       "<table border=\"1\" class=\"dataframe\">\n",
       "  <thead>\n",
       "    <tr style=\"text-align: right;\">\n",
       "      <th></th>\n",
       "      <th>label</th>\n",
       "      <th>link</th>\n",
       "      <th>name</th>\n",
       "      <th>content</th>\n",
       "    </tr>\n",
       "  </thead>\n",
       "  <tbody>\n",
       "    <tr>\n",
       "      <th>0</th>\n",
       "      <td></td>\n",
       "      <td>http://nhanvanviet.com/uncategorized/khong-the...</td>\n",
       "      <td>Không thể xuyên tạc quan điểm “đất đai thuộc s...</td>\n",
       "      <td>Lợi dụng việc Đảng ban hành Nghị quyết số 18-N...</td>\n",
       "    </tr>\n",
       "    <tr>\n",
       "      <th>1</th>\n",
       "      <td></td>\n",
       "      <td>http://nhanvanviet.com/uncategorized/nguyen-an...</td>\n",
       "      <td>NGUYÊN ANH THÊM MỘT LẦN TRÁO TRỞ</td>\n",
       "      <td>Mới đây, trên nhiều diễn đàn phản động đã đồng...</td>\n",
       "    </tr>\n",
       "    <tr>\n",
       "      <th>2</th>\n",
       "      <td></td>\n",
       "      <td>http://nhanvanviet.com/uncategorized/luan-dieu...</td>\n",
       "      <td>LUẬN ĐIỆU XUYÊN TẠC CÔNG CUỘC PHÒNG, CHỐNG THA...</td>\n",
       "      <td>Thời gian gần đây, trên “ Với âm mưu lợi dụng ...</td>\n",
       "    </tr>\n",
       "    <tr>\n",
       "      <th>3</th>\n",
       "      <td></td>\n",
       "      <td>http://nhanvanviet.com/uncategorized/canh-giac...</td>\n",
       "      <td>CẢNH GIÁC TRƯỚC LUẬN ĐIỆU XẢO TRÁ CỦA NGUYỄN N...</td>\n",
       "      <td>Gần đây dư luận xã hội đã hết sức bức xúc về b...</td>\n",
       "    </tr>\n",
       "    <tr>\n",
       "      <th>4</th>\n",
       "      <td></td>\n",
       "      <td>http://nhanvanviet.com/uncategorized/thanh-tuu...</td>\n",
       "      <td>Thành tựu xóa đói, giảm nghèo, nâng cao đời số...</td>\n",
       "      <td>Xóa đói, giảm nghèo, nâng cao đời sống nhân dâ...</td>\n",
       "    </tr>\n",
       "  </tbody>\n",
       "</table>\n",
       "</div>"
      ],
      "text/plain": [
       "  label                                               link  \\\n",
       "0        http://nhanvanviet.com/uncategorized/khong-the...   \n",
       "1        http://nhanvanviet.com/uncategorized/nguyen-an...   \n",
       "2        http://nhanvanviet.com/uncategorized/luan-dieu...   \n",
       "3        http://nhanvanviet.com/uncategorized/canh-giac...   \n",
       "4        http://nhanvanviet.com/uncategorized/thanh-tuu...   \n",
       "\n",
       "                                                name  \\\n",
       "0  Không thể xuyên tạc quan điểm “đất đai thuộc s...   \n",
       "1                   NGUYÊN ANH THÊM MỘT LẦN TRÁO TRỞ   \n",
       "2  LUẬN ĐIỆU XUYÊN TẠC CÔNG CUỘC PHÒNG, CHỐNG THA...   \n",
       "3  CẢNH GIÁC TRƯỚC LUẬN ĐIỆU XẢO TRÁ CỦA NGUYỄN N...   \n",
       "4  Thành tựu xóa đói, giảm nghèo, nâng cao đời số...   \n",
       "\n",
       "                                             content  \n",
       "0  Lợi dụng việc Đảng ban hành Nghị quyết số 18-N...  \n",
       "1  Mới đây, trên nhiều diễn đàn phản động đã đồng...  \n",
       "2  Thời gian gần đây, trên “ Với âm mưu lợi dụng ...  \n",
       "3  Gần đây dư luận xã hội đã hết sức bức xúc về b...  \n",
       "4  Xóa đói, giảm nghèo, nâng cao đời sống nhân dâ...  "
      ]
     },
     "execution_count": 155,
     "metadata": {},
     "output_type": "execute_result"
    }
   ],
   "source": [
    "fakenew3.head()"
   ]
  },
  {
   "cell_type": "code",
   "execution_count": 157,
   "metadata": {},
   "outputs": [
    {
     "data": {
      "text/plain": [
       "label        0\n",
       "link         0\n",
       "name         0\n",
       "content    165\n",
       "dtype: int64"
      ]
     },
     "execution_count": 157,
     "metadata": {},
     "output_type": "execute_result"
    }
   ],
   "source": [
    "fakenew3.isnull().sum()"
   ]
  },
  {
   "cell_type": "code",
   "execution_count": 158,
   "metadata": {},
   "outputs": [],
   "source": [
    "fakenew3=fakenew3.dropna()"
   ]
  },
  {
   "cell_type": "code",
   "execution_count": 159,
   "metadata": {},
   "outputs": [],
   "source": [
    "fakenew_3 = fakenew3.iloc[:,[2,3,0]]"
   ]
  },
  {
   "cell_type": "code",
   "execution_count": 160,
   "metadata": {},
   "outputs": [
    {
     "data": {
      "text/html": [
       "<div>\n",
       "<style scoped>\n",
       "    .dataframe tbody tr th:only-of-type {\n",
       "        vertical-align: middle;\n",
       "    }\n",
       "\n",
       "    .dataframe tbody tr th {\n",
       "        vertical-align: top;\n",
       "    }\n",
       "\n",
       "    .dataframe thead th {\n",
       "        text-align: right;\n",
       "    }\n",
       "</style>\n",
       "<table border=\"1\" class=\"dataframe\">\n",
       "  <thead>\n",
       "    <tr style=\"text-align: right;\">\n",
       "      <th></th>\n",
       "      <th>name</th>\n",
       "      <th>content</th>\n",
       "      <th>label</th>\n",
       "    </tr>\n",
       "  </thead>\n",
       "  <tbody>\n",
       "    <tr>\n",
       "      <th>0</th>\n",
       "      <td>Không thể xuyên tạc quan điểm “đất đai thuộc s...</td>\n",
       "      <td>Lợi dụng việc Đảng ban hành Nghị quyết số 18-N...</td>\n",
       "      <td></td>\n",
       "    </tr>\n",
       "    <tr>\n",
       "      <th>1</th>\n",
       "      <td>NGUYÊN ANH THÊM MỘT LẦN TRÁO TRỞ</td>\n",
       "      <td>Mới đây, trên nhiều diễn đàn phản động đã đồng...</td>\n",
       "      <td></td>\n",
       "    </tr>\n",
       "    <tr>\n",
       "      <th>2</th>\n",
       "      <td>LUẬN ĐIỆU XUYÊN TẠC CÔNG CUỘC PHÒNG, CHỐNG THA...</td>\n",
       "      <td>Thời gian gần đây, trên “ Với âm mưu lợi dụng ...</td>\n",
       "      <td></td>\n",
       "    </tr>\n",
       "    <tr>\n",
       "      <th>3</th>\n",
       "      <td>CẢNH GIÁC TRƯỚC LUẬN ĐIỆU XẢO TRÁ CỦA NGUYỄN N...</td>\n",
       "      <td>Gần đây dư luận xã hội đã hết sức bức xúc về b...</td>\n",
       "      <td></td>\n",
       "    </tr>\n",
       "    <tr>\n",
       "      <th>4</th>\n",
       "      <td>Thành tựu xóa đói, giảm nghèo, nâng cao đời số...</td>\n",
       "      <td>Xóa đói, giảm nghèo, nâng cao đời sống nhân dâ...</td>\n",
       "      <td></td>\n",
       "    </tr>\n",
       "  </tbody>\n",
       "</table>\n",
       "</div>"
      ],
      "text/plain": [
       "                                                name  \\\n",
       "0  Không thể xuyên tạc quan điểm “đất đai thuộc s...   \n",
       "1                   NGUYÊN ANH THÊM MỘT LẦN TRÁO TRỞ   \n",
       "2  LUẬN ĐIỆU XUYÊN TẠC CÔNG CUỘC PHÒNG, CHỐNG THA...   \n",
       "3  CẢNH GIÁC TRƯỚC LUẬN ĐIỆU XẢO TRÁ CỦA NGUYỄN N...   \n",
       "4  Thành tựu xóa đói, giảm nghèo, nâng cao đời số...   \n",
       "\n",
       "                                             content label  \n",
       "0  Lợi dụng việc Đảng ban hành Nghị quyết số 18-N...        \n",
       "1  Mới đây, trên nhiều diễn đàn phản động đã đồng...        \n",
       "2  Thời gian gần đây, trên “ Với âm mưu lợi dụng ...        \n",
       "3  Gần đây dư luận xã hội đã hết sức bức xúc về b...        \n",
       "4  Xóa đói, giảm nghèo, nâng cao đời sống nhân dâ...        "
      ]
     },
     "execution_count": 160,
     "metadata": {},
     "output_type": "execute_result"
    }
   ],
   "source": [
    "fakenew_3.head()"
   ]
  },
  {
   "cell_type": "code",
   "execution_count": 162,
   "metadata": {},
   "outputs": [],
   "source": [
    "f=[]\n",
    "for i in range(len(fakenew_3)):\n",
    "    f.append(\"fake\")"
   ]
  },
  {
   "cell_type": "code",
   "execution_count": 163,
   "metadata": {},
   "outputs": [
    {
     "name": "stderr",
     "output_type": "stream",
     "text": [
      "C:\\Users\\hotai\\AppData\\Local\\Temp\\ipykernel_7904\\113684910.py:1: SettingWithCopyWarning: \n",
      "A value is trying to be set on a copy of a slice from a DataFrame.\n",
      "Try using .loc[row_indexer,col_indexer] = value instead\n",
      "\n",
      "See the caveats in the documentation: https://pandas.pydata.org/pandas-docs/stable/user_guide/indexing.html#returning-a-view-versus-a-copy\n",
      "  fakenew_3['label']=f\n"
     ]
    }
   ],
   "source": [
    "fakenew_3['label']=f"
   ]
  },
  {
   "cell_type": "code",
   "execution_count": 164,
   "metadata": {},
   "outputs": [
    {
     "data": {
      "text/html": [
       "<div>\n",
       "<style scoped>\n",
       "    .dataframe tbody tr th:only-of-type {\n",
       "        vertical-align: middle;\n",
       "    }\n",
       "\n",
       "    .dataframe tbody tr th {\n",
       "        vertical-align: top;\n",
       "    }\n",
       "\n",
       "    .dataframe thead th {\n",
       "        text-align: right;\n",
       "    }\n",
       "</style>\n",
       "<table border=\"1\" class=\"dataframe\">\n",
       "  <thead>\n",
       "    <tr style=\"text-align: right;\">\n",
       "      <th></th>\n",
       "      <th>name</th>\n",
       "      <th>content</th>\n",
       "      <th>label</th>\n",
       "    </tr>\n",
       "  </thead>\n",
       "  <tbody>\n",
       "    <tr>\n",
       "      <th>0</th>\n",
       "      <td>Không thể xuyên tạc quan điểm “đất đai thuộc s...</td>\n",
       "      <td>Lợi dụng việc Đảng ban hành Nghị quyết số 18-N...</td>\n",
       "      <td>fake</td>\n",
       "    </tr>\n",
       "    <tr>\n",
       "      <th>1</th>\n",
       "      <td>NGUYÊN ANH THÊM MỘT LẦN TRÁO TRỞ</td>\n",
       "      <td>Mới đây, trên nhiều diễn đàn phản động đã đồng...</td>\n",
       "      <td>fake</td>\n",
       "    </tr>\n",
       "    <tr>\n",
       "      <th>2</th>\n",
       "      <td>LUẬN ĐIỆU XUYÊN TẠC CÔNG CUỘC PHÒNG, CHỐNG THA...</td>\n",
       "      <td>Thời gian gần đây, trên “ Với âm mưu lợi dụng ...</td>\n",
       "      <td>fake</td>\n",
       "    </tr>\n",
       "    <tr>\n",
       "      <th>3</th>\n",
       "      <td>CẢNH GIÁC TRƯỚC LUẬN ĐIỆU XẢO TRÁ CỦA NGUYỄN N...</td>\n",
       "      <td>Gần đây dư luận xã hội đã hết sức bức xúc về b...</td>\n",
       "      <td>fake</td>\n",
       "    </tr>\n",
       "    <tr>\n",
       "      <th>4</th>\n",
       "      <td>Thành tựu xóa đói, giảm nghèo, nâng cao đời số...</td>\n",
       "      <td>Xóa đói, giảm nghèo, nâng cao đời sống nhân dâ...</td>\n",
       "      <td>fake</td>\n",
       "    </tr>\n",
       "  </tbody>\n",
       "</table>\n",
       "</div>"
      ],
      "text/plain": [
       "                                                name  \\\n",
       "0  Không thể xuyên tạc quan điểm “đất đai thuộc s...   \n",
       "1                   NGUYÊN ANH THÊM MỘT LẦN TRÁO TRỞ   \n",
       "2  LUẬN ĐIỆU XUYÊN TẠC CÔNG CUỘC PHÒNG, CHỐNG THA...   \n",
       "3  CẢNH GIÁC TRƯỚC LUẬN ĐIỆU XẢO TRÁ CỦA NGUYỄN N...   \n",
       "4  Thành tựu xóa đói, giảm nghèo, nâng cao đời số...   \n",
       "\n",
       "                                             content label  \n",
       "0  Lợi dụng việc Đảng ban hành Nghị quyết số 18-N...  fake  \n",
       "1  Mới đây, trên nhiều diễn đàn phản động đã đồng...  fake  \n",
       "2  Thời gian gần đây, trên “ Với âm mưu lợi dụng ...  fake  \n",
       "3  Gần đây dư luận xã hội đã hết sức bức xúc về b...  fake  \n",
       "4  Xóa đói, giảm nghèo, nâng cao đời sống nhân dâ...  fake  "
      ]
     },
     "execution_count": 164,
     "metadata": {},
     "output_type": "execute_result"
    }
   ],
   "source": [
    "fakenew_3.head()"
   ]
  },
  {
   "cell_type": "code",
   "execution_count": 166,
   "metadata": {},
   "outputs": [],
   "source": [
    "fakenew_3.to_csv('fake_new_drop2.csv',encoding='utf-8-sig')"
   ]
  },
  {
   "cell_type": "code",
   "execution_count": 176,
   "metadata": {},
   "outputs": [],
   "source": [
    "fakenews4=pd.read_csv('fake_new_drop2.csv')"
   ]
  },
  {
   "cell_type": "code",
   "execution_count": 177,
   "metadata": {},
   "outputs": [
    {
     "data": {
      "text/html": [
       "<div>\n",
       "<style scoped>\n",
       "    .dataframe tbody tr th:only-of-type {\n",
       "        vertical-align: middle;\n",
       "    }\n",
       "\n",
       "    .dataframe tbody tr th {\n",
       "        vertical-align: top;\n",
       "    }\n",
       "\n",
       "    .dataframe thead th {\n",
       "        text-align: right;\n",
       "    }\n",
       "</style>\n",
       "<table border=\"1\" class=\"dataframe\">\n",
       "  <thead>\n",
       "    <tr style=\"text-align: right;\">\n",
       "      <th></th>\n",
       "      <th>Unnamed: 0</th>\n",
       "      <th>Title</th>\n",
       "      <th>Content</th>\n",
       "      <th>label</th>\n",
       "    </tr>\n",
       "  </thead>\n",
       "  <tbody>\n",
       "    <tr>\n",
       "      <th>0</th>\n",
       "      <td>0</td>\n",
       "      <td>Không thể xuyên tạc quan điểm “đất đai thuộc s...</td>\n",
       "      <td>Lợi dụng việc Đảng ban hành Nghị quyết số 18-N...</td>\n",
       "      <td>fake</td>\n",
       "    </tr>\n",
       "    <tr>\n",
       "      <th>1</th>\n",
       "      <td>1</td>\n",
       "      <td>NGUYÊN ANH THÊM MỘT LẦN TRÁO TRỞ</td>\n",
       "      <td>Mới đây, trên nhiều diễn đàn phản động đã đồng...</td>\n",
       "      <td>fake</td>\n",
       "    </tr>\n",
       "    <tr>\n",
       "      <th>2</th>\n",
       "      <td>2</td>\n",
       "      <td>LUẬN ĐIỆU XUYÊN TẠC CÔNG CUỘC PHÒNG, CHỐNG THA...</td>\n",
       "      <td>Thời gian gần đây, trên “ Với âm mưu lợi dụng ...</td>\n",
       "      <td>fake</td>\n",
       "    </tr>\n",
       "    <tr>\n",
       "      <th>3</th>\n",
       "      <td>3</td>\n",
       "      <td>CẢNH GIÁC TRƯỚC LUẬN ĐIỆU XẢO TRÁ CỦA NGUYỄN N...</td>\n",
       "      <td>Gần đây dư luận xã hội đã hết sức bức xúc về b...</td>\n",
       "      <td>fake</td>\n",
       "    </tr>\n",
       "    <tr>\n",
       "      <th>4</th>\n",
       "      <td>4</td>\n",
       "      <td>Thành tựu xóa đói, giảm nghèo, nâng cao đời số...</td>\n",
       "      <td>Xóa đói, giảm nghèo, nâng cao đời sống nhân dâ...</td>\n",
       "      <td>fake</td>\n",
       "    </tr>\n",
       "  </tbody>\n",
       "</table>\n",
       "</div>"
      ],
      "text/plain": [
       "   Unnamed: 0                                              Title  \\\n",
       "0           0  Không thể xuyên tạc quan điểm “đất đai thuộc s...   \n",
       "1           1                   NGUYÊN ANH THÊM MỘT LẦN TRÁO TRỞ   \n",
       "2           2  LUẬN ĐIỆU XUYÊN TẠC CÔNG CUỘC PHÒNG, CHỐNG THA...   \n",
       "3           3  CẢNH GIÁC TRƯỚC LUẬN ĐIỆU XẢO TRÁ CỦA NGUYỄN N...   \n",
       "4           4  Thành tựu xóa đói, giảm nghèo, nâng cao đời số...   \n",
       "\n",
       "                                             Content label  \n",
       "0  Lợi dụng việc Đảng ban hành Nghị quyết số 18-N...  fake  \n",
       "1  Mới đây, trên nhiều diễn đàn phản động đã đồng...  fake  \n",
       "2  Thời gian gần đây, trên “ Với âm mưu lợi dụng ...  fake  \n",
       "3  Gần đây dư luận xã hội đã hết sức bức xúc về b...  fake  \n",
       "4  Xóa đói, giảm nghèo, nâng cao đời sống nhân dâ...  fake  "
      ]
     },
     "execution_count": 177,
     "metadata": {},
     "output_type": "execute_result"
    }
   ],
   "source": [
    "fakenews4.head()"
   ]
  },
  {
   "cell_type": "code",
   "execution_count": 178,
   "metadata": {},
   "outputs": [
    {
     "name": "stderr",
     "output_type": "stream",
     "text": [
      "C:\\Users\\hotai\\AppData\\Local\\Temp\\ipykernel_7904\\1040694019.py:2: SettingWithCopyWarning: \n",
      "A value is trying to be set on a copy of a slice from a DataFrame\n",
      "\n",
      "See the caveats in the documentation: https://pandas.pydata.org/pandas-docs/stable/user_guide/indexing.html#returning-a-view-versus-a-copy\n",
      "  fakenews4.Content[i] = text_preprocess(str(fakenews4.Content[i]))\n",
      "C:\\Users\\hotai\\AppData\\Local\\Temp\\ipykernel_7904\\1040694019.py:3: SettingWithCopyWarning: \n",
      "A value is trying to be set on a copy of a slice from a DataFrame\n",
      "\n",
      "See the caveats in the documentation: https://pandas.pydata.org/pandas-docs/stable/user_guide/indexing.html#returning-a-view-versus-a-copy\n",
      "  fakenews4.Title[i] = text_preprocess(str(fakenews4.Title[i]))\n"
     ]
    }
   ],
   "source": [
    "for i in range(len(fakenews4)):\n",
    "   fakenews4.Content[i] = text_preprocess(str(fakenews4.Content[i]))\n",
    "   fakenews4.Title[i] = text_preprocess(str(fakenews4.Title[i]))"
   ]
  },
  {
   "cell_type": "code",
   "execution_count": 179,
   "metadata": {},
   "outputs": [
    {
     "name": "stderr",
     "output_type": "stream",
     "text": [
      "C:\\Users\\hotai\\AppData\\Local\\Temp\\ipykernel_7904\\844682739.py:2: SettingWithCopyWarning: \n",
      "A value is trying to be set on a copy of a slice from a DataFrame\n",
      "\n",
      "See the caveats in the documentation: https://pandas.pydata.org/pandas-docs/stable/user_guide/indexing.html#returning-a-view-versus-a-copy\n",
      "  fakenews4.Content[i] = remove_stop_words(str(fakenews4.Content[i]))[0]\n",
      "C:\\Users\\hotai\\AppData\\Local\\Temp\\ipykernel_7904\\844682739.py:3: SettingWithCopyWarning: \n",
      "A value is trying to be set on a copy of a slice from a DataFrame\n",
      "\n",
      "See the caveats in the documentation: https://pandas.pydata.org/pandas-docs/stable/user_guide/indexing.html#returning-a-view-versus-a-copy\n",
      "  fakenews4.Title[i] = remove_stop_words(str(fakenews4.Title[i]))[0]\n"
     ]
    }
   ],
   "source": [
    "for i in range(len(fakenews4)):\n",
    "   fakenews4.Content[i] = remove_stop_words(str(fakenews4.Content[i]))[0]\n",
    "   fakenews4.Title[i] = remove_stop_words(str(fakenews4.Title[i]))[0]"
   ]
  },
  {
   "cell_type": "code",
   "execution_count": 180,
   "metadata": {},
   "outputs": [
    {
     "data": {
      "text/html": [
       "<div>\n",
       "<style scoped>\n",
       "    .dataframe tbody tr th:only-of-type {\n",
       "        vertical-align: middle;\n",
       "    }\n",
       "\n",
       "    .dataframe tbody tr th {\n",
       "        vertical-align: top;\n",
       "    }\n",
       "\n",
       "    .dataframe thead th {\n",
       "        text-align: right;\n",
       "    }\n",
       "</style>\n",
       "<table border=\"1\" class=\"dataframe\">\n",
       "  <thead>\n",
       "    <tr style=\"text-align: right;\">\n",
       "      <th></th>\n",
       "      <th>Unnamed: 0</th>\n",
       "      <th>Title</th>\n",
       "      <th>Content</th>\n",
       "      <th>label</th>\n",
       "    </tr>\n",
       "  </thead>\n",
       "  <tbody>\n",
       "    <tr>\n",
       "      <th>0</th>\n",
       "      <td>0</td>\n",
       "      <td>xuyên_tạc quan_điểm đất_đai sở_hữu_toàn_dân đảng</td>\n",
       "      <td>lợi_dụng đảng ban_hành nghị_quyết 18 nq tw đổi...</td>\n",
       "      <td>fake</td>\n",
       "    </tr>\n",
       "    <tr>\n",
       "      <th>1</th>\n",
       "      <td>1</td>\n",
       "      <td>nguyên một_lần tráo_trở</td>\n",
       "      <td>diễn_đàn phản_động đồng_loạt tán_phát viết trá...</td>\n",
       "      <td>fake</td>\n",
       "    </tr>\n",
       "    <tr>\n",
       "      <th>2</th>\n",
       "      <td>2</td>\n",
       "      <td>luận_điệu xuyên_tạc công_cuộc phòng chống tham...</td>\n",
       "      <td>âm_mưu_lợi_dụng cuộc_chiến chống tham_nhũng ch...</td>\n",
       "      <td>fake</td>\n",
       "    </tr>\n",
       "    <tr>\n",
       "      <th>3</th>\n",
       "      <td>3</td>\n",
       "      <td>cảnh_giác luận_điệu xảo_trá nguyễn_ngọc_già</td>\n",
       "      <td>dư_luận xã_hội hết_sức bức_xúc viết 35 đổi_mới...</td>\n",
       "      <td>fake</td>\n",
       "    </tr>\n",
       "    <tr>\n",
       "      <th>4</th>\n",
       "      <td>4</td>\n",
       "      <td>thành_tựu xóa đói nghèo nâng đời_sống nhân_dân...</td>\n",
       "      <td>xóa đói nghèo nâng đời_sống nhân_dân mục_tiêu ...</td>\n",
       "      <td>fake</td>\n",
       "    </tr>\n",
       "  </tbody>\n",
       "</table>\n",
       "</div>"
      ],
      "text/plain": [
       "   Unnamed: 0                                              Title  \\\n",
       "0           0   xuyên_tạc quan_điểm đất_đai sở_hữu_toàn_dân đảng   \n",
       "1           1                            nguyên một_lần tráo_trở   \n",
       "2           2  luận_điệu xuyên_tạc công_cuộc phòng chống tham...   \n",
       "3           3        cảnh_giác luận_điệu xảo_trá nguyễn_ngọc_già   \n",
       "4           4  thành_tựu xóa đói nghèo nâng đời_sống nhân_dân...   \n",
       "\n",
       "                                             Content label  \n",
       "0  lợi_dụng đảng ban_hành nghị_quyết 18 nq tw đổi...  fake  \n",
       "1  diễn_đàn phản_động đồng_loạt tán_phát viết trá...  fake  \n",
       "2  âm_mưu_lợi_dụng cuộc_chiến chống tham_nhũng ch...  fake  \n",
       "3  dư_luận xã_hội hết_sức bức_xúc viết 35 đổi_mới...  fake  \n",
       "4  xóa đói nghèo nâng đời_sống nhân_dân mục_tiêu ...  fake  "
      ]
     },
     "execution_count": 180,
     "metadata": {},
     "output_type": "execute_result"
    }
   ],
   "source": [
    "fakenews4.head()"
   ]
  },
  {
   "cell_type": "code",
   "execution_count": 182,
   "metadata": {},
   "outputs": [],
   "source": [
    "fakenew_4 = fakenews4.iloc[:,1:]"
   ]
  },
  {
   "cell_type": "code",
   "execution_count": 183,
   "metadata": {},
   "outputs": [
    {
     "data": {
      "text/html": [
       "<div>\n",
       "<style scoped>\n",
       "    .dataframe tbody tr th:only-of-type {\n",
       "        vertical-align: middle;\n",
       "    }\n",
       "\n",
       "    .dataframe tbody tr th {\n",
       "        vertical-align: top;\n",
       "    }\n",
       "\n",
       "    .dataframe thead th {\n",
       "        text-align: right;\n",
       "    }\n",
       "</style>\n",
       "<table border=\"1\" class=\"dataframe\">\n",
       "  <thead>\n",
       "    <tr style=\"text-align: right;\">\n",
       "      <th></th>\n",
       "      <th>Title</th>\n",
       "      <th>Content</th>\n",
       "      <th>label</th>\n",
       "    </tr>\n",
       "  </thead>\n",
       "  <tbody>\n",
       "    <tr>\n",
       "      <th>0</th>\n",
       "      <td>xuyên_tạc quan_điểm đất_đai sở_hữu_toàn_dân đảng</td>\n",
       "      <td>lợi_dụng đảng ban_hành nghị_quyết 18 nq tw đổi...</td>\n",
       "      <td>fake</td>\n",
       "    </tr>\n",
       "    <tr>\n",
       "      <th>1</th>\n",
       "      <td>nguyên một_lần tráo_trở</td>\n",
       "      <td>diễn_đàn phản_động đồng_loạt tán_phát viết trá...</td>\n",
       "      <td>fake</td>\n",
       "    </tr>\n",
       "    <tr>\n",
       "      <th>2</th>\n",
       "      <td>luận_điệu xuyên_tạc công_cuộc phòng chống tham...</td>\n",
       "      <td>âm_mưu_lợi_dụng cuộc_chiến chống tham_nhũng ch...</td>\n",
       "      <td>fake</td>\n",
       "    </tr>\n",
       "    <tr>\n",
       "      <th>3</th>\n",
       "      <td>cảnh_giác luận_điệu xảo_trá nguyễn_ngọc_già</td>\n",
       "      <td>dư_luận xã_hội hết_sức bức_xúc viết 35 đổi_mới...</td>\n",
       "      <td>fake</td>\n",
       "    </tr>\n",
       "    <tr>\n",
       "      <th>4</th>\n",
       "      <td>thành_tựu xóa đói nghèo nâng đời_sống nhân_dân...</td>\n",
       "      <td>xóa đói nghèo nâng đời_sống nhân_dân mục_tiêu ...</td>\n",
       "      <td>fake</td>\n",
       "    </tr>\n",
       "  </tbody>\n",
       "</table>\n",
       "</div>"
      ],
      "text/plain": [
       "                                               Title  \\\n",
       "0   xuyên_tạc quan_điểm đất_đai sở_hữu_toàn_dân đảng   \n",
       "1                            nguyên một_lần tráo_trở   \n",
       "2  luận_điệu xuyên_tạc công_cuộc phòng chống tham...   \n",
       "3        cảnh_giác luận_điệu xảo_trá nguyễn_ngọc_già   \n",
       "4  thành_tựu xóa đói nghèo nâng đời_sống nhân_dân...   \n",
       "\n",
       "                                             Content label  \n",
       "0  lợi_dụng đảng ban_hành nghị_quyết 18 nq tw đổi...  fake  \n",
       "1  diễn_đàn phản_động đồng_loạt tán_phát viết trá...  fake  \n",
       "2  âm_mưu_lợi_dụng cuộc_chiến chống tham_nhũng ch...  fake  \n",
       "3  dư_luận xã_hội hết_sức bức_xúc viết 35 đổi_mới...  fake  \n",
       "4  xóa đói nghèo nâng đời_sống nhân_dân mục_tiêu ...  fake  "
      ]
     },
     "execution_count": 183,
     "metadata": {},
     "output_type": "execute_result"
    }
   ],
   "source": [
    "fakenew_4.head()"
   ]
  },
  {
   "cell_type": "code",
   "execution_count": 184,
   "metadata": {},
   "outputs": [],
   "source": [
    "fakenew_4.to_csv('fake_new_processing3.csv',encoding='utf-8-sig')"
   ]
  },
  {
   "cell_type": "code",
   "execution_count": 83,
   "metadata": {},
   "outputs": [
    {
     "name": "stderr",
     "output_type": "stream",
     "text": [
      "C:\\Users\\hotai\\AppData\\Local\\Temp\\ipykernel_19088\\2428491621.py:10: SettingWithCopyWarning: \n",
      "A value is trying to be set on a copy of a slice from a DataFrame\n",
      "\n",
      "See the caveats in the documentation: https://pandas.pydata.org/pandas-docs/stable/user_guide/indexing.html#returning-a-view-versus-a-copy\n",
      "  realnews.Content[i]=r\n"
     ]
    }
   ],
   "source": [
    "# for i in range(len(realnews)):\n",
    "#     r = str(realnews.Content[i])\n",
    "#     r = r.replace(\"\\r\\n\", \"\")\n",
    "#     r = r.replace(\"\\n\\r\", \"\")\n",
    "#     r = r.replace(\"\\n\\n\", \"\")\n",
    "#     r = r.replace(\"\\n\\n\", \"\")\n",
    "#     r = r.replace(\"\\n\", \"\")\n",
    "#     r = r.replace(\".\\n\", \". \")\n",
    "#     r = r.replace(\"\\xa0\", \" \")\n",
    "#     realnews.Content[i]=r"
   ]
  },
  {
   "cell_type": "code",
   "execution_count": 87,
   "metadata": {},
   "outputs": [],
   "source": [
    "r=[]\n",
    "for i in range(len(realnews)):\n",
    "    r.append(\"real\")\n",
    "f=[]\n",
    "for i in range(len(fakenews)):\n",
    "    f.append(\"fake\")\n",
    "realnews['label']=r\n",
    "fakenews['label']=f"
   ]
  },
  {
   "cell_type": "code",
   "execution_count": 88,
   "metadata": {},
   "outputs": [],
   "source": [
    "realnews.to_csv('real_new_processing.csv',encoding='utf-8-sig') "
   ]
  },
  {
   "cell_type": "code",
   "execution_count": 89,
   "metadata": {},
   "outputs": [],
   "source": [
    "fakenews.to_csv('fake_new_processing.csv',encoding='utf-8-sig') "
   ]
  },
  {
   "cell_type": "code",
   "execution_count": 93,
   "metadata": {},
   "outputs": [],
   "source": [
    "r1=pd.read_csv('real_news.csv')"
   ]
  },
  {
   "cell_type": "code",
   "execution_count": 94,
   "metadata": {},
   "outputs": [
    {
     "data": {
      "text/html": [
       "<div>\n",
       "<style scoped>\n",
       "    .dataframe tbody tr th:only-of-type {\n",
       "        vertical-align: middle;\n",
       "    }\n",
       "\n",
       "    .dataframe tbody tr th {\n",
       "        vertical-align: top;\n",
       "    }\n",
       "\n",
       "    .dataframe thead th {\n",
       "        text-align: right;\n",
       "    }\n",
       "</style>\n",
       "<table border=\"1\" class=\"dataframe\">\n",
       "  <thead>\n",
       "    <tr style=\"text-align: right;\">\n",
       "      <th></th>\n",
       "      <th>Unnamed: 0</th>\n",
       "      <th>Title</th>\n",
       "      <th>Content</th>\n",
       "    </tr>\n",
       "  </thead>\n",
       "  <tbody>\n",
       "    <tr>\n",
       "      <th>0</th>\n",
       "      <td>0</td>\n",
       "      <td>Chiến đấu với giặc lửa, không ít chiến sĩ hy s...</td>\n",
       "      <td>Nhân kỷ niệm 61 năm Ngày truyền thống lực lượ...</td>\n",
       "    </tr>\n",
       "    <tr>\n",
       "      <th>1</th>\n",
       "      <td>1</td>\n",
       "      <td>Thủ tướng: Tập trung khắc phục hậu quả bão Nor...</td>\n",
       "      <td>Sáng 1/10, tại trụ sở Chính phủ, Thủ tướng Ph...</td>\n",
       "    </tr>\n",
       "    <tr>\n",
       "      <th>2</th>\n",
       "      <td>2</td>\n",
       "      <td>Báo chí góp phần lan tỏa hình ảnh đẹp về lực l...</td>\n",
       "      <td>Chiều 30/9 tại Hà Nội, Thiếu tướng Đỗ Triệu P...</td>\n",
       "    </tr>\n",
       "    <tr>\n",
       "      <th>3</th>\n",
       "      <td>3</td>\n",
       "      <td>Bộ Thông tin và Truyền thông điều động, bổ nhi...</td>\n",
       "      <td>Chiều 30/9, tại Hà Nội, Bộ trưởng Bộ TT&amp;TT Ng...</td>\n",
       "    </tr>\n",
       "    <tr>\n",
       "      <th>4</th>\n",
       "      <td>4</td>\n",
       "      <td>Phó Giám đốc Sở Nội vụ Bắc Ninh xin nghỉ việc</td>\n",
       "      <td>Ngày 30/9, lãnh đạo Sở Nội vụ tỉnh Bắc Ninh c...</td>\n",
       "    </tr>\n",
       "  </tbody>\n",
       "</table>\n",
       "</div>"
      ],
      "text/plain": [
       "   Unnamed: 0                                              Title  \\\n",
       "0           0  Chiến đấu với giặc lửa, không ít chiến sĩ hy s...   \n",
       "1           1  Thủ tướng: Tập trung khắc phục hậu quả bão Nor...   \n",
       "2           2  Báo chí góp phần lan tỏa hình ảnh đẹp về lực l...   \n",
       "3           3  Bộ Thông tin và Truyền thông điều động, bổ nhi...   \n",
       "4           4      Phó Giám đốc Sở Nội vụ Bắc Ninh xin nghỉ việc   \n",
       "\n",
       "                                             Content  \n",
       "0   Nhân kỷ niệm 61 năm Ngày truyền thống lực lượ...  \n",
       "1   Sáng 1/10, tại trụ sở Chính phủ, Thủ tướng Ph...  \n",
       "2   Chiều 30/9 tại Hà Nội, Thiếu tướng Đỗ Triệu P...  \n",
       "3   Chiều 30/9, tại Hà Nội, Bộ trưởng Bộ TT&TT Ng...  \n",
       "4   Ngày 30/9, lãnh đạo Sở Nội vụ tỉnh Bắc Ninh c...  "
      ]
     },
     "execution_count": 94,
     "metadata": {},
     "output_type": "execute_result"
    }
   ],
   "source": [
    "r1.head()"
   ]
  },
  {
   "cell_type": "code",
   "execution_count": 95,
   "metadata": {},
   "outputs": [],
   "source": [
    "r1 = r1.dropna()"
   ]
  },
  {
   "cell_type": "code",
   "execution_count": 96,
   "metadata": {},
   "outputs": [
    {
     "data": {
      "text/plain": [
       "562"
      ]
     },
     "execution_count": 96,
     "metadata": {},
     "output_type": "execute_result"
    }
   ],
   "source": [
    "len(r1)"
   ]
  },
  {
   "cell_type": "code",
   "execution_count": 97,
   "metadata": {},
   "outputs": [
    {
     "data": {
      "text/plain": [
       "'Chiến đấu với giặc lửa, không ít chiến sĩ hy sinh, mang thương tật suốt đời'"
      ]
     },
     "execution_count": 97,
     "metadata": {},
     "output_type": "execute_result"
    }
   ],
   "source": [
    "r1.Title[0]"
   ]
  }
 ],
 "metadata": {
  "kernelspec": {
   "display_name": "Python 3.10.7 64-bit (microsoft store)",
   "language": "python",
   "name": "python3"
  },
  "language_info": {
   "codemirror_mode": {
    "name": "ipython",
    "version": 3
   },
   "file_extension": ".py",
   "mimetype": "text/x-python",
   "name": "python",
   "nbconvert_exporter": "python",
   "pygments_lexer": "ipython3",
   "version": "3.10.8"
  },
  "orig_nbformat": 4,
  "vscode": {
   "interpreter": {
    "hash": "3928ddc353f8a2c9be4da0a470a486be4ae30ec0aadff718d1bc910be592329a"
   }
  }
 },
 "nbformat": 4,
 "nbformat_minor": 2
}
