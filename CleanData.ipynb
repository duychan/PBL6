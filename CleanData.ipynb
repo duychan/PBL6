{
 "cells": [
  {
   "cell_type": "code",
   "execution_count": 1,
   "metadata": {},
   "outputs": [],
   "source": [
    "import numpy as np\n",
    "import pandas as pd"
   ]
  },
  {
   "cell_type": "code",
   "execution_count": 2,
   "metadata": {},
   "outputs": [],
   "source": [
    "fakenews=pd.read_csv('viettan.csv')"
   ]
  },
  {
   "cell_type": "code",
   "execution_count": 3,
   "metadata": {},
   "outputs": [
    {
     "data": {
      "text/html": [
       "<div>\n",
       "<style scoped>\n",
       "    .dataframe tbody tr th:only-of-type {\n",
       "        vertical-align: middle;\n",
       "    }\n",
       "\n",
       "    .dataframe tbody tr th {\n",
       "        vertical-align: top;\n",
       "    }\n",
       "\n",
       "    .dataframe thead th {\n",
       "        text-align: right;\n",
       "    }\n",
       "</style>\n",
       "<table border=\"1\" class=\"dataframe\">\n",
       "  <thead>\n",
       "    <tr style=\"text-align: right;\">\n",
       "      <th></th>\n",
       "      <th>label</th>\n",
       "      <th>link</th>\n",
       "      <th>Title</th>\n",
       "      <th>Content</th>\n",
       "    </tr>\n",
       "  </thead>\n",
       "  <tbody>\n",
       "    <tr>\n",
       "      <th>0</th>\n",
       "      <td></td>\n",
       "      <td>https://viettan.org/bao-chi-viet-nam-ne-vach-t...</td>\n",
       "      <td>Báo chí Việt Nam “né” vạch trần tham nhũng chí...</td>\n",
       "      <td>“Hồ sơ Panama” mà Hiệp hội các nhà báo điều tr...</td>\n",
       "    </tr>\n",
       "    <tr>\n",
       "      <th>1</th>\n",
       "      <td></td>\n",
       "      <td>https://viettan.org/nhung-dua-tre-phia-sau-nhu...</td>\n",
       "      <td>Những đứa trẻ phía sau những tù nhân lương tâm...</td>\n",
       "      <td>Lâu nay chúng ta vẫn bày tỏ sự phẫn nộ trước n...</td>\n",
       "    </tr>\n",
       "    <tr>\n",
       "      <th>2</th>\n",
       "      <td></td>\n",
       "      <td>https://viettan.org/kinh-te-viet-nam-truoc-rui...</td>\n",
       "      <td>Kinh tế Việt Nam trước rủi ro địa kinh tế chín...</td>\n",
       "      <td>Có thể nhận thấy dạo này các chính trị gia CSV...</td>\n",
       "    </tr>\n",
       "    <tr>\n",
       "      <th>3</th>\n",
       "      <td></td>\n",
       "      <td>https://viettan.org/viet-tan-len-an-csvn-nguoc...</td>\n",
       "      <td>Việt Tân lên án CSVN ngược đãi khiến tù nhân c...</td>\n",
       "      <td>Tù nhân chính trị Đỗ Công Đương, 58 tuổi, quê ...</td>\n",
       "    </tr>\n",
       "    <tr>\n",
       "      <th>4</th>\n",
       "      <td></td>\n",
       "      <td>https://viettan.org/hoi-dong-bao-an-lhq-len-an...</td>\n",
       "      <td>Hội Đồng Bảo An LHQ lên án Miến Điện hành quyế...</td>\n",
       "      <td>Hai ngày sau khi tập đoàn quân sự cầm quyền ở ...</td>\n",
       "    </tr>\n",
       "  </tbody>\n",
       "</table>\n",
       "</div>"
      ],
      "text/plain": [
       "  label                                               link  \\\n",
       "0        https://viettan.org/bao-chi-viet-nam-ne-vach-t...   \n",
       "1        https://viettan.org/nhung-dua-tre-phia-sau-nhu...   \n",
       "2        https://viettan.org/kinh-te-viet-nam-truoc-rui...   \n",
       "3        https://viettan.org/viet-tan-len-an-csvn-nguoc...   \n",
       "4        https://viettan.org/hoi-dong-bao-an-lhq-len-an...   \n",
       "\n",
       "                                               Title  \\\n",
       "0  Báo chí Việt Nam “né” vạch trần tham nhũng chí...   \n",
       "1  Những đứa trẻ phía sau những tù nhân lương tâm...   \n",
       "2  Kinh tế Việt Nam trước rủi ro địa kinh tế chín...   \n",
       "3  Việt Tân lên án CSVN ngược đãi khiến tù nhân c...   \n",
       "4  Hội Đồng Bảo An LHQ lên án Miến Điện hành quyế...   \n",
       "\n",
       "                                             Content  \n",
       "0  “Hồ sơ Panama” mà Hiệp hội các nhà báo điều tr...  \n",
       "1  Lâu nay chúng ta vẫn bày tỏ sự phẫn nộ trước n...  \n",
       "2  Có thể nhận thấy dạo này các chính trị gia CSV...  \n",
       "3  Tù nhân chính trị Đỗ Công Đương, 58 tuổi, quê ...  \n",
       "4  Hai ngày sau khi tập đoàn quân sự cầm quyền ở ...  "
      ]
     },
     "execution_count": 3,
     "metadata": {},
     "output_type": "execute_result"
    }
   ],
   "source": [
    "fakenews.head()"
   ]
  },
  {
   "cell_type": "code",
   "execution_count": 4,
   "metadata": {},
   "outputs": [
    {
     "data": {
      "text/plain": [
       "label      0\n",
       "link       0\n",
       "Title      0\n",
       "Content    6\n",
       "dtype: int64"
      ]
     },
     "execution_count": 4,
     "metadata": {},
     "output_type": "execute_result"
    }
   ],
   "source": [
    "len(fakenews)\n",
    "fakenews.isnull().sum()"
   ]
  },
  {
   "cell_type": "code",
   "execution_count": 5,
   "metadata": {},
   "outputs": [],
   "source": [
    "stop = pd.read_csv(\"D:/Ki7/PBL6/vietnamese.txt\")\n",
    "stop = stop.values.tolist()\n",
    "stop_words=[]\n",
    "for i in range(len(stop)):\n",
    "    stop_words.append(stop[i][0].replace(' ','_'))"
   ]
  },
  {
   "cell_type": "code",
   "execution_count": 6,
   "metadata": {},
   "outputs": [],
   "source": [
    "def remove_stop_words(text):\n",
    "    results = []\n",
    "   \n",
    "    tmp = text.split(' ')\n",
    "    for stop_word in stop_words:\n",
    "        if stop_word in tmp:\n",
    "            tmp.remove(stop_word)\n",
    "    results.append(\" \".join(tmp))\n",
    "        \n",
    "    return results"
   ]
  },
  {
   "cell_type": "code",
   "execution_count": 7,
   "metadata": {},
   "outputs": [
    {
     "data": {
      "text/plain": [
       "'a_lô'"
      ]
     },
     "execution_count": 7,
     "metadata": {},
     "output_type": "execute_result"
    }
   ],
   "source": [
    "stop_words[0]"
   ]
  },
  {
   "cell_type": "code",
   "execution_count": 8,
   "metadata": {},
   "outputs": [],
   "source": [
    "import re"
   ]
  },
  {
   "cell_type": "code",
   "execution_count": 9,
   "metadata": {},
   "outputs": [],
   "source": [
    "for i in range(len(fakenews)):\n",
    "   fakenews.Content[i] = str(fakenews.Content[i]).strip()"
   ]
  },
  {
   "cell_type": "code",
   "execution_count": 10,
   "metadata": {},
   "outputs": [
    {
     "data": {
      "text/plain": [
       "' jfhjsfh  7 * ()'"
      ]
     },
     "execution_count": 10,
     "metadata": {},
     "output_type": "execute_result"
    }
   ],
   "source": [
    "s='\"jfhjsfh\" 7 * ()'\n",
    "s.replace('\"',' ')"
   ]
  },
  {
   "cell_type": "code",
   "execution_count": 11,
   "metadata": {},
   "outputs": [],
   "source": [
    "def remove_SC(sin):\n",
    "    \n",
    "    s = sin.replace('“','')\n",
    "    s = s.replace('”','')\n",
    "    s = s.replace('!','')\n",
    "    s = s.replace('.','')\n",
    "    s = s.replace('*','')\n",
    "    s = s.replace('&','')\n",
    "    s = s.replace('^','')\n",
    "    s = s.replace('#','')\n",
    "    s = s.replace('$','')\n",
    "    s = s.replace('-','')\n",
    "    s = s.replace('+','')\n",
    "    s = s.replace('_','')\n",
    "    s = s.replace('=','')\n",
    "    s = s.replace(':','')\n",
    "    s = s.replace(';','')\n",
    "    s = s.replace('{','')\n",
    "    s = s.replace('}','')\n",
    "    s = s.replace(',','')\n",
    "    s = s.replace('?','')\n",
    "    s = s.replace('|','')\n",
    "    s = s.replace('/','')\n",
    "    return s\n"
   ]
  },
  {
   "cell_type": "code",
   "execution_count": 12,
   "metadata": {},
   "outputs": [],
   "source": [
    "for i in range(len(fakenews)):\n",
    "   fakenews.Content[i] = remove_SC(str(fakenews.Content[i])).lower()"
   ]
  },
  {
   "cell_type": "code",
   "execution_count": 13,
   "metadata": {},
   "outputs": [
    {
     "data": {
      "text/html": [
       "<div>\n",
       "<style scoped>\n",
       "    .dataframe tbody tr th:only-of-type {\n",
       "        vertical-align: middle;\n",
       "    }\n",
       "\n",
       "    .dataframe tbody tr th {\n",
       "        vertical-align: top;\n",
       "    }\n",
       "\n",
       "    .dataframe thead th {\n",
       "        text-align: right;\n",
       "    }\n",
       "</style>\n",
       "<table border=\"1\" class=\"dataframe\">\n",
       "  <thead>\n",
       "    <tr style=\"text-align: right;\">\n",
       "      <th></th>\n",
       "      <th>label</th>\n",
       "      <th>link</th>\n",
       "      <th>Title</th>\n",
       "      <th>Content</th>\n",
       "    </tr>\n",
       "  </thead>\n",
       "  <tbody>\n",
       "    <tr>\n",
       "      <th>0</th>\n",
       "      <td></td>\n",
       "      <td>https://viettan.org/bao-chi-viet-nam-ne-vach-t...</td>\n",
       "      <td>Báo chí Việt Nam “né” vạch trần tham nhũng chí...</td>\n",
       "      <td>hồ sơ panama mà hiệp hội các nhà báo điều tra ...</td>\n",
       "    </tr>\n",
       "    <tr>\n",
       "      <th>1</th>\n",
       "      <td></td>\n",
       "      <td>https://viettan.org/nhung-dua-tre-phia-sau-nhu...</td>\n",
       "      <td>Những đứa trẻ phía sau những tù nhân lương tâm...</td>\n",
       "      <td>lâu nay chúng ta vẫn bày tỏ sự phẫn nộ trước n...</td>\n",
       "    </tr>\n",
       "    <tr>\n",
       "      <th>2</th>\n",
       "      <td></td>\n",
       "      <td>https://viettan.org/kinh-te-viet-nam-truoc-rui...</td>\n",
       "      <td>Kinh tế Việt Nam trước rủi ro địa kinh tế chín...</td>\n",
       "      <td>có thể nhận thấy dạo này các chính trị gia csv...</td>\n",
       "    </tr>\n",
       "    <tr>\n",
       "      <th>3</th>\n",
       "      <td></td>\n",
       "      <td>https://viettan.org/viet-tan-len-an-csvn-nguoc...</td>\n",
       "      <td>Việt Tân lên án CSVN ngược đãi khiến tù nhân c...</td>\n",
       "      <td>tù nhân chính trị đỗ công đương 58 tuổi quê bắ...</td>\n",
       "    </tr>\n",
       "    <tr>\n",
       "      <th>4</th>\n",
       "      <td></td>\n",
       "      <td>https://viettan.org/hoi-dong-bao-an-lhq-len-an...</td>\n",
       "      <td>Hội Đồng Bảo An LHQ lên án Miến Điện hành quyế...</td>\n",
       "      <td>hai ngày sau khi tập đoàn quân sự cầm quyền ở ...</td>\n",
       "    </tr>\n",
       "  </tbody>\n",
       "</table>\n",
       "</div>"
      ],
      "text/plain": [
       "  label                                               link  \\\n",
       "0        https://viettan.org/bao-chi-viet-nam-ne-vach-t...   \n",
       "1        https://viettan.org/nhung-dua-tre-phia-sau-nhu...   \n",
       "2        https://viettan.org/kinh-te-viet-nam-truoc-rui...   \n",
       "3        https://viettan.org/viet-tan-len-an-csvn-nguoc...   \n",
       "4        https://viettan.org/hoi-dong-bao-an-lhq-len-an...   \n",
       "\n",
       "                                               Title  \\\n",
       "0  Báo chí Việt Nam “né” vạch trần tham nhũng chí...   \n",
       "1  Những đứa trẻ phía sau những tù nhân lương tâm...   \n",
       "2  Kinh tế Việt Nam trước rủi ro địa kinh tế chín...   \n",
       "3  Việt Tân lên án CSVN ngược đãi khiến tù nhân c...   \n",
       "4  Hội Đồng Bảo An LHQ lên án Miến Điện hành quyế...   \n",
       "\n",
       "                                             Content  \n",
       "0  hồ sơ panama mà hiệp hội các nhà báo điều tra ...  \n",
       "1  lâu nay chúng ta vẫn bày tỏ sự phẫn nộ trước n...  \n",
       "2  có thể nhận thấy dạo này các chính trị gia csv...  \n",
       "3  tù nhân chính trị đỗ công đương 58 tuổi quê bắ...  \n",
       "4  hai ngày sau khi tập đoàn quân sự cầm quyền ở ...  "
      ]
     },
     "execution_count": 13,
     "metadata": {},
     "output_type": "execute_result"
    }
   ],
   "source": [
    "fakenews.head()"
   ]
  },
  {
   "cell_type": "code",
   "execution_count": 14,
   "metadata": {},
   "outputs": [
    {
     "data": {
      "text/plain": [
       "'hồ sơ panama mà hiệp hội các nhà báo điều tra quốc tế tung ra hồi đầu tháng 42016 gợi cho báo chí việt nam câu hỏi vì sao đã không hưởng ứng để vạch trần tình trạng bí mật tài chính và tham nhũng chính trị tại việt nam các chính phủ trên khắp thế giới hiện đã thu hồi hơn 136 tỷ usd tiền thuế và tiền phạt là kết quả trực tiếp của vụ rò rỉ hồ sơ panama bao gồm 185 triệu usd thu hồi mới được báo cáo trong 3 năm qua theo đó từ 18g ngày 952016 theo giờ gmt người dân trên khắp thế giới có thể truy cập trang offshoreleaksicijorg để xem dữ liệu về hơn 200000 tài khoản ngân hàng do các cá nhân tổ chức lập ở nước ngoài hiệp hội các nhà báo điều tra quốc tế (icij) tuyên bố việc công bố các dữ liệu này là vì lợi ích của công chúng 5 năm sau khi icij dẫn đầu một cuộc điều tra trên toàn thế giới phơi bày bí mật của ngành tài chính 24 quốc gia đã báo cáo truy thu với hàng trăm quốc gia khác vẫn đang tiến hành cụ thể icij đã kiểm tra hơn 115 triệu tài liệu bí mật từ công ty luật mossack fonseca của panama kể từ tháng 4 năm 2019 australia đã bổ sung gần 45 triệu usd vào tổng số tiền thiệt hại hiện lên đến gần 138 triệu usd chính phủ italy đã báo cáo thu hồi thêm 318 triệu usd kể từ năm 2019 gần gấp đôi tổng số tiền tới 655 triệu usd đầu năm 2021 cơ quan quản lý thuế na uy lần đầu tiên cho biết rằng họ đã có thể thu hồi gần 34 triệu usd với những phát hiện mới của mình australia trở thành quốc gia thứ năm chính thức báo cáo khoản tiền hơn 100 triệu usd được thu hồi sau vụ hồ sơ panama vương quốc anh đã thu hồi được 2528 triệu usd đức đã thu hồi 1957 triệu usd (125 triệu usd kể từ năm 2019) tây ban nha đã thu hồi được 1665 triệu usd và pháp đã thu lại 1423 triệu usd sau hồ sơ panama hơn 80 quốc gia đã công bố các cuộc điều tra có thể dẫn đến thu hồi thuế các cáo buộc hình sự hoặc nhiều án phạt khác việt nam chưa thấy đưa ra bất kỳ công bố nào liên quan hồ sơ panama truy cứ kho dữ liệu này thì việt nam có khoảng 189 cá nhân 19 công ty offshore và 23 công ty trung gian trong danh sách hồ sơ panama việc xuất hiện tên trong hồ sơ panama hay việc có công ty offshore không đồng nghĩa với việc phạm pháp nhiều công ty và cá nhân có hoạt động thương mại ở nước ngoài có lập các công ty tài khoản offshore này để thuận lợi cho việc giao dịch tuy vậy những người chỉ trích thì cho rằng việc có công ty offshore có thể tạo điều kiện dễ dàng cho việc trốn thuế hay rửa tiền có từ hối lộ tham nhũng hay các hành vi sai trái khác trong danh sách trên có nhiều cá nhân là người việt nam như bà đàm bích thủy cựu giám đốc điều hành của ngân hàng anz theo hồ sơ bà thủy có liên quan tới công ty cho thuê mua tài chính anz vtrac được mở tại đảo virgin (thuộc anh) bà nguyễn thị phương thảo – chủ tịch hội đồng quản trị công ty cổ phần sovico ceo của hãng hàng không vietjet air bà thảo có liên quan với ariana hotels  resort international trụ sở ở thiên đường thuế ở quần đảo virgin thuộc anh ariana hotels  resort international cũng chính là chủ cũ của furama resort – bất động sản mà sovico đã đầu tư mua lại năm 2005 ông nguyễn thanh hùng (chủ tịch sovico holdings) cũng chính là chồng của bà nguyễn thị phương thảo ông nguyễn duy hưng – chủ tịch công ty chứng khoán sài gòn (ssi)… theo ghi nhận ở thời điểm đó thì việt nam xuất hiện trong danh sách hồ sơ panama với 189 cá nhân tổ chức cùng 19 công ty đăng ký trụ sở ở các thiên đường thuế tuy nhiên đến nay thì báo chí việt nam không có tin tức nào mang tính hưởng ứng điều tra về hồ sơ panama mặc dù người đứng đầu đảng luôn ra sức hô hào chống tham nhũng nguồn'"
      ]
     },
     "execution_count": 14,
     "metadata": {},
     "output_type": "execute_result"
    }
   ],
   "source": [
    "fakenews.Content[0]"
   ]
  },
  {
   "cell_type": "code",
   "execution_count": 15,
   "metadata": {},
   "outputs": [],
   "source": [
    "for i in range(len(fakenews)):\n",
    "   fakenews.Title[i] = remove_SC(str(fakenews.Title[i])).lower()"
   ]
  },
  {
   "cell_type": "code",
   "execution_count": 16,
   "metadata": {},
   "outputs": [
    {
     "data": {
      "text/html": [
       "<div>\n",
       "<style scoped>\n",
       "    .dataframe tbody tr th:only-of-type {\n",
       "        vertical-align: middle;\n",
       "    }\n",
       "\n",
       "    .dataframe tbody tr th {\n",
       "        vertical-align: top;\n",
       "    }\n",
       "\n",
       "    .dataframe thead th {\n",
       "        text-align: right;\n",
       "    }\n",
       "</style>\n",
       "<table border=\"1\" class=\"dataframe\">\n",
       "  <thead>\n",
       "    <tr style=\"text-align: right;\">\n",
       "      <th></th>\n",
       "      <th>label</th>\n",
       "      <th>link</th>\n",
       "      <th>Title</th>\n",
       "      <th>Content</th>\n",
       "    </tr>\n",
       "  </thead>\n",
       "  <tbody>\n",
       "    <tr>\n",
       "      <th>0</th>\n",
       "      <td></td>\n",
       "      <td>https://viettan.org/bao-chi-viet-nam-ne-vach-t...</td>\n",
       "      <td>báo chí việt nam né vạch trần tham nhũng chính...</td>\n",
       "      <td>hồ sơ panama mà hiệp hội các nhà báo điều tra ...</td>\n",
       "    </tr>\n",
       "    <tr>\n",
       "      <th>1</th>\n",
       "      <td></td>\n",
       "      <td>https://viettan.org/nhung-dua-tre-phia-sau-nhu...</td>\n",
       "      <td>những đứa trẻ phía sau những tù nhân lương tâm...</td>\n",
       "      <td>lâu nay chúng ta vẫn bày tỏ sự phẫn nộ trước n...</td>\n",
       "    </tr>\n",
       "    <tr>\n",
       "      <th>2</th>\n",
       "      <td></td>\n",
       "      <td>https://viettan.org/kinh-te-viet-nam-truoc-rui...</td>\n",
       "      <td>kinh tế việt nam trước rủi ro địa kinh tế chín...</td>\n",
       "      <td>có thể nhận thấy dạo này các chính trị gia csv...</td>\n",
       "    </tr>\n",
       "    <tr>\n",
       "      <th>3</th>\n",
       "      <td></td>\n",
       "      <td>https://viettan.org/viet-tan-len-an-csvn-nguoc...</td>\n",
       "      <td>việt tân lên án csvn ngược đãi khiến tù nhân c...</td>\n",
       "      <td>tù nhân chính trị đỗ công đương 58 tuổi quê bắ...</td>\n",
       "    </tr>\n",
       "    <tr>\n",
       "      <th>4</th>\n",
       "      <td></td>\n",
       "      <td>https://viettan.org/hoi-dong-bao-an-lhq-len-an...</td>\n",
       "      <td>hội đồng bảo an lhq lên án miến điện hành quyế...</td>\n",
       "      <td>hai ngày sau khi tập đoàn quân sự cầm quyền ở ...</td>\n",
       "    </tr>\n",
       "  </tbody>\n",
       "</table>\n",
       "</div>"
      ],
      "text/plain": [
       "  label                                               link  \\\n",
       "0        https://viettan.org/bao-chi-viet-nam-ne-vach-t...   \n",
       "1        https://viettan.org/nhung-dua-tre-phia-sau-nhu...   \n",
       "2        https://viettan.org/kinh-te-viet-nam-truoc-rui...   \n",
       "3        https://viettan.org/viet-tan-len-an-csvn-nguoc...   \n",
       "4        https://viettan.org/hoi-dong-bao-an-lhq-len-an...   \n",
       "\n",
       "                                               Title  \\\n",
       "0  báo chí việt nam né vạch trần tham nhũng chính...   \n",
       "1  những đứa trẻ phía sau những tù nhân lương tâm...   \n",
       "2  kinh tế việt nam trước rủi ro địa kinh tế chín...   \n",
       "3  việt tân lên án csvn ngược đãi khiến tù nhân c...   \n",
       "4  hội đồng bảo an lhq lên án miến điện hành quyế...   \n",
       "\n",
       "                                             Content  \n",
       "0  hồ sơ panama mà hiệp hội các nhà báo điều tra ...  \n",
       "1  lâu nay chúng ta vẫn bày tỏ sự phẫn nộ trước n...  \n",
       "2  có thể nhận thấy dạo này các chính trị gia csv...  \n",
       "3  tù nhân chính trị đỗ công đương 58 tuổi quê bắ...  \n",
       "4  hai ngày sau khi tập đoàn quân sự cầm quyền ở ...  "
      ]
     },
     "execution_count": 16,
     "metadata": {},
     "output_type": "execute_result"
    }
   ],
   "source": [
    "fakenews.head()"
   ]
  },
  {
   "cell_type": "code",
   "execution_count": 18,
   "metadata": {},
   "outputs": [],
   "source": [
    "from pyvi import ViTokenizer, ViPosTagger\n",
    "\n",
    "tokennizer = ViTokenizer.tokenize(\"xin chao cac ban toi la mot con meo\")\n",
    "pos_tagger = ViPosTagger.postagging(tokennizer)\n"
   ]
  },
  {
   "cell_type": "code",
   "execution_count": 19,
   "metadata": {},
   "outputs": [
    {
     "data": {
      "text/plain": [
       "(['xin', 'chao', 'cac', 'ban', 'toi', 'la', 'mot', 'con', 'meo'],\n",
       " ['V', 'V', 'N', 'N', 'V', 'V', 'A', 'Nc', 'N'])"
      ]
     },
     "execution_count": 19,
     "metadata": {},
     "output_type": "execute_result"
    }
   ],
   "source": [
    "pos_tagger\n"
   ]
  },
  {
   "cell_type": "code",
   "execution_count": 21,
   "metadata": {},
   "outputs": [
    {
     "data": {
      "text/plain": [
       "'Trường Đại học Bách Khoa hà nội'"
      ]
     },
     "execution_count": 21,
     "metadata": {},
     "output_type": "execute_result"
    }
   ],
   "source": []
  }
 ],
 "metadata": {
  "kernelspec": {
   "display_name": "Python 3.10.7 64-bit (microsoft store)",
   "language": "python",
   "name": "python3"
  },
  "language_info": {
   "codemirror_mode": {
    "name": "ipython",
    "version": 3
   },
   "file_extension": ".py",
   "mimetype": "text/x-python",
   "name": "python",
   "nbconvert_exporter": "python",
   "pygments_lexer": "ipython3",
   "version": "3.10.8"
  },
  "orig_nbformat": 4,
  "vscode": {
   "interpreter": {
    "hash": "3928ddc353f8a2c9be4da0a470a486be4ae30ec0aadff718d1bc910be592329a"
   }
  }
 },
 "nbformat": 4,
 "nbformat_minor": 2
}
