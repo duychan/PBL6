{
 "cells": [
  {
   "cell_type": "code",
   "execution_count": 1,
   "metadata": {},
   "outputs": [],
   "source": [
    "import numpy as np\n",
    "import pandas as pd"
   ]
  },
  {
   "cell_type": "code",
   "execution_count": 2,
   "metadata": {},
   "outputs": [],
   "source": [
    "from gensim.models import Word2Vec\n",
    "skipgram = Word2Vec.load('w2vtrain300.bin')"
   ]
  },
  {
   "cell_type": "code",
   "execution_count": 3,
   "metadata": {},
   "outputs": [
    {
     "name": "stdout",
     "output_type": "stream",
     "text": [
      "The total number of words are :  62269\n"
     ]
    }
   ],
   "source": [
    "print(\"The total number of words are : \",len(skipgram.wv))"
   ]
  },
  {
   "cell_type": "code",
   "execution_count": 4,
   "metadata": {},
   "outputs": [
    {
     "data": {
      "text/plain": [
       "0.6100828"
      ]
     },
     "execution_count": 4,
     "metadata": {},
     "output_type": "execute_result"
    }
   ],
   "source": [
    "skipgram.wv.similarity('yêu_thích','yêu_mến')"
   ]
  },
  {
   "cell_type": "code",
   "execution_count": 5,
   "metadata": {},
   "outputs": [],
   "source": [
    "vocab=list(skipgram.wv.index_to_key)"
   ]
  },
  {
   "cell_type": "code",
   "execution_count": 6,
   "metadata": {},
   "outputs": [
    {
     "name": "stdout",
     "output_type": "stream",
     "text": [
      "The no of key-value pairs :  62269\n"
     ]
    }
   ],
   "source": [
    "word_vec_dict={}\n",
    "for word in vocab:\n",
    "  word_vec_dict[word]=skipgram.wv[word]\n",
    "print(\"The no of key-value pairs : \",len(word_vec_dict)) "
   ]
  },
  {
   "cell_type": "code",
   "execution_count": 7,
   "metadata": {},
   "outputs": [],
   "source": [
    "data = pd.read_csv('final_data.csv')"
   ]
  },
  {
   "cell_type": "code",
   "execution_count": 8,
   "metadata": {},
   "outputs": [
    {
     "data": {
      "text/html": [
       "<div>\n",
       "<style scoped>\n",
       "    .dataframe tbody tr th:only-of-type {\n",
       "        vertical-align: middle;\n",
       "    }\n",
       "\n",
       "    .dataframe tbody tr th {\n",
       "        vertical-align: top;\n",
       "    }\n",
       "\n",
       "    .dataframe thead th {\n",
       "        text-align: right;\n",
       "    }\n",
       "</style>\n",
       "<table border=\"1\" class=\"dataframe\">\n",
       "  <thead>\n",
       "    <tr style=\"text-align: right;\">\n",
       "      <th></th>\n",
       "      <th>Unnamed: 0.1</th>\n",
       "      <th>Unnamed: 0</th>\n",
       "      <th>Title_processed</th>\n",
       "      <th>Content_processed</th>\n",
       "      <th>label</th>\n",
       "      <th>Length</th>\n",
       "    </tr>\n",
       "  </thead>\n",
       "  <tbody>\n",
       "    <tr>\n",
       "      <th>0</th>\n",
       "      <td>0</td>\n",
       "      <td>1</td>\n",
       "      <td>thúc_đẩy quan_hệ hợp_tác quốc_hội việt_nam nhâ...</td>\n",
       "      <td>tổng_bí_thư nguyễn_phú_trọng hội_kiến chủ_tịch...</td>\n",
       "      <td>1</td>\n",
       "      <td>274</td>\n",
       "    </tr>\n",
       "    <tr>\n",
       "      <th>1</th>\n",
       "      <td>1</td>\n",
       "      <td>2</td>\n",
       "      <td>tổng_bí_thư nguyễn_phú_trọng hội_kiến chủ_tịch...</td>\n",
       "      <td>tổng_bí_thư nguyễn_phú_trọng hội_kiến chủ_tịch...</td>\n",
       "      <td>1</td>\n",
       "      <td>229</td>\n",
       "    </tr>\n",
       "    <tr>\n",
       "      <th>2</th>\n",
       "      <td>2</td>\n",
       "      <td>3</td>\n",
       "      <td>giám_đốc công_an hà_nội vụ_án rửa tiền ước_tín...</td>\n",
       "      <td>thảo_luận hội_trường quốc_hội dự_thảo luật_phò...</td>\n",
       "      <td>1</td>\n",
       "      <td>229</td>\n",
       "    </tr>\n",
       "    <tr>\n",
       "      <th>3</th>\n",
       "      <td>3</td>\n",
       "      <td>4</td>\n",
       "      <td>ông võ_văn_thưởng hội_đàm trực_tuyến bí_thư ba...</td>\n",
       "      <td>thường_trực_ban_bí_thư võ_văn_thưởng hội_đàm ủ...</td>\n",
       "      <td>1</td>\n",
       "      <td>79</td>\n",
       "    </tr>\n",
       "    <tr>\n",
       "      <th>4</th>\n",
       "      <td>4</td>\n",
       "      <td>5</td>\n",
       "      <td>tổng_bí_thư nguyễn_phú_trọng hội_kiến thủ_tướn...</td>\n",
       "      <td>tổng_bí_thư nguyễn_phú_trọng hội_kiến thủ_tướn...</td>\n",
       "      <td>1</td>\n",
       "      <td>299</td>\n",
       "    </tr>\n",
       "  </tbody>\n",
       "</table>\n",
       "</div>"
      ],
      "text/plain": [
       "   Unnamed: 0.1  Unnamed: 0  \\\n",
       "0             0           1   \n",
       "1             1           2   \n",
       "2             2           3   \n",
       "3             3           4   \n",
       "4             4           5   \n",
       "\n",
       "                                     Title_processed  \\\n",
       "0  thúc_đẩy quan_hệ hợp_tác quốc_hội việt_nam nhâ...   \n",
       "1  tổng_bí_thư nguyễn_phú_trọng hội_kiến chủ_tịch...   \n",
       "2  giám_đốc công_an hà_nội vụ_án rửa tiền ước_tín...   \n",
       "3  ông võ_văn_thưởng hội_đàm trực_tuyến bí_thư ba...   \n",
       "4  tổng_bí_thư nguyễn_phú_trọng hội_kiến thủ_tướn...   \n",
       "\n",
       "                                   Content_processed  label  Length  \n",
       "0  tổng_bí_thư nguyễn_phú_trọng hội_kiến chủ_tịch...      1     274  \n",
       "1  tổng_bí_thư nguyễn_phú_trọng hội_kiến chủ_tịch...      1     229  \n",
       "2  thảo_luận hội_trường quốc_hội dự_thảo luật_phò...      1     229  \n",
       "3  thường_trực_ban_bí_thư võ_văn_thưởng hội_đàm ủ...      1      79  \n",
       "4  tổng_bí_thư nguyễn_phú_trọng hội_kiến thủ_tướn...      1     299  "
      ]
     },
     "execution_count": 8,
     "metadata": {},
     "output_type": "execute_result"
    }
   ],
   "source": [
    "data.head()"
   ]
  },
  {
   "cell_type": "code",
   "execution_count": 9,
   "metadata": {},
   "outputs": [],
   "source": [
    "stringdata=[]\n",
    "for i in range(len(data)):\n",
    "    stringdata.append(str(data.Title_processed[i])+' '+str(data.Content_processed[i]))"
   ]
  },
  {
   "cell_type": "code",
   "execution_count": 10,
   "metadata": {},
   "outputs": [],
   "source": [
    "data['Title_Content_processed']=stringdata"
   ]
  },
  {
   "cell_type": "code",
   "execution_count": 11,
   "metadata": {},
   "outputs": [
    {
     "data": {
      "text/html": [
       "<div>\n",
       "<style scoped>\n",
       "    .dataframe tbody tr th:only-of-type {\n",
       "        vertical-align: middle;\n",
       "    }\n",
       "\n",
       "    .dataframe tbody tr th {\n",
       "        vertical-align: top;\n",
       "    }\n",
       "\n",
       "    .dataframe thead th {\n",
       "        text-align: right;\n",
       "    }\n",
       "</style>\n",
       "<table border=\"1\" class=\"dataframe\">\n",
       "  <thead>\n",
       "    <tr style=\"text-align: right;\">\n",
       "      <th></th>\n",
       "      <th>Unnamed: 0.1</th>\n",
       "      <th>Unnamed: 0</th>\n",
       "      <th>Title_processed</th>\n",
       "      <th>Content_processed</th>\n",
       "      <th>label</th>\n",
       "      <th>Length</th>\n",
       "      <th>Title_Content_processed</th>\n",
       "    </tr>\n",
       "  </thead>\n",
       "  <tbody>\n",
       "    <tr>\n",
       "      <th>0</th>\n",
       "      <td>0</td>\n",
       "      <td>1</td>\n",
       "      <td>thúc_đẩy quan_hệ hợp_tác quốc_hội việt_nam nhâ...</td>\n",
       "      <td>tổng_bí_thư nguyễn_phú_trọng hội_kiến chủ_tịch...</td>\n",
       "      <td>1</td>\n",
       "      <td>274</td>\n",
       "      <td>thúc_đẩy quan_hệ hợp_tác quốc_hội việt_nam nhâ...</td>\n",
       "    </tr>\n",
       "    <tr>\n",
       "      <th>1</th>\n",
       "      <td>1</td>\n",
       "      <td>2</td>\n",
       "      <td>tổng_bí_thư nguyễn_phú_trọng hội_kiến chủ_tịch...</td>\n",
       "      <td>tổng_bí_thư nguyễn_phú_trọng hội_kiến chủ_tịch...</td>\n",
       "      <td>1</td>\n",
       "      <td>229</td>\n",
       "      <td>tổng_bí_thư nguyễn_phú_trọng hội_kiến chủ_tịch...</td>\n",
       "    </tr>\n",
       "    <tr>\n",
       "      <th>2</th>\n",
       "      <td>2</td>\n",
       "      <td>3</td>\n",
       "      <td>giám_đốc công_an hà_nội vụ_án rửa tiền ước_tín...</td>\n",
       "      <td>thảo_luận hội_trường quốc_hội dự_thảo luật_phò...</td>\n",
       "      <td>1</td>\n",
       "      <td>229</td>\n",
       "      <td>giám_đốc công_an hà_nội vụ_án rửa tiền ước_tín...</td>\n",
       "    </tr>\n",
       "    <tr>\n",
       "      <th>3</th>\n",
       "      <td>3</td>\n",
       "      <td>4</td>\n",
       "      <td>ông võ_văn_thưởng hội_đàm trực_tuyến bí_thư ba...</td>\n",
       "      <td>thường_trực_ban_bí_thư võ_văn_thưởng hội_đàm ủ...</td>\n",
       "      <td>1</td>\n",
       "      <td>79</td>\n",
       "      <td>ông võ_văn_thưởng hội_đàm trực_tuyến bí_thư ba...</td>\n",
       "    </tr>\n",
       "    <tr>\n",
       "      <th>4</th>\n",
       "      <td>4</td>\n",
       "      <td>5</td>\n",
       "      <td>tổng_bí_thư nguyễn_phú_trọng hội_kiến thủ_tướn...</td>\n",
       "      <td>tổng_bí_thư nguyễn_phú_trọng hội_kiến thủ_tướn...</td>\n",
       "      <td>1</td>\n",
       "      <td>299</td>\n",
       "      <td>tổng_bí_thư nguyễn_phú_trọng hội_kiến thủ_tướn...</td>\n",
       "    </tr>\n",
       "  </tbody>\n",
       "</table>\n",
       "</div>"
      ],
      "text/plain": [
       "   Unnamed: 0.1  Unnamed: 0  \\\n",
       "0             0           1   \n",
       "1             1           2   \n",
       "2             2           3   \n",
       "3             3           4   \n",
       "4             4           5   \n",
       "\n",
       "                                     Title_processed  \\\n",
       "0  thúc_đẩy quan_hệ hợp_tác quốc_hội việt_nam nhâ...   \n",
       "1  tổng_bí_thư nguyễn_phú_trọng hội_kiến chủ_tịch...   \n",
       "2  giám_đốc công_an hà_nội vụ_án rửa tiền ước_tín...   \n",
       "3  ông võ_văn_thưởng hội_đàm trực_tuyến bí_thư ba...   \n",
       "4  tổng_bí_thư nguyễn_phú_trọng hội_kiến thủ_tướn...   \n",
       "\n",
       "                                   Content_processed  label  Length  \\\n",
       "0  tổng_bí_thư nguyễn_phú_trọng hội_kiến chủ_tịch...      1     274   \n",
       "1  tổng_bí_thư nguyễn_phú_trọng hội_kiến chủ_tịch...      1     229   \n",
       "2  thảo_luận hội_trường quốc_hội dự_thảo luật_phò...      1     229   \n",
       "3  thường_trực_ban_bí_thư võ_văn_thưởng hội_đàm ủ...      1      79   \n",
       "4  tổng_bí_thư nguyễn_phú_trọng hội_kiến thủ_tướn...      1     299   \n",
       "\n",
       "                             Title_Content_processed  \n",
       "0  thúc_đẩy quan_hệ hợp_tác quốc_hội việt_nam nhâ...  \n",
       "1  tổng_bí_thư nguyễn_phú_trọng hội_kiến chủ_tịch...  \n",
       "2  giám_đốc công_an hà_nội vụ_án rửa tiền ước_tín...  \n",
       "3  ông võ_văn_thưởng hội_đàm trực_tuyến bí_thư ba...  \n",
       "4  tổng_bí_thư nguyễn_phú_trọng hội_kiến thủ_tướn...  "
      ]
     },
     "execution_count": 11,
     "metadata": {},
     "output_type": "execute_result"
    }
   ],
   "source": [
    "data.head()"
   ]
  },
  {
   "cell_type": "code",
   "execution_count": 12,
   "metadata": {},
   "outputs": [
    {
     "name": "stdout",
     "output_type": "stream",
     "text": [
      "1085\n"
     ]
    }
   ],
   "source": [
    "maxi=-1\n",
    "for i,rev in enumerate(data['Title_Content_processed']):\n",
    "    tokens=rev.split()\n",
    "    if(len(tokens)>maxi):\n",
    "        maxi=len(tokens)\n",
    "print(maxi)"
   ]
  },
  {
   "cell_type": "code",
   "execution_count": 13,
   "metadata": {},
   "outputs": [],
   "source": [
    "import keras\n",
    "from keras.preprocessing.text import one_hot,Tokenizer\n",
    "from keras_preprocessing.sequence import pad_sequences\n",
    "from sklearn.model_selection import train_test_split,cross_validate\n",
    "from keras.models import Sequential\n",
    "from keras.layers import Dense , Flatten ,Embedding,Input,CuDNNLSTM,LSTM\n",
    "from keras.models import Model\n",
    "from keras.preprocessing.text import text_to_word_sequence"
   ]
  },
  {
   "cell_type": "code",
   "execution_count": 14,
   "metadata": {},
   "outputs": [],
   "source": [
    "tok = Tokenizer()\n",
    "tok.fit_on_texts(data['Title_Content_processed'])\n",
    "vocab_size = len(tok.word_index) + 1\n",
    "encd_rev = tok.texts_to_sequences(data['Title_Content_processed'])"
   ]
  },
  {
   "cell_type": "code",
   "execution_count": 15,
   "metadata": {},
   "outputs": [
    {
     "data": {
      "text/plain": [
       "15275"
      ]
     },
     "execution_count": 15,
     "metadata": {},
     "output_type": "execute_result"
    }
   ],
   "source": [
    "vocab_size"
   ]
  },
  {
   "cell_type": "code",
   "execution_count": 16,
   "metadata": {},
   "outputs": [],
   "source": [
    "max_rev_len=1085  # max lenght of a review\n",
    "vocab_size = len(tok.word_index) + 1  # total no of words\n",
    "embed_dim=300 # embedding dimension as choosen in word2vec constructor"
   ]
  },
  {
   "cell_type": "code",
   "execution_count": 17,
   "metadata": {},
   "outputs": [
    {
     "data": {
      "text/plain": [
       "(2008, 1085)"
      ]
     },
     "execution_count": 17,
     "metadata": {},
     "output_type": "execute_result"
    }
   ],
   "source": [
    "pad_rev= pad_sequences(encd_rev, maxlen=max_rev_len, padding='post')\n",
    "pad_rev.shape "
   ]
  },
  {
   "cell_type": "code",
   "execution_count": 18,
   "metadata": {},
   "outputs": [
    {
     "data": {
      "text/plain": [
       "array([330, 227,  26, ...,   0,   0,   0])"
      ]
     },
     "execution_count": 18,
     "metadata": {},
     "output_type": "execute_result"
    }
   ],
   "source": [
    "pad_rev[0]"
   ]
  },
  {
   "cell_type": "code",
   "execution_count": 19,
   "metadata": {},
   "outputs": [],
   "source": [
    "embed_matrix=np.zeros(shape=(vocab_size,embed_dim))\n",
    "for word,i in tok.word_index.items():\n",
    "  embed_vector=word_vec_dict.get(word)\n",
    "  if embed_vector is not None:  # word is in the vocabulary learned by the w2v model\n",
    "    embed_matrix[i]=embed_vector"
   ]
  },
  {
   "cell_type": "code",
   "execution_count": 20,
   "metadata": {},
   "outputs": [
    {
     "name": "stdout",
     "output_type": "stream",
     "text": [
      "[-0.28183103 -0.03912653  0.10056827  0.03901356  0.02785202 -0.31145567\n",
      " -0.03024101  0.45011729 -0.13029948 -0.23684879 -0.36536217  0.2560862\n",
      " -0.09882434  0.12620136 -0.24207723 -0.28044248  0.53277868  0.00768296\n",
      "  0.40378445  0.06528721 -0.114248   -0.32382485  0.05861918 -0.16303404\n",
      "  0.21226084 -0.10544066  0.04176835 -0.29302406 -0.23391014  0.15610525\n",
      " -0.14662646 -0.17257653 -0.04311708 -0.43926942 -0.12563704  0.1548277\n",
      " -0.26053938 -0.03665499 -0.39927766 -0.3079522  -0.243477   -0.13371997\n",
      " -0.1634859   0.03712539  0.0954267   0.37649038  0.07492974 -0.05473397\n",
      " -0.15644701 -0.11560234  0.1857481  -0.13930148  0.19776966 -0.17389007\n",
      " -0.12496211  0.03939854  0.16503991 -0.25681877  0.05824628 -0.01610592\n",
      " -0.23790444 -0.50178903 -0.58323836 -0.14671637  0.50868982  0.25095317\n",
      "  0.12086596 -0.05767003 -0.35980478  0.22709617 -0.07917779 -0.10323571\n",
      "  0.37461233  0.57669365 -0.014022    0.38817742 -0.43517086  0.00539866\n",
      " -0.13564549  0.18053196  0.2712591  -0.16669835  0.2922971   0.26566643\n",
      " -0.02188563  0.26312616  0.07196159 -0.80987084 -0.15719879  0.04718541\n",
      "  0.39977375 -0.02679208  0.07311438  0.2178112   0.20594463  0.49916524\n",
      "  0.32690918 -0.38253626 -0.19028649 -0.43464956 -0.3485907   0.31524917\n",
      "  0.08190786  0.00862969 -0.13577473 -0.29655433 -0.48931494  0.05821861\n",
      " -0.04054047  0.47880977  0.10511068  0.39124355  0.34298825  0.20369698\n",
      "  0.26376307  0.17299978  0.23288086 -0.04883238  0.23717107 -0.18224072\n",
      " -0.06477115  0.14289886  0.64724284  0.0229612  -0.00115749  0.36110359\n",
      " -0.24872114 -0.05807596  0.17545632  0.21144943 -0.01447035 -0.15322219\n",
      "  0.27548358 -0.13690174 -0.25632977  0.34979966  0.08725313  0.35526177\n",
      " -0.40385687  0.16353841  0.49994946  0.07157952  0.08812834 -0.12075558\n",
      "  0.17255443  0.17738831  0.00399472 -0.38134724  0.58579201 -0.202419\n",
      "  0.46296734 -0.16756785 -0.42017511 -0.10308366 -0.07666404 -0.00958011\n",
      "  0.46953368 -0.20441873 -0.23554827  0.44821385 -0.28887033  0.10387111\n",
      " -0.28107452 -0.27212569 -0.06836772  0.21138394  0.43421271  0.20865765\n",
      " -0.45516211  0.42073202  0.29715559 -0.07814936  0.14830755  0.07626569\n",
      "  0.074541    0.0334604  -0.0503874   0.28371164  0.26419041 -0.66933697\n",
      " -0.03969311  0.12289738 -0.04803866 -0.17037344 -0.13102092  0.33966666\n",
      " -0.30096993 -0.28355312  0.29353777  0.03232152 -0.35719353 -0.16229732\n",
      "  0.09140875  0.03589759  0.01830938  0.0386386  -0.3562527  -0.10602526\n",
      " -0.24914111 -0.04768275 -0.5388571   0.03513181 -0.19848193  0.26391333\n",
      " -0.26826194 -0.20315491  0.04519701  0.08257716 -0.16599955  0.31110042\n",
      " -0.05891617 -0.09371746  0.22282206  0.09474169  0.30347911 -0.04226881\n",
      " -0.52511758  0.09899872 -0.58413428 -0.22469857  0.19010715 -0.21631664\n",
      " -0.12524016  0.12929794 -0.60126811  0.22106357  0.27018359 -0.34444058\n",
      " -0.17839383  0.04976646 -0.40118948  0.08000415  0.26697084  0.14307843\n",
      "  0.10893385  0.13847232 -0.20895422  0.17541808  0.3889184  -0.15103708\n",
      "  0.13613316  0.14120571  0.30545416  0.16503759  0.50347978 -0.29167169\n",
      " -0.08207546  0.20952177 -0.02163036 -0.16164064 -0.29165703 -0.17227595\n",
      "  0.25259057  0.22054513 -0.01322133  0.15211783  0.17702024  0.09835412\n",
      " -0.18583459 -0.12212834  0.58281732  0.06858671  0.50958127 -0.30989242\n",
      " -0.39362332  0.29878694 -0.19212215  0.10956436  0.15743639  0.25252116\n",
      " -0.02595942 -0.2499364  -0.46209866 -0.38386753  0.40682182  0.20357952\n",
      "  0.06799015 -0.26353106  0.07098252 -0.40836233  0.40168044 -0.60542899\n",
      " -0.23280481  0.27124181  0.02046698  0.2968199  -0.26491663  0.14262015\n",
      " -0.56837434  0.26416865  0.20083641  0.45560607 -0.08093099  0.07742463\n",
      "  0.27885532  0.51593572  0.03477495 -0.18845659  0.32312274 -0.32446191]\n"
     ]
    }
   ],
   "source": [
    "print(embed_matrix[14])"
   ]
  },
  {
   "cell_type": "code",
   "execution_count": 21,
   "metadata": {},
   "outputs": [
    {
     "data": {
      "text/plain": [
       "array([330, 227,  26, ...,   0,   0,   0])"
      ]
     },
     "execution_count": 21,
     "metadata": {},
     "output_type": "execute_result"
    }
   ],
   "source": [
    "pad_rev[0]"
   ]
  },
  {
   "cell_type": "code",
   "execution_count": 22,
   "metadata": {},
   "outputs": [
    {
     "data": {
      "text/plain": [
       "array([59, 66, 50, ...,  0,  0,  0])"
      ]
     },
     "execution_count": 22,
     "metadata": {},
     "output_type": "execute_result"
    }
   ],
   "source": [
    "pad_rev[1]"
   ]
  },
  {
   "cell_type": "code",
   "execution_count": 23,
   "metadata": {},
   "outputs": [],
   "source": [
    "Y=keras.utils.to_categorical(data['label'])  # one hot target as required by NN.\n",
    "x_train,x_test,y_train,y_test=train_test_split(pad_rev,Y,test_size=0.20,random_state=42)"
   ]
  },
  {
   "cell_type": "code",
   "execution_count": 24,
   "metadata": {},
   "outputs": [],
   "source": [
    "from keras.initializers import Constant\n",
    "from keras.layers import ReLU\n",
    "from keras.layers import Dropout"
   ]
  },
  {
   "cell_type": "code",
   "execution_count": 26,
   "metadata": {},
   "outputs": [],
   "source": [
    "\n",
    "model=Sequential()\n",
    "model.add(Embedding(input_dim=vocab_size,output_dim=embed_dim,input_length=max_rev_len,embeddings_initializer=Constant(embed_matrix)))\n",
    "# model.add(CuDNNLSTM(64,return_sequences=False)) # loss stucks at about \n",
    "model.add(Flatten())\n",
    "model.add(Dense(16,activation='relu'))\n",
    "model.add(Dropout(0.50))\n",
    "# model.add(Dense(16,activation='relu'))\n",
    "# model.add(Dropout(0.20))\n",
    "model.add(Dense(2,activation='sigmoid'))"
   ]
  },
  {
   "cell_type": "code",
   "execution_count": 27,
   "metadata": {},
   "outputs": [
    {
     "name": "stdout",
     "output_type": "stream",
     "text": [
      "Model: \"sequential_1\"\n",
      "_________________________________________________________________\n",
      " Layer (type)                Output Shape              Param #   \n",
      "=================================================================\n",
      " embedding_1 (Embedding)     (None, 1085, 300)         4582500   \n",
      "                                                                 \n",
      " flatten_1 (Flatten)         (None, 325500)            0         \n",
      "                                                                 \n",
      " dense_2 (Dense)             (None, 16)                5208016   \n",
      "                                                                 \n",
      " dropout_1 (Dropout)         (None, 16)                0         \n",
      "                                                                 \n",
      " dense_3 (Dense)             (None, 2)                 34        \n",
      "                                                                 \n",
      "=================================================================\n",
      "Total params: 9,790,550\n",
      "Trainable params: 9,790,550\n",
      "Non-trainable params: 0\n",
      "_________________________________________________________________\n"
     ]
    }
   ],
   "source": [
    "model.summary()"
   ]
  },
  {
   "cell_type": "code",
   "execution_count": 28,
   "metadata": {},
   "outputs": [
    {
     "name": "stderr",
     "output_type": "stream",
     "text": [
      "C:\\Users\\hotai\\AppData\\Local\\Packages\\PythonSoftwareFoundation.Python.3.10_qbz5n2kfra8p0\\LocalCache\\local-packages\\Python310\\site-packages\\keras\\optimizers\\optimizer_v2\\rmsprop.py:140: UserWarning: The `lr` argument is deprecated, use `learning_rate` instead.\n",
      "  super().__init__(name, **kwargs)\n"
     ]
    }
   ],
   "source": [
    "model.compile(optimizer=keras.optimizers.RMSprop(lr=1e-2),loss='binary_crossentropy',metrics=['accuracy'])"
   ]
  },
  {
   "cell_type": "code",
   "execution_count": 29,
   "metadata": {},
   "outputs": [
    {
     "data": {
      "text/plain": [
       "<tf.Variable 'learning_rate:0' shape=() dtype=float32, numpy=0.01>"
      ]
     },
     "execution_count": 29,
     "metadata": {},
     "output_type": "execute_result"
    }
   ],
   "source": [
    "model.optimizer.learning_rate"
   ]
  },
  {
   "cell_type": "code",
   "execution_count": 30,
   "metadata": {},
   "outputs": [],
   "source": [
    "epochs=50\n",
    "batch_size=64"
   ]
  },
  {
   "cell_type": "code",
   "execution_count": 31,
   "metadata": {},
   "outputs": [
    {
     "data": {
      "text/plain": [
       "array([ 124,   77, 1088, ...,    0,    0,    0])"
      ]
     },
     "execution_count": 31,
     "metadata": {},
     "output_type": "execute_result"
    }
   ],
   "source": [
    "x_train[0]"
   ]
  },
  {
   "cell_type": "code",
   "execution_count": 32,
   "metadata": {},
   "outputs": [
    {
     "name": "stdout",
     "output_type": "stream",
     "text": [
      "Epoch 1/50\n",
      "26/26 [==============================] - 10s 316ms/step - loss: 4.7518 - accuracy: 0.5199 - val_loss: 0.6922 - val_accuracy: 0.5224\n",
      "Epoch 2/50\n",
      "26/26 [==============================] - 7s 272ms/step - loss: 0.7076 - accuracy: 0.5423 - val_loss: 0.6922 - val_accuracy: 0.5224\n",
      "Epoch 3/50\n",
      "26/26 [==============================] - 8s 296ms/step - loss: 0.7040 - accuracy: 0.5436 - val_loss: 0.6925 - val_accuracy: 0.5224\n",
      "Epoch 4/50\n",
      "26/26 [==============================] - 7s 266ms/step - loss: 0.8876 - accuracy: 0.5417 - val_loss: 0.6923 - val_accuracy: 0.5224\n",
      "Epoch 5/50\n",
      "26/26 [==============================] - 8s 298ms/step - loss: 0.7643 - accuracy: 0.5455 - val_loss: 0.6922 - val_accuracy: 0.5224\n",
      "Epoch 6/50\n",
      "26/26 [==============================] - 7s 283ms/step - loss: 0.6834 - accuracy: 0.5417 - val_loss: 0.6927 - val_accuracy: 0.5224\n",
      "Epoch 7/50\n",
      "26/26 [==============================] - 7s 272ms/step - loss: 1.8472 - accuracy: 0.5436 - val_loss: 0.6935 - val_accuracy: 0.5224\n",
      "Epoch 8/50\n",
      "26/26 [==============================] - 8s 299ms/step - loss: 1.1280 - accuracy: 0.5436 - val_loss: 0.7473 - val_accuracy: 0.5224\n",
      "Epoch 9/50\n",
      "26/26 [==============================] - 7s 288ms/step - loss: 0.7056 - accuracy: 0.5455 - val_loss: 0.6921 - val_accuracy: 0.5224\n",
      "Epoch 10/50\n",
      "26/26 [==============================] - 7s 281ms/step - loss: 0.6838 - accuracy: 0.5479 - val_loss: 0.6923 - val_accuracy: 0.5224\n",
      "Epoch 11/50\n",
      "26/26 [==============================] - 7s 262ms/step - loss: 0.6789 - accuracy: 0.5436 - val_loss: 0.6922 - val_accuracy: 0.5224\n",
      "Epoch 12/50\n",
      "26/26 [==============================] - 7s 275ms/step - loss: 0.6799 - accuracy: 0.5417 - val_loss: 0.6922 - val_accuracy: 0.5224\n",
      "Epoch 13/50\n",
      "26/26 [==============================] - 7s 288ms/step - loss: 0.6791 - accuracy: 0.5448 - val_loss: 0.6923 - val_accuracy: 0.5224\n",
      "Epoch 14/50\n",
      "26/26 [==============================] - 7s 287ms/step - loss: 0.6795 - accuracy: 0.5423 - val_loss: 0.6922 - val_accuracy: 0.5224\n",
      "Epoch 15/50\n",
      "26/26 [==============================] - 6s 242ms/step - loss: 0.6777 - accuracy: 0.5461 - val_loss: 0.6924 - val_accuracy: 0.5224\n",
      "Epoch 16/50\n",
      "26/26 [==============================] - 9s 349ms/step - loss: 0.6777 - accuracy: 0.5442 - val_loss: 0.6925 - val_accuracy: 0.5224\n",
      "Epoch 17/50\n",
      "26/26 [==============================] - 8s 314ms/step - loss: 0.9722 - accuracy: 0.5442 - val_loss: 3.9702 - val_accuracy: 0.7289\n",
      "Epoch 18/50\n",
      "26/26 [==============================] - 9s 323ms/step - loss: 0.7830 - accuracy: 0.5498 - val_loss: 0.6922 - val_accuracy: 0.5224\n",
      "Epoch 19/50\n",
      "26/26 [==============================] - 8s 306ms/step - loss: 0.6765 - accuracy: 0.5442 - val_loss: 0.6922 - val_accuracy: 0.5224\n",
      "Epoch 20/50\n",
      "26/26 [==============================] - 9s 348ms/step - loss: 0.6751 - accuracy: 0.5455 - val_loss: 0.6891 - val_accuracy: 0.5224\n",
      "Epoch 21/50\n",
      "26/26 [==============================] - 7s 270ms/step - loss: 1.6537 - accuracy: 0.5442 - val_loss: 0.6688 - val_accuracy: 0.5224\n",
      "Epoch 22/50\n",
      "26/26 [==============================] - 7s 263ms/step - loss: 0.7122 - accuracy: 0.5442 - val_loss: 0.6343 - val_accuracy: 0.5224\n",
      "Epoch 23/50\n",
      "26/26 [==============================] - 8s 307ms/step - loss: 0.6575 - accuracy: 0.5498 - val_loss: 0.5070 - val_accuracy: 0.7736\n",
      "Epoch 24/50\n",
      "26/26 [==============================] - 8s 292ms/step - loss: 0.6486 - accuracy: 0.6357 - val_loss: 0.4574 - val_accuracy: 0.8657\n",
      "Epoch 25/50\n",
      "26/26 [==============================] - 7s 279ms/step - loss: 0.5341 - accuracy: 0.7161 - val_loss: 0.4117 - val_accuracy: 0.8557\n",
      "Epoch 26/50\n",
      "26/26 [==============================] - 7s 281ms/step - loss: 0.5608 - accuracy: 0.7484 - val_loss: 0.4017 - val_accuracy: 0.8333\n",
      "Epoch 27/50\n",
      "26/26 [==============================] - 7s 257ms/step - loss: 0.4863 - accuracy: 0.8101 - val_loss: 0.4843 - val_accuracy: 0.9229\n",
      "Epoch 28/50\n",
      "26/26 [==============================] - 7s 253ms/step - loss: 0.5973 - accuracy: 0.8823 - val_loss: 0.4534 - val_accuracy: 0.9229\n",
      "Epoch 29/50\n",
      "26/26 [==============================] - 6s 250ms/step - loss: 0.2508 - accuracy: 0.9159 - val_loss: 0.3745 - val_accuracy: 0.9254\n",
      "Epoch 30/50\n",
      "26/26 [==============================] - 8s 308ms/step - loss: 0.2365 - accuracy: 0.9240 - val_loss: 0.4026 - val_accuracy: 0.9378\n",
      "Epoch 31/50\n",
      "26/26 [==============================] - 7s 251ms/step - loss: 0.2238 - accuracy: 0.9477 - val_loss: 0.7983 - val_accuracy: 0.9005\n",
      "Epoch 32/50\n",
      "26/26 [==============================] - 6s 246ms/step - loss: 0.2255 - accuracy: 0.9508 - val_loss: 0.3351 - val_accuracy: 0.9403\n",
      "Epoch 33/50\n",
      "26/26 [==============================] - 6s 248ms/step - loss: 0.1043 - accuracy: 0.9689 - val_loss: 0.5968 - val_accuracy: 0.9577\n",
      "Epoch 34/50\n",
      "26/26 [==============================] - 6s 245ms/step - loss: 0.2628 - accuracy: 0.9608 - val_loss: 2.2172 - val_accuracy: 0.9080\n",
      "Epoch 35/50\n",
      "26/26 [==============================] - 6s 243ms/step - loss: 0.1390 - accuracy: 0.9639 - val_loss: 0.9173 - val_accuracy: 0.9428\n",
      "Epoch 36/50\n",
      "26/26 [==============================] - 6s 250ms/step - loss: 0.0759 - accuracy: 0.9757 - val_loss: 1.0233 - val_accuracy: 0.9478\n",
      "Epoch 37/50\n",
      "26/26 [==============================] - 7s 266ms/step - loss: 0.4471 - accuracy: 0.9695 - val_loss: 1.6253 - val_accuracy: 0.9080\n",
      "Epoch 38/50\n",
      "26/26 [==============================] - 6s 248ms/step - loss: 0.0995 - accuracy: 0.9745 - val_loss: 0.5341 - val_accuracy: 0.9602\n",
      "Epoch 39/50\n",
      "26/26 [==============================] - 7s 252ms/step - loss: 0.0855 - accuracy: 0.9745 - val_loss: 0.5779 - val_accuracy: 0.9627\n",
      "Epoch 40/50\n",
      "26/26 [==============================] - 6s 249ms/step - loss: 0.0453 - accuracy: 0.9851 - val_loss: 0.8425 - val_accuracy: 0.9677\n",
      "Epoch 41/50\n",
      "26/26 [==============================] - 7s 254ms/step - loss: 0.0610 - accuracy: 0.9832 - val_loss: 0.7038 - val_accuracy: 0.9627\n",
      "Epoch 42/50\n",
      "26/26 [==============================] - 7s 250ms/step - loss: 0.0923 - accuracy: 0.9763 - val_loss: 0.8899 - val_accuracy: 0.9726\n",
      "Epoch 43/50\n",
      "26/26 [==============================] - 6s 250ms/step - loss: 0.0760 - accuracy: 0.9757 - val_loss: 1.0555 - val_accuracy: 0.9552\n",
      "Epoch 44/50\n",
      "26/26 [==============================] - 6s 244ms/step - loss: 0.0703 - accuracy: 0.9826 - val_loss: 0.9506 - val_accuracy: 0.9701\n",
      "Epoch 45/50\n",
      "26/26 [==============================] - 6s 249ms/step - loss: 0.1321 - accuracy: 0.9714 - val_loss: 0.8814 - val_accuracy: 0.9652\n",
      "Epoch 46/50\n",
      "26/26 [==============================] - 7s 261ms/step - loss: 0.0737 - accuracy: 0.9844 - val_loss: 1.2890 - val_accuracy: 0.9627\n",
      "Epoch 47/50\n",
      "26/26 [==============================] - 6s 241ms/step - loss: 0.1503 - accuracy: 0.9851 - val_loss: 1.3203 - val_accuracy: 0.9552\n",
      "Epoch 48/50\n",
      "26/26 [==============================] - 6s 246ms/step - loss: 0.0534 - accuracy: 0.9844 - val_loss: 1.2411 - val_accuracy: 0.9527\n",
      "Epoch 49/50\n",
      "26/26 [==============================] - 6s 245ms/step - loss: 0.0418 - accuracy: 0.9913 - val_loss: 1.5040 - val_accuracy: 0.9577\n",
      "Epoch 50/50\n",
      "26/26 [==============================] - 6s 244ms/step - loss: 0.0455 - accuracy: 0.9925 - val_loss: 1.2363 - val_accuracy: 0.9627\n"
     ]
    }
   ],
   "source": [
    "history=model.fit(x_train,y_train,epochs=epochs,batch_size=batch_size,validation_data=(x_test,y_test))"
   ]
  },
  {
   "cell_type": "code",
   "execution_count": 33,
   "metadata": {},
   "outputs": [],
   "source": [
    "from matplotlib import pyplot as plt"
   ]
  },
  {
   "cell_type": "code",
   "execution_count": 34,
   "metadata": {},
   "outputs": [
    {
     "name": "stdout",
     "output_type": "stream",
     "text": [
      "dict_keys(['loss', 'accuracy', 'val_loss', 'val_accuracy'])\n"
     ]
    },
    {
     "data": {
      "image/png": "[encoded data removed]",
      "text/plain": [
       "<Figure size 640x480 with 1 Axes>"
      ]
     },
     "metadata": {},
     "output_type": "display_data"
    },
    {
     "data": {
      "image/png": "[encoded data removed]",
      "text/plain": [
       "<Figure size 640x480 with 1 Axes>"
      ]
     },
     "metadata": {},
     "output_type": "display_data"
    }
   ],
   "source": [
    "print(history.history.keys())\n",
    "# summarize history for accuracy\n",
    "plt.plot(history.history['accuracy'])\n",
    "plt.plot(history.history['val_accuracy'])\n",
    "plt.title('model accuracy')\n",
    "plt.ylabel('accuracy')\n",
    "plt.xlabel('epoch')\n",
    "plt.legend(['train', 'test'], loc='upper left')\n",
    "plt.show()\n",
    "# summarize history for loss\n",
    "plt.plot(history.history['loss'])\n",
    "plt.plot(history.history['val_loss'])\n",
    "plt.title('model loss')\n",
    "plt.ylabel('loss')\n",
    "plt.xlabel('epoch')\n",
    "plt.legend(['train', 'test'], loc='upper left')\n",
    "plt.show()"
   ]
  },
  {
   "cell_type": "code",
   "execution_count": 35,
   "metadata": {},
   "outputs": [],
   "source": [
    "from keras.models import load_model"
   ]
  },
  {
   "cell_type": "code",
   "execution_count": 36,
   "metadata": {},
   "outputs": [],
   "source": [
    "model.save('LSTM_model.h5') \n",
    "del model"
   ]
  },
  {
   "cell_type": "code",
   "execution_count": 37,
   "metadata": {},
   "outputs": [],
   "source": [
    "model = load_model('LSTM_model.h5')"
   ]
  },
  {
   "cell_type": "code",
   "execution_count": 38,
   "metadata": {},
   "outputs": [
    {
     "name": "stdout",
     "output_type": "stream",
     "text": [
      "13/13 [==============================] - 1s 43ms/step - loss: 1.2363 - accuracy: 0.9627\n"
     ]
    },
    {
     "data": {
      "text/plain": [
       "[1.2363437414169312, 0.9626865386962891]"
      ]
     },
     "execution_count": 38,
     "metadata": {},
     "output_type": "execute_result"
    }
   ],
   "source": [
    "model.evaluate(x_test,y_test)"
   ]
  }
 ],
 "metadata": {
  "kernelspec": {
   "display_name": "Python 3.10.8 64-bit (microsoft store)",
   "language": "python",
   "name": "python3"
  },
  "language_info": {
   "codemirror_mode": {
    "name": "ipython",
    "version": 3
   },
   "file_extension": ".py",
   "mimetype": "text/x-python",
   "name": "python",
   "nbconvert_exporter": "python",
   "pygments_lexer": "ipython3",
   "version": "3.10.8"
  },
  "orig_nbformat": 4,
  "vscode": {
   "interpreter": {
    "hash": "3928ddc353f8a2c9be4da0a470a486be4ae30ec0aadff718d1bc910be592329a"
   }
  }
 },
 "nbformat": 4,
 "nbformat_minor": 2
}
