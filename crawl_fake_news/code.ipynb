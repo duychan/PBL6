{
 "cells": [
  {
   "cell_type": "code",
   "execution_count": 1,
   "metadata": {},
   "outputs": [],
   "source": [
    "import numpy as np\n",
    "import pandas as pd\n",
    "from selenium import webdriver\n",
    "from selenium.webdriver.common.by import By\n",
    "from webdriver_manager.chrome import ChromeDriverManager\n",
    "from bs4 import BeautifulSoup\n",
    "import time"
   ]
  },
  {
   "cell_type": "code",
   "execution_count": 2,
   "metadata": {},
   "outputs": [],
   "source": [
    "\n",
    "class_title = \"elementor-post__title\"\n",
    "class_content = \"elementor-widget-container\"\n",
    "class_next_page = \"page-numbers next\"\n",
    "title = []\n",
    "content = []"
   ]
  },
  {
   "cell_type": "code",
   "execution_count": 3,
   "metadata": {},
   "outputs": [
    {
     "name": "stderr",
     "output_type": "stream",
     "text": [
      "[WDM] - Downloading: 100%|██████████| 8.41M/8.41M [00:03<00:00, 2.36MB/s]\n",
      "/var/folders/3p/99_58tl56kzdbsb1dw6qrs3m0000gn/T/ipykernel_2075/3281982716.py:1: DeprecationWarning: executable_path has been deprecated, please pass in a Service object\n",
      "  driver = webdriver.Chrome(ChromeDriverManager().install())\n"
     ]
    }
   ],
   "source": [
    "driver = webdriver.Chrome(ChromeDriverManager().install())\n",
    "all_link = []\n",
    "\n",
    "site = 'https://viettan.org/page/100/?s=ch%C3%ADnh+tr%E1%BB%8B+nh%C3%A0+n%C6%B0%E1%BB%9Bc+%C4%91%E1%BA%A3ng'\n",
    "while True:\n",
    "  time.sleep(15)\n",
    "  driver.get(site)\n",
    "  soup = BeautifulSoup(driver.page_source, 'html.parser')\n",
    "  tags_news = soup.find_all('h3', class_=class_title)\n",
    "  next_button = soup.find('a', class_= class_next_page)['href']\n",
    "  for url in tags_news:\n",
    "    news = url.a.get('href')\n",
    "    driver.get(news)\n",
    "    soup = BeautifulSoup(driver.page_source, 'html.parser')\n",
    "    try:\n",
    "      tag_text = soup.find_all('div', class_content)[10]\n",
    "      text = ' '.join([tag.text for tag in tag_text.find_all('p')])\n",
    "      content.append(text)\n",
    "      title.append(url.text)\n",
    "    except:\n",
    "      pass\n",
    "  site = next_button\n",
    "  f'{len(content)} samples downloaded'\n",
    "  if len(content) > 500:\n",
    "    break\n",
    "driver.quit()"
   ]
  },
  {
   "cell_type": "code",
   "execution_count": 4,
   "metadata": {},
   "outputs": [],
   "source": [
    "label = ['fake' for _ in range(len(content))]"
   ]
  },
  {
   "cell_type": "code",
   "execution_count": 5,
   "metadata": {},
   "outputs": [],
   "source": [
    "data = {\n",
    "  \"Title\": title,\n",
    "  \"Content\": content,\n",
    "  \"label\": label\n",
    "}"
   ]
  },
  {
   "cell_type": "code",
   "execution_count": 6,
   "metadata": {},
   "outputs": [],
   "source": [
    "df = pd.DataFrame(data)"
   ]
  },
  {
   "cell_type": "code",
   "execution_count": 160,
   "metadata": {},
   "outputs": [],
   "source": [
    "df.to_csv('../dataset/fake_news/fake_news_500.csv')"
   ]
  }
 ],
 "metadata": {
  "kernelspec": {
   "display_name": "Python 3.10.5 64-bit",
   "language": "python",
   "name": "python3"
  },
  "language_info": {
   "codemirror_mode": {
    "name": "ipython",
    "version": 3
   },
   "file_extension": ".py",
   "mimetype": "text/x-python",
   "name": "python",
   "nbconvert_exporter": "python",
   "pygments_lexer": "ipython3",
   "version": "3.10.5"
  },
  "orig_nbformat": 4,
  "vscode": {
   "interpreter": {
    "hash": "aee8b7b246df8f9039afb4144a1f6fd8d2ca17a180786b69acc140d282b71a49"
   }
  }
 },
 "nbformat": 4,
 "nbformat_minor": 2
}
