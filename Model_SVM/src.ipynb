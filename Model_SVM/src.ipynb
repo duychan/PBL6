{
 "cells": [
  {
   "cell_type": "code",
   "execution_count": 3,
   "metadata": {},
   "outputs": [],
   "source": [
    "import pandas as pd \n",
    "import numpy as np\n",
    "from sklearn import svm, naive_bayes\n",
    "from sklearn.metrics import confusion_matrix\n",
    "from sklearn.metrics import classification_report\n",
    "import seaborn as sns\n",
    "import pickle"
   ]
  },
  {
   "cell_type": "code",
   "execution_count": 4,
   "metadata": {},
   "outputs": [],
   "source": [
    "data = pd.read_csv('../dataset/news_politics_final.csv')"
   ]
  },
  {
   "cell_type": "code",
   "execution_count": 5,
   "metadata": {},
   "outputs": [
    {
     "data": {
      "text/html": [
       "<div>\n",
       "<style scoped>\n",
       "    .dataframe tbody tr th:only-of-type {\n",
       "        vertical-align: middle;\n",
       "    }\n",
       "\n",
       "    .dataframe tbody tr th {\n",
       "        vertical-align: top;\n",
       "    }\n",
       "\n",
       "    .dataframe thead th {\n",
       "        text-align: right;\n",
       "    }\n",
       "</style>\n",
       "<table border=\"1\" class=\"dataframe\">\n",
       "  <thead>\n",
       "    <tr style=\"text-align: right;\">\n",
       "      <th></th>\n",
       "      <th>Unnamed: 0</th>\n",
       "      <th>Content</th>\n",
       "      <th>label</th>\n",
       "      <th>Content_processed</th>\n",
       "      <th>LengthContent</th>\n",
       "      <th>LengthContent_processed</th>\n",
       "    </tr>\n",
       "  </thead>\n",
       "  <tbody>\n",
       "    <tr>\n",
       "      <th>0</th>\n",
       "      <td>0</td>\n",
       "      <td>Dân trí trân trọng giới thiệu toàn văn Tuyên ...</td>\n",
       "      <td>real</td>\n",
       "      <td>dân_trí trân_trọng giới_thiệu toàn_văn tuyên_b...</td>\n",
       "      <td>6099</td>\n",
       "      <td>2473</td>\n",
       "    </tr>\n",
       "    <tr>\n",
       "      <th>1</th>\n",
       "      <td>1</td>\n",
       "      <td>Tổng Bí thư Nguyễn Phú Trọng hội kiến Chủ tị...</td>\n",
       "      <td>real</td>\n",
       "      <td>tổng_bí_thư nguyễn_phú_trọng hội_kiến chủ_tịch...</td>\n",
       "      <td>689</td>\n",
       "      <td>272</td>\n",
       "    </tr>\n",
       "    <tr>\n",
       "      <th>2</th>\n",
       "      <td>2</td>\n",
       "      <td>Tổng Bí thư Nguyễn Phú Trọng hội kiến Chủ tị...</td>\n",
       "      <td>real</td>\n",
       "      <td>tổng_bí_thư nguyễn_phú_trọng hội_kiến chủ_tịch...</td>\n",
       "      <td>598</td>\n",
       "      <td>226</td>\n",
       "    </tr>\n",
       "    <tr>\n",
       "      <th>3</th>\n",
       "      <td>3</td>\n",
       "      <td>Thảo luận tại hội trường Quốc hội về dự thảo ...</td>\n",
       "      <td>real</td>\n",
       "      <td>thảo_luận hội_trường quốc_hội dự_thảo luật_phò...</td>\n",
       "      <td>656</td>\n",
       "      <td>226</td>\n",
       "    </tr>\n",
       "    <tr>\n",
       "      <th>4</th>\n",
       "      <td>4</td>\n",
       "      <td>Thường trực Ban Bí thư Võ Văn Thưởng hội đà...</td>\n",
       "      <td>real</td>\n",
       "      <td>thường_trực_ban_bí_thư võ_văn_thưởng hội_đàm ủ...</td>\n",
       "      <td>193</td>\n",
       "      <td>77</td>\n",
       "    </tr>\n",
       "  </tbody>\n",
       "</table>\n",
       "</div>"
      ],
      "text/plain": [
       "   Unnamed: 0                                            Content label  \\\n",
       "0           0   Dân trí trân trọng giới thiệu toàn văn Tuyên ...  real   \n",
       "1           1    Tổng Bí thư Nguyễn Phú Trọng hội kiến Chủ tị...  real   \n",
       "2           2    Tổng Bí thư Nguyễn Phú Trọng hội kiến Chủ tị...  real   \n",
       "3           3   Thảo luận tại hội trường Quốc hội về dự thảo ...  real   \n",
       "4           4     Thường trực Ban Bí thư Võ Văn Thưởng hội đà...  real   \n",
       "\n",
       "                                   Content_processed  LengthContent  \\\n",
       "0  dân_trí trân_trọng giới_thiệu toàn_văn tuyên_b...           6099   \n",
       "1  tổng_bí_thư nguyễn_phú_trọng hội_kiến chủ_tịch...            689   \n",
       "2  tổng_bí_thư nguyễn_phú_trọng hội_kiến chủ_tịch...            598   \n",
       "3  thảo_luận hội_trường quốc_hội dự_thảo luật_phò...            656   \n",
       "4  thường_trực_ban_bí_thư võ_văn_thưởng hội_đàm ủ...            193   \n",
       "\n",
       "   LengthContent_processed  \n",
       "0                     2473  \n",
       "1                      272  \n",
       "2                      226  \n",
       "3                      226  \n",
       "4                       77  "
      ]
     },
     "execution_count": 5,
     "metadata": {},
     "output_type": "execute_result"
    }
   ],
   "source": [
    "data.head(5)"
   ]
  },
  {
   "cell_type": "code",
   "execution_count": 6,
   "metadata": {},
   "outputs": [
    {
     "data": {
      "text/plain": [
       "430.53824091778205"
      ]
     },
     "execution_count": 6,
     "metadata": {},
     "output_type": "execute_result"
    }
   ],
   "source": [
    "data.LengthContent_processed.sum()/len(list(data.LengthContent_processed))"
   ]
  },
  {
   "cell_type": "code",
   "execution_count": 7,
   "metadata": {},
   "outputs": [
    {
     "data": {
      "text/plain": [
       "((1464,), (1464,), (628,), (628,))"
      ]
     },
     "execution_count": 7,
     "metadata": {},
     "output_type": "execute_result"
    }
   ],
   "source": [
    "from sklearn.model_selection import train_test_split\n",
    "\n",
    "X_train, X_test, Y_train, Y_test = train_test_split(data[\"Content_processed\"], data[\"label\"], test_size= 0.3, random_state= 42)\n",
    "X_train.shape, Y_train.shape, X_test.shape, Y_test.shape"
   ]
  },
  {
   "attachments": {},
   "cell_type": "markdown",
   "metadata": {},
   "source": [
    "## Vectorizer"
   ]
  },
  {
   "cell_type": "code",
   "execution_count": 8,
   "metadata": {},
   "outputs": [
    {
     "data": {
      "text/plain": [
       "<1464x15421 sparse matrix of type '<class 'numpy.float64'>'\n",
       "\twith 323158 stored elements in Compressed Sparse Row format>"
      ]
     },
     "execution_count": 8,
     "metadata": {},
     "output_type": "execute_result"
    }
   ],
   "source": [
    "from sklearn.feature_extraction.text import TfidfVectorizer\n",
    "tf_idf_vec = TfidfVectorizer(min_df=2)\n",
    "tf_idf_train = tf_idf_vec.fit_transform(X_train)\n",
    "tf_idf_train"
   ]
  },
  {
   "attachments": {},
   "cell_type": "markdown",
   "metadata": {},
   "source": [
    "## Heatmap ConfusionMatrix"
   ]
  },
  {
   "cell_type": "code",
   "execution_count": 7,
   "metadata": {},
   "outputs": [],
   "source": [
    "import seaborn as sns\n",
    "def heatconmat(y_pred, y_test):\n",
    "  cnf_matrix = confusion_matrix(y_pred, y_test)\n",
    "  group_names = ['TN','FP','FN','TP']\n",
    "  group_counts = [\"{0:0.0f}\".format(value) for value in cnf_matrix.flatten()]\n",
    "  labels = [f\"{v1}\\n{v2}\" for v1, v2 in zip(group_names,group_counts)]\n",
    "  labels = np.asarray(labels).reshape(2,2)\n",
    "  sns.heatmap(cnf_matrix, annot=labels, fmt='', cmap='Blues')"
   ]
  },
  {
   "attachments": {},
   "cell_type": "markdown",
   "metadata": {},
   "source": [
    "## SVM"
   ]
  },
  {
   "attachments": {},
   "cell_type": "markdown",
   "metadata": {},
   "source": [
    "# Parameter Tuning"
   ]
  },
  {
   "cell_type": "code",
   "execution_count": null,
   "metadata": {},
   "outputs": [],
   "source": [
    "from sklearn.model_selection import StratifiedKFold, GridSearchCV, RandomizedSearchCV, cross_val_score\n",
    "\n",
    "param_grid = {'C': [0.1,1, 10, 100], 'gamma': [1,0.1,0.01,0.001],'kernel': ['rbf', 'poly', 'sigmoid']}\n",
    "# Set up score\n",
    "scoring = ['accuracy']\n",
    "# Set up the k-fold cross-validation\n",
    "kfold = StratifiedKFold(n_splits=10, shuffle=True, random_state=0)\n",
    "# Define grid search\n",
    "grid_search = GridSearchCV(estimator=svm.SVC(), \n",
    "                           param_grid=param_grid, \n",
    "                           scoring=scoring, \n",
    "                           refit='accuracy', \n",
    "                           n_jobs=-1, \n",
    "                           cv=kfold, \n",
    "                           verbose=0)\n",
    "# Fit grid search\n",
    "grid_result = grid_search.fit(X_train, Y_train)\n",
    "# Print grid search summary\n",
    "grid_result.best_params_"
   ]
  },
  {
   "attachments": {},
   "cell_type": "markdown",
   "metadata": {},
   "source": [
    "# Model with best parameter"
   ]
  },
  {
   "attachments": {},
   "cell_type": "markdown",
   "metadata": {},
   "source": [
    "### SVM"
   ]
  },
  {
   "cell_type": "code",
   "execution_count": 7,
   "metadata": {},
   "outputs": [
    {
     "name": "stdout",
     "output_type": "stream",
     "text": [
      "              precision    recall  f1-score   support\n",
      "\n",
      "        fake     0.9796    0.9763    0.9779       295\n",
      "        real     0.9790    0.9820    0.9805       333\n",
      "\n",
      "    accuracy                         0.9793       628\n",
      "   macro avg     0.9793    0.9791    0.9792       628\n",
      "weighted avg     0.9793    0.9793    0.9793       628\n",
      "\n"
     ]
    },
    {
     "data": {
      "image/png": "[encoded data removed]",
      "text/plain": [
       "<Figure size 640x480 with 2 Axes>"
      ]
     },
     "metadata": {},
     "output_type": "display_data"
    }
   ],
   "source": [
    "classifier = svm.SVC(C=10, gamma=0.1, kernel=\"sigmoid\")\n",
    "classifier.fit(tf_idf_train, Y_train)\n",
    "X_test_tf_idf = tf_idf_vec.transform(X_test)\n",
    "y_pred_tf_idf_svm = classifier.predict(X_test_tf_idf)\n",
    "heatconmat(y_pred_tf_idf_svm, Y_test)\n",
    "print(classification_report(y_pred_tf_idf_svm, Y_test, digits=4))"
   ]
  },
  {
   "cell_type": "code",
   "execution_count": 26,
   "metadata": {},
   "outputs": [
    {
     "name": "stdout",
     "output_type": "stream",
     "text": [
      "              precision    recall  f1-score   support\n",
      "\n",
      "        fake     0.9422    0.9685    0.9552       286\n",
      "        real     0.9731    0.9503    0.9615       342\n",
      "\n",
      "    accuracy                         0.9586       628\n",
      "   macro avg     0.9576    0.9594    0.9584       628\n",
      "weighted avg     0.9590    0.9586    0.9586       628\n",
      "\n"
     ]
    },
    {
     "data": {
      "image/png": "[encoded data removed]",
      "text/plain": [
       "<Figure size 640x480 with 2 Axes>"
      ]
     },
     "metadata": {},
     "output_type": "display_data"
    }
   ],
   "source": [
    "# fit the training dataset on the NB classifier\n",
    "Naive = naive_bayes.MultinomialNB()\n",
    "Naive.fit(tf_idf_train, Y_train)\n",
    "# predict the labels on validation dataset\n",
    "y_pred_tf_idf_bayes = Naive.predict(X_test_tf_idf)\n",
    "heatconmat(y_pred_tf_idf_bayes, Y_test)\n",
    "print(classification_report(y_pred_tf_idf_bayes, Y_test, digits=4))"
   ]
  },
  {
   "cell_type": "code",
   "execution_count": null,
   "metadata": {},
   "outputs": [],
   "source": [
    "from sklearn.model_selection import StratifiedKFold, GridSearchCV, RandomizedSearchCV, cross_val_score\n",
    "\n",
    "grid_params = { 'n_neighbors' : [5,7,9,11,13,15],\n",
    "               'weights' : ['uniform','distance'],\n",
    "               'metric' : ['minkowski','euclidean','manhattan']}\n",
    "# Set up score\n",
    "scoring = ['accuracy']\n",
    "# Set up the k-fold cross-validation\n",
    "kfold = StratifiedKFold(n_splits=10, shuffle=True, random_state=0)\n",
    "# Define grid search\n",
    "grid_search = GridSearchCV(estimator=neigh, \n",
    "                           param_grid=grid_params, \n",
    "                           scoring=scoring, \n",
    "                           refit='accuracy', \n",
    "                           n_jobs=-1, \n",
    "                           cv=kfold, \n",
    "                           verbose=0)\n",
    "# Fit grid search\n",
    "grid_result = grid_search.fit(X_train, Y_train)\n",
    "# Print grid search summary\n",
    "grid_result.best_params_"
   ]
  },
  {
   "cell_type": "code",
   "execution_count": 27,
   "metadata": {},
   "outputs": [
    {
     "name": "stdout",
     "output_type": "stream",
     "text": [
      "              precision    recall  f1-score   support\n",
      "\n",
      "        fake     0.8980    0.9496    0.9231       278\n",
      "        real     0.9581    0.9143    0.9357       350\n",
      "\n",
      "    accuracy                         0.9299       628\n",
      "   macro avg     0.9280    0.9320    0.9294       628\n",
      "weighted avg     0.9315    0.9299    0.9301       628\n",
      "\n"
     ]
    },
    {
     "data": {
      "image/png": "[encoded data removed]",
      "text/plain": [
       "<Figure size 640x480 with 2 Axes>"
      ]
     },
     "metadata": {},
     "output_type": "display_data"
    }
   ],
   "source": [
    "from sklearn.neighbors import KNeighborsClassifier\n",
    "neigh = KNeighborsClassifier(metric= 'minkowski', n_neighbors= 15, weights= 'uniform')\n",
    "neigh.fit(tf_idf_train, Y_train)\n",
    "y_pred_tf_idf_knn = neigh.predict(X_test_tf_idf)\n",
    "heatconmat(y_pred_tf_idf_knn, Y_test)\n",
    "print(classification_report(y_pred_tf_idf_knn, Y_test, digits=4))"
   ]
  },
  {
   "attachments": {},
   "cell_type": "markdown",
   "metadata": {},
   "source": [
    "# Pipeline"
   ]
  },
  {
   "cell_type": "code",
   "execution_count": 8,
   "metadata": {},
   "outputs": [],
   "source": [
    "from preprocess import Preprocesser\n",
    "preprocesser = Preprocesser()"
   ]
  },
  {
   "cell_type": "code",
   "execution_count": 9,
   "metadata": {},
   "outputs": [],
   "source": [
    "from sklearn.pipeline import Pipeline\n",
    "\n",
    "pipeLine = Pipeline([(\"prerocesser\", preprocesser),(\"vectorizer\", tf_idf_vec), (\"svm\", classifier)])"
   ]
  },
  {
   "cell_type": "code",
   "execution_count": 16,
   "metadata": {},
   "outputs": [
    {
     "data": {
      "text/plain": [
       "((1464,), (628,), (1464,), (628,))"
      ]
     },
     "execution_count": 16,
     "metadata": {},
     "output_type": "execute_result"
    }
   ],
   "source": [
    "X_train_pipe, X_test_pipe, Y_train_pipe, Y_test_pipe = train_test_split(data[\"Content\"], data[\"label\"], test_size= 0.3, random_state= 42)\n",
    "X_train_pipe.shape, X_test_pipe.shape, Y_train_pipe.shape, Y_test_pipe.shape"
   ]
  },
  {
   "cell_type": "code",
   "execution_count": 24,
   "metadata": {},
   "outputs": [],
   "source": [
    "SVM_pipeLine = pipeLine.fit(X_train_pipe, Y_train_pipe)"
   ]
  },
  {
   "cell_type": "code",
   "execution_count": 12,
   "metadata": {},
   "outputs": [],
   "source": [
    "\n",
    "pickle.dump(SVM_pipeLine, open(\"model_svm.sav\", \"wb\"))"
   ]
  },
  {
   "cell_type": "code",
   "execution_count": 13,
   "metadata": {},
   "outputs": [
    {
     "name": "stdout",
     "output_type": "stream",
     "text": [
      "              precision    recall  f1-score   support\n",
      "\n",
      "        fake     0.9763    0.9796    0.9779       294\n",
      "        real     0.9820    0.9790    0.9805       334\n",
      "\n",
      "    accuracy                         0.9793       628\n",
      "   macro avg     0.9791    0.9793    0.9792       628\n",
      "weighted avg     0.9793    0.9793    0.9793       628\n",
      "\n"
     ]
    }
   ],
   "source": [
    "SVM_tf_idf = pickle.load(open(\"model_svm.sav\", \"rb\"))\n",
    "y_svm_tf_idf_predict = SVM_tf_idf.predict(X_test_pipe)\n",
    "print(classification_report(Y_test_pipe, y_svm_tf_idf_predict, digits=4))"
   ]
  }
 ],
 "metadata": {
  "kernelspec": {
   "display_name": "Python 3.10.5 64-bit",
   "language": "python",
   "name": "python3"
  },
  "language_info": {
   "codemirror_mode": {
    "name": "ipython",
    "version": 3
   },
   "file_extension": ".py",
   "mimetype": "text/x-python",
   "name": "python",
   "nbconvert_exporter": "python",
   "pygments_lexer": "ipython3",
   "version": "3.10.5"
  },
  "orig_nbformat": 4,
  "vscode": {
   "interpreter": {
    "hash": "aee8b7b246df8f9039afb4144a1f6fd8d2ca17a180786b69acc140d282b71a49"
   }
  }
 },
 "nbformat": 4,
 "nbformat_minor": 2
}
